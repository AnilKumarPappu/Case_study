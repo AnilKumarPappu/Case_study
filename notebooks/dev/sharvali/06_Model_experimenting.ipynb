{
 "cells": [
  {
   "attachments": {},
   "cell_type": "markdown",
   "id": "2b4aa6b5-d448-42f2-b526-1d365f1952b5",
   "metadata": {},
   "source": [
    "# Imports"
   ]
  },
  {
   "cell_type": "code",
   "execution_count": 44,
   "id": "c85f6a3f-c3d0-4771-8d9c-b39bc73d4814",
   "metadata": {},
   "outputs": [],
   "source": [
    "import os\n",
    "import os.path as op\n",
    "import shutil\n",
    "\n",
    "# standard third party imports\n",
    "import numpy as np\n",
    "import pandas as pd\n",
    "from matplotlib import pyplot as plt\n",
    "from sklearn.pipeline import Pipeline\n",
    "from sklearn.feature_selection import SelectFromModel\n",
    "from sklearn.model_selection import GridSearchCV\n",
    "from sklearn.preprocessing import FunctionTransformer\n",
    "from sklearn.compose import ColumnTransformer\n",
    "\n",
    "# impute missing values\n",
    "from sklearn.experimental import enable_iterative_imputer  # noqa\n",
    "from sklearn.impute import KNNImputer, IterativeImputer, SimpleImputer\n",
    "from sklearn.tree import DecisionTreeRegressor\n",
    "from category_encoders import TargetEncoder"
   ]
  },
  {
   "cell_type": "code",
   "execution_count": 45,
   "id": "e95eeff1-fc30-40b3-a0ec-feb95a4ca4b3",
   "metadata": {},
   "outputs": [
    {
     "name": "stdout",
     "output_type": "stream",
     "text": [
      "The autoreload extension is already loaded. To reload it, use:\n",
      "  %reload_ext autoreload\n"
     ]
    }
   ],
   "source": [
    "%load_ext autoreload\n",
    "%autoreload 2"
   ]
  },
  {
   "cell_type": "code",
   "execution_count": 46,
   "id": "615d1eff-b34f-429d-b347-1ff178d56a8d",
   "metadata": {},
   "outputs": [],
   "source": [
    "import warnings\n",
    "\n",
    "warnings.filterwarnings('ignore', message=\"pandas.Int64Index is deprecated and will be removed from pandas in a future version. Use pandas.Index with the appropriate dtype instead.\", \n",
    "                        category=FutureWarning)\n",
    "warnings.filterwarnings('ignore', message=\"pandas.Float64Index is deprecated and will be removed from pandas in a future version. Use pandas.Index with the appropriate dtype instead.\",\n",
    "                        category=FutureWarning)"
   ]
  },
  {
   "cell_type": "code",
   "execution_count": 47,
   "id": "52040b54-99bd-467a-a0f5-fe7bc495acc6",
   "metadata": {
    "scrolled": true
   },
   "outputs": [],
   "source": [
    "# standard code-template imports\n",
    "from ta_lib.core.api import (\n",
    "    create_context, get_dataframe, get_feature_names_from_column_transformer, string_cleaning,\n",
    "    get_package_path, display_as_tabs, save_pipeline, load_pipeline, initialize_environment,\n",
    "    load_dataset, save_dataset, DEFAULT_ARTIFACTS_PATH\n",
    ")\n",
    "\n",
    "import ta_lib.eda.api as eda\n",
    "from xgboost import XGBRegressor\n",
    "from ta_lib.regression.api import SKLStatsmodelOLS\n",
    "from ta_lib.regression.api import RegressionComparison, RegressionReport\n",
    "import ta_lib.reports.api as reports\n",
    "from ta_lib.data_processing.api import Outlier\n",
    "\n",
    "initialize_environment(debug=False, hide_warnings=True)"
   ]
  },
  {
   "attachments": {},
   "cell_type": "markdown",
   "id": "5f2d0b9f-5418-4b58-b2b7-e17e2e8f3b07",
   "metadata": {},
   "source": [
    "# Initialisation"
   ]
  },
  {
   "cell_type": "code",
   "execution_count": 48,
   "id": "c93ab27a-3b7f-48d3-944a-484183867983",
   "metadata": {},
   "outputs": [],
   "source": [
    "artifacts_folder = DEFAULT_ARTIFACTS_PATH"
   ]
  },
  {
   "cell_type": "code",
   "execution_count": 49,
   "id": "05a065c7-eda2-4bf0-8a03-13d8de3f2542",
   "metadata": {},
   "outputs": [],
   "source": [
    "config_path = op.join('conf', 'config.yml')\n",
    "context = create_context(config_path)"
   ]
  },
  {
   "cell_type": "code",
   "execution_count": 50,
   "id": "d03d341a-76ca-4f22-ab2a-a75951420db9",
   "metadata": {},
   "outputs": [
    {
     "name": "stdout",
     "output_type": "stream",
     "text": [
      "(2084, 6) (2084, 1)\n",
      "(522, 6) (522, 1)\n"
     ]
    }
   ],
   "source": [
    "train_X = load_dataset(context, 'train/features')\n",
    "train_y = load_dataset(context, 'train/target')\n",
    "print(train_X.shape, train_y.shape)\n",
    "\n",
    "test_X = load_dataset(context, 'test/features')\n",
    "test_y = load_dataset(context, 'test/target')\n",
    "print(test_X.shape, test_y.shape)"
   ]
  },
  {
   "attachments": {},
   "cell_type": "markdown",
   "id": "4cc3ffd7-6e93-4d06-81a4-a6436685bfb6",
   "metadata": {},
   "source": [
    "# Feature Engineering \n",
    "\n",
    " - Outlier Treatment\n",
    " - Encoding of Categorical Columns\n",
    " - Missing Values Imputation"
   ]
  },
  {
   "cell_type": "code",
   "execution_count": 51,
   "id": "3e49fcec-d57f-46af-abf5-d9fbe63625e7",
   "metadata": {},
   "outputs": [],
   "source": [
    "# collecting different types of columns for transformations\n",
    "cat_columns = train_X.select_dtypes('object').columns\n",
    "num_columns = train_X.select_dtypes('number').columns"
   ]
  },
  {
   "attachments": {},
   "cell_type": "markdown",
   "id": "ab6fddbf-4d42-487d-a21c-360a10108753",
   "metadata": {},
   "source": [
    "## Outlier Handling"
   ]
  },
  {
   "cell_type": "code",
   "execution_count": 52,
   "id": "0322b24b-8699-4c9a-892f-d90697e8d04b",
   "metadata": {},
   "outputs": [
    {
     "name": "stdout",
     "output_type": "stream",
     "text": [
      "(2084, 6)\n",
      "(2084, 6)\n"
     ]
    }
   ],
   "source": [
    "outlier_transformer = Outlier(method='mean')\n",
    "print(train_X.shape)\n",
    "train_X = outlier_transformer.fit_transform(train_X)\n",
    "print(train_X.shape)"
   ]
  },
  {
   "attachments": {},
   "cell_type": "markdown",
   "id": "af73960d-1e7f-4fb7-8e25-d69964b845d6",
   "metadata": {},
   "source": [
    "## Encoding\n",
    "\n",
    "Since there are no categorical columns, no encoding is required"
   ]
  },
  {
   "cell_type": "code",
   "execution_count": 53,
   "id": "ff01ac5e-0db6-4797-8213-e0c007bfe1e7",
   "metadata": {},
   "outputs": [
    {
     "data": {
      "text/plain": [
       "Index([], dtype='object')"
      ]
     },
     "execution_count": 53,
     "metadata": {},
     "output_type": "execute_result"
    }
   ],
   "source": [
    "cat_columns"
   ]
  },
  {
   "cell_type": "code",
   "execution_count": 54,
   "id": "17774edf-92c1-40b3-ab71-64787840aaa8",
   "metadata": {},
   "outputs": [],
   "source": [
    "tgt_enc_simple_impt = Pipeline([\n",
    "    ('simple_impute', SimpleImputer(strategy='most_frequent')),\n",
    "])\n",
    "\n",
    "features_transformer = ColumnTransformer([\n",
    "    ## numeric columns\n",
    "    ('med_enc', SimpleImputer(strategy='median'), num_columns),\n",
    "    \n",
    "])\n"
   ]
  },
  {
   "attachments": {},
   "cell_type": "markdown",
   "id": "256e0f22-7a62-48a1-8433-8348aceb53ae",
   "metadata": {},
   "source": [
    "# Feature Analysis"
   ]
  },
  {
   "cell_type": "code",
   "execution_count": 55,
   "id": "c64c8385-c0be-4b22-b82a-2e960d14382d",
   "metadata": {},
   "outputs": [],
   "source": [
    "sample_X = train_X.sample(frac=0.1, random_state=context.random_seed)\n",
    "sample_y = train_y.loc[sample_X.index]\n",
    "\n",
    "sample_train_X = get_dataframe(\n",
    "    features_transformer.fit_transform(sample_X, sample_y), \n",
    "    get_feature_names_from_column_transformer(features_transformer)\n",
    ")\n",
    "\n",
    "# nothing to do for target\n",
    "sample_train_y = sample_y"
   ]
  },
  {
   "cell_type": "code",
   "execution_count": 56,
   "id": "88f45305-cf81-45d9-a54c-869065c26859",
   "metadata": {},
   "outputs": [],
   "source": [
    "train_X = get_dataframe(\n",
    "    features_transformer.fit_transform(train_X, train_y), \n",
    "    get_feature_names_from_column_transformer(features_transformer)\n",
    ")"
   ]
  },
  {
   "attachments": {},
   "cell_type": "markdown",
   "id": "72b997ba-8075-47d6-811b-2e81ba1050a0",
   "metadata": {},
   "source": [
    "## 1. Univariate"
   ]
  },
  {
   "cell_type": "code",
   "execution_count": 57,
   "id": "e8ffce43-2434-4d91-97e7-ecec6bdcd2f8",
   "metadata": {},
   "outputs": [
    {
     "data": {
      "text/plain": [
       "Index(['year', 'week', 'total_post', 'claim_id', 'search_volume',\n",
       "       'weight_per_unit'],\n",
       "      dtype='object')"
      ]
     },
     "execution_count": 57,
     "metadata": {},
     "output_type": "execute_result"
    }
   ],
   "source": [
    "train_X.columns"
   ]
  },
  {
   "cell_type": "code",
   "execution_count": 58,
   "id": "aa64b5e2-14f9-472b-8c6f-77f1d5ae2318",
   "metadata": {},
   "outputs": [
    {
     "data": {},
     "metadata": {},
     "output_type": "display_data"
    },
    {
     "data": {
      "application/vnd.holoviews_exec.v0+json": "",
      "text/html": [
       "<div id='1002'>\n",
       "  <div class=\"bk-root\" id=\"11463b57-edcf-494f-b4ee-17f346809332\" data-root-id=\"1002\"></div>\n",
       "</div>\n",
       "<script type=\"application/javascript\">(function(root) {\n",
       "  function embed_document(root) {\n",
       "    var docs_json = {\"1d7e6dcc-1078-4ec5-b4e6-851c5f53ffcc\":{\"defs\":[{\"extends\":null,\"module\":null,\"name\":\"ReactiveHTML1\",\"overrides\":[],\"properties\":[]},{\"extends\":null,\"module\":null,\"name\":\"FlexBox1\",\"overrides\":[],\"properties\":[{\"default\":\"flex-start\",\"kind\":null,\"name\":\"align_content\"},{\"default\":\"flex-start\",\"kind\":null,\"name\":\"align_items\"},{\"default\":\"row\",\"kind\":null,\"name\":\"flex_direction\"},{\"default\":\"wrap\",\"kind\":null,\"name\":\"flex_wrap\"},{\"default\":\"flex-start\",\"kind\":null,\"name\":\"justify_content\"}]},{\"extends\":null,\"module\":null,\"name\":\"GridStack1\",\"overrides\":[],\"properties\":[{\"default\":\"warn\",\"kind\":null,\"name\":\"mode\"},{\"default\":null,\"kind\":null,\"name\":\"ncols\"},{\"default\":null,\"kind\":null,\"name\":\"nrows\"},{\"default\":true,\"kind\":null,\"name\":\"allow_resize\"},{\"default\":true,\"kind\":null,\"name\":\"allow_drag\"},{\"default\":[],\"kind\":null,\"name\":\"state\"}]},{\"extends\":null,\"module\":null,\"name\":\"click1\",\"overrides\":[],\"properties\":[{\"default\":\"\",\"kind\":null,\"name\":\"terminal_output\"},{\"default\":\"\",\"kind\":null,\"name\":\"debug_name\"},{\"default\":0,\"kind\":null,\"name\":\"clears\"}]},{\"extends\":null,\"module\":null,\"name\":\"NotificationAreaBase1\",\"overrides\":[],\"properties\":[{\"default\":\"bottom-right\",\"kind\":null,\"name\":\"position\"},{\"default\":0,\"kind\":null,\"name\":\"_clear\"}]},{\"extends\":null,\"module\":null,\"name\":\"NotificationArea1\",\"overrides\":[],\"properties\":[{\"default\":[],\"kind\":null,\"name\":\"notifications\"},{\"default\":\"bottom-right\",\"kind\":null,\"name\":\"position\"},{\"default\":0,\"kind\":null,\"name\":\"_clear\"},{\"default\":[{\"background\":\"#ffc107\",\"icon\":{\"className\":\"fas fa-exclamation-triangle\",\"color\":\"white\",\"tagName\":\"i\"},\"type\":\"warning\"},{\"background\":\"#007bff\",\"icon\":{\"className\":\"fas fa-info-circle\",\"color\":\"white\",\"tagName\":\"i\"},\"type\":\"info\"}],\"kind\":null,\"name\":\"types\"}]},{\"extends\":null,\"module\":null,\"name\":\"Notification\",\"overrides\":[],\"properties\":[{\"default\":null,\"kind\":null,\"name\":\"background\"},{\"default\":3000,\"kind\":null,\"name\":\"duration\"},{\"default\":null,\"kind\":null,\"name\":\"icon\"},{\"default\":\"\",\"kind\":null,\"name\":\"message\"},{\"default\":null,\"kind\":null,\"name\":\"notification_type\"},{\"default\":false,\"kind\":null,\"name\":\"_destroyed\"}]},{\"extends\":null,\"module\":null,\"name\":\"TemplateActions1\",\"overrides\":[],\"properties\":[{\"default\":0,\"kind\":null,\"name\":\"open_modal\"},{\"default\":0,\"kind\":null,\"name\":\"close_modal\"}]},{\"extends\":null,\"module\":null,\"name\":\"MaterialTemplateActions1\",\"overrides\":[],\"properties\":[{\"default\":0,\"kind\":null,\"name\":\"open_modal\"},{\"default\":0,\"kind\":null,\"name\":\"close_modal\"}]}],\"roots\":{\"references\":[{\"attributes\":{},\"id\":\"1232\",\"type\":\"UnionRenderers\"},{\"attributes\":{},\"id\":\"1044\",\"type\":\"BasicTickFormatter\"},{\"attributes\":{},\"id\":\"1045\",\"type\":\"AllLabels\"},{\"attributes\":{},\"id\":\"1015\",\"type\":\"LinearScale\"},{\"attributes\":{\"children\":[[{\"id\":\"1010\"},0,0],[{\"id\":\"1213\"},1,0]]},\"id\":\"1234\",\"type\":\"GridBox\"},{\"attributes\":{\"end\":925.16,\"reset_end\":1007.5999999677953,\"reset_start\":0.0,\"tags\":[[[\"Frequency\",\"Frequency\",null]]]},\"id\":\"1008\",\"type\":\"Range1d\"},{\"attributes\":{\"callback\":null,\"renderers\":[{\"id\":\"1061\"}],\"tags\":[\"hv_created\"],\"tooltips\":[[\"total_post\",\"@{total_post}\"],[\"Density\",\"@{total_post_density}\"]]},\"id\":\"1009\",\"type\":\"HoverTool\"},{\"attributes\":{\"bottom\":{\"value\":0},\"fill_alpha\":{\"value\":0.2},\"fill_color\":{\"value\":\"#00fff0\"},\"hatch_alpha\":{\"value\":0.2},\"hatch_color\":{\"value\":\"#00fff0\"},\"left\":{\"field\":\"left\"},\"line_alpha\":{\"value\":0.2},\"right\":{\"field\":\"right\"},\"top\":{\"field\":\"top\"}},\"id\":\"1051\",\"type\":\"Quad\"},{\"attributes\":{\"below\":[{\"id\":\"1019\"}],\"center\":[{\"id\":\"1022\"},{\"id\":\"1026\"}],\"extra_y_ranges\":{\"twiny\":{\"id\":\"1064\"}},\"height\":300,\"left\":[{\"id\":\"1023\"}],\"margin\":null,\"min_border_bottom\":10,\"min_border_left\":10,\"min_border_right\":10,\"min_border_top\":10,\"renderers\":[{\"id\":\"1052\"},{\"id\":\"1061\"}],\"right\":[{\"id\":\"1065\"}],\"sizing_mode\":\"fixed\",\"title\":{\"id\":\"1011\"},\"toolbar\":{\"id\":\"1033\"},\"toolbar_location\":null,\"x_range\":{\"id\":\"1007\"},\"x_scale\":{\"id\":\"1015\"},\"y_range\":{\"id\":\"1008\"},\"y_scale\":{\"id\":\"1017\"}},\"id\":\"1010\",\"subtype\":\"Figure\",\"type\":\"Plot\"},{\"attributes\":{\"margin\":[5,5,5,5],\"name\":\"HSpacer03001\",\"sizing_mode\":\"stretch_width\"},\"id\":\"1003\",\"type\":\"Spacer\"},{\"attributes\":{\"data\":{\"left\":{\"__ndarray__\":\"AAAAAAAAAABmVlrbK7RuQGZWWtsrtH5AzMCD5CAHh0BmVlrbK7SOQAB2GGmbMJNAzMCD5CAHl0CZC+9fpt2aQGZWWtsrtJ5AmdBiq1hFoUAAdhhpmzCjQGYbzibeG6VAzMCD5CAHp0AzZjmiY/KoQJkL71+m3apAALGkHenIrEBmVlrbK7SuQOb9h0y3T7BAmdBiq1hFsUBNoz0K+jqyQA==\",\"dtype\":\"float64\",\"order\":\"little\",\"shape\":[20]},\"right\":{\"__ndarray__\":\"ZlZa2yu0bkBmVlrbK7R+QMzAg+QgB4dAZlZa2yu0jkAAdhhpmzCTQMzAg+QgB5dAmQvvX6bdmkBmVlrbK7SeQJnQYqtYRaFAAHYYaZswo0BmG84m3hulQMzAg+QgB6dAM2Y5omPyqECZC+9fpt2qQACxpB3pyKxAZlZa2yu0rkDm/YdMt0+wQJnQYqtYRbFATaM9Cvo6skAAdhhpmzCzQA==\",\"dtype\":\"float64\",\"order\":\"little\",\"shape\":[20]},\"top\":[916,469,166,85,51,51,54,71,67,38,17,18,6,15,7,8,7,3,2,33]},\"selected\":{\"id\":\"1047\"},\"selection_policy\":{\"id\":\"1076\"}},\"id\":\"1046\",\"type\":\"ColumnDataSource\"},{\"attributes\":{},\"id\":\"1071\",\"type\":\"BasicTickFormatter\"},{\"attributes\":{\"children\":[{\"id\":\"1005\"},{\"id\":\"1423\"}],\"margin\":[0,0,0,0],\"name\":\"Column03005\"},\"id\":\"1004\",\"type\":\"Column\"},{\"attributes\":{\"coordinates\":null,\"data_source\":{\"id\":\"1046\"},\"glyph\":{\"id\":\"1049\"},\"group\":null,\"hover_glyph\":null,\"muted_glyph\":{\"id\":\"1051\"},\"nonselection_glyph\":{\"id\":\"1050\"},\"selection_glyph\":{\"id\":\"1054\"},\"view\":{\"id\":\"1053\"}},\"id\":\"1052\",\"type\":\"GlyphRenderer\"},{\"attributes\":{\"end\":5849.388677946671,\"reset_end\":5849.388677946671,\"reset_start\":-936.7816055658336,\"start\":-936.7816055658336,\"tags\":[[[\"x\",\"x\",null]]]},\"id\":\"1007\",\"type\":\"Range1d\"},{\"attributes\":{},\"id\":\"1070\",\"type\":\"BasicTicker\"},{\"attributes\":{\"source\":{\"id\":\"1046\"}},\"id\":\"1053\",\"type\":\"CDSView\"},{\"attributes\":{},\"id\":\"1072\",\"type\":\"AllLabels\"},{\"attributes\":{\"coordinates\":null,\"group\":null,\"text\":\"Density Plot for total_post\",\"text_color\":\"black\",\"text_font_size\":\"12pt\"},\"id\":\"1011\",\"type\":\"Title\"},{\"attributes\":{\"editor\":{\"id\":\"1366\"},\"field\":\"count\",\"formatter\":{\"id\":\"1365\"},\"title\":\"count\"},\"id\":\"1367\",\"type\":\"TableColumn\"},{\"attributes\":{\"bottom\":{\"value\":0},\"fill_alpha\":{\"value\":0.1},\"fill_color\":{\"value\":\"#00fff0\"},\"hatch_alpha\":{\"value\":0.1},\"hatch_color\":{\"value\":\"#00fff0\"},\"left\":{\"field\":\"left\"},\"line_alpha\":{\"value\":0.1},\"right\":{\"field\":\"right\"},\"top\":{\"field\":\"top\"}},\"id\":\"1050\",\"type\":\"Quad\"},{\"attributes\":{},\"id\":\"1042\",\"type\":\"AllLabels\"},{\"attributes\":{\"editor\":{\"id\":\"1381\"},\"field\":\"min\",\"formatter\":{\"id\":\"1380\"},\"title\":\"min\"},\"id\":\"1382\",\"type\":\"TableColumn\"},{\"attributes\":{\"axis\":{\"id\":\"1019\"},\"coordinates\":null,\"grid_line_color\":null,\"group\":null,\"ticker\":null},\"id\":\"1022\",\"type\":\"Grid\"},{\"attributes\":{},\"id\":\"1020\",\"type\":\"BasicTicker\"},{\"attributes\":{\"toolbar\":{\"id\":\"1235\"},\"toolbar_location\":\"above\"},\"id\":\"1236\",\"type\":\"ToolbarBox\"},{\"attributes\":{\"editor\":{\"id\":\"1376\"},\"field\":\"std\",\"formatter\":{\"id\":\"1375\"},\"title\":\"std\"},\"id\":\"1377\",\"type\":\"TableColumn\"},{\"attributes\":{\"bottom\":{\"value\":0},\"fill_alpha\":{\"value\":1.0},\"fill_color\":{\"value\":\"#00fff0\"},\"hatch_alpha\":{\"value\":1.0},\"hatch_color\":{\"value\":\"#00fff0\"},\"hatch_scale\":{\"value\":12.0},\"hatch_weight\":{\"value\":1.0},\"left\":{\"field\":\"left\"},\"line_alpha\":{\"value\":1.0},\"line_cap\":{\"value\":\"butt\"},\"line_color\":{\"value\":\"black\"},\"line_dash\":{\"value\":[]},\"line_dash_offset\":{\"value\":0},\"line_join\":{\"value\":\"bevel\"},\"line_width\":{\"value\":1},\"right\":{\"field\":\"right\"},\"top\":{\"field\":\"top\"}},\"id\":\"1054\",\"type\":\"Quad\"},{\"attributes\":{\"client_comm_id\":\"de7acf7f13184aa5be124968b4b0d0e4\",\"comm_id\":\"c064d0ee8e344b289800240a122f532d\",\"plot_id\":\"1002\"},\"id\":\"1480\",\"type\":\"panel.models.comm_manager.CommManager\"},{\"attributes\":{\"axis_label\":\"total_post\",\"coordinates\":null,\"formatter\":{\"id\":\"1041\"},\"group\":null,\"major_label_policy\":{\"id\":\"1042\"},\"ticker\":{\"id\":\"1020\"}},\"id\":\"1019\",\"type\":\"LinearAxis\"},{\"attributes\":{\"editor\":{\"id\":\"1371\"},\"field\":\"mean\",\"formatter\":{\"id\":\"1370\"},\"title\":\"mean\"},\"id\":\"1372\",\"type\":\"TableColumn\"},{\"attributes\":{\"style\":{\"white-space\":\"nowrap\"},\"text\":\"<span style=\\\"color:black;font-family:Arial;font-style:bold;font-weight:bold;font-size:12pt\\\">col: total_post</span>\",\"width\":450},\"id\":\"1238\",\"type\":\"Div\"},{\"attributes\":{},\"id\":\"1017\",\"type\":\"LinearScale\"},{\"attributes\":{\"editor\":{\"id\":\"1386\"},\"field\":\"A_25_percent\",\"formatter\":{\"id\":\"1385\"},\"title\":\"25%\"},\"id\":\"1387\",\"type\":\"TableColumn\"},{\"attributes\":{},\"id\":\"1076\",\"type\":\"UnionRenderers\"},{\"attributes\":{\"children\":[{\"id\":\"1006\"},{\"id\":\"1239\"},{\"id\":\"1422\"}],\"margin\":[0,0,0,0],\"name\":\"Row03004\"},\"id\":\"1005\",\"type\":\"Row\"},{\"attributes\":{\"axis_label\":\"Frequency\",\"coordinates\":null,\"formatter\":{\"id\":\"1044\"},\"group\":null,\"major_label_policy\":{\"id\":\"1045\"},\"ticker\":{\"id\":\"1024\"}},\"id\":\"1023\",\"type\":\"LinearAxis\"},{\"attributes\":{},\"id\":\"1024\",\"type\":\"BasicTicker\"},{\"attributes\":{\"format\":\"0,0.0[00000]\"},\"id\":\"1390\",\"type\":\"NumberFormatter\"},{\"attributes\":{\"margin\":[5,5,5,5],\"name\":\"HSpacer03006\",\"sizing_mode\":\"stretch_width\"},\"id\":\"1428\",\"type\":\"Spacer\"},{\"attributes\":{\"axis\":{\"id\":\"1023\"},\"coordinates\":null,\"dimension\":1,\"grid_line_color\":null,\"group\":null,\"ticker\":null},\"id\":\"1026\",\"type\":\"Grid\"},{\"attributes\":{},\"id\":\"1027\",\"type\":\"SaveTool\"},{\"attributes\":{\"fill_alpha\":0.5,\"fill_color\":\"#30a2da\",\"hatch_alpha\":0.1,\"hatch_color\":\"#30a2da\",\"line_alpha\":1,\"x\":{\"field\":\"x\"},\"y\":{\"field\":\"y\"}},\"id\":\"1059\",\"type\":\"Patch\"},{\"attributes\":{\"bottom_units\":\"screen\",\"coordinates\":null,\"fill_alpha\":0.5,\"fill_color\":\"lightgrey\",\"group\":null,\"left_units\":\"screen\",\"level\":\"overlay\",\"line_alpha\":1.0,\"line_color\":\"black\",\"line_dash\":[4,4],\"line_width\":2,\"right_units\":\"screen\",\"syncable\":false,\"top_units\":\"screen\"},\"id\":\"1032\",\"type\":\"BoxAnnotation\"},{\"attributes\":{},\"id\":\"1028\",\"type\":\"PanTool\"},{\"attributes\":{},\"id\":\"1381\",\"type\":\"NumberEditor\"},{\"attributes\":{},\"id\":\"1029\",\"type\":\"WheelZoomTool\"},{\"attributes\":{},\"id\":\"1396\",\"type\":\"NumberEditor\"},{\"attributes\":{},\"id\":\"1376\",\"type\":\"NumberEditor\"},{\"attributes\":{\"overlay\":{\"id\":\"1032\"}},\"id\":\"1030\",\"type\":\"BoxZoomTool\"},{\"attributes\":{\"margin\":[5,5,5,5],\"name\":\"HSpacer03003\",\"sizing_mode\":\"stretch_width\"},\"id\":\"1422\",\"type\":\"Spacer\"},{\"attributes\":{\"coordinates\":null,\"data_source\":{\"id\":\"1055\"},\"glyph\":{\"id\":\"1058\"},\"group\":null,\"hover_glyph\":null,\"muted_glyph\":{\"id\":\"1060\"},\"nonselection_glyph\":{\"id\":\"1059\"},\"selection_glyph\":{\"id\":\"1063\"},\"view\":{\"id\":\"1062\"},\"y_range_name\":\"twiny\"},\"id\":\"1061\",\"type\":\"GlyphRenderer\"},{\"attributes\":{},\"id\":\"1031\",\"type\":\"ResetTool\"},{\"attributes\":{\"format\":\"0,0.0[00000]\"},\"id\":\"1375\",\"type\":\"NumberFormatter\"},{\"attributes\":{\"margin\":[5,5,5,5],\"name\":\"HSpacer02998\",\"sizing_mode\":\"stretch_width\"},\"id\":\"1424\",\"type\":\"Spacer\"},{\"attributes\":{\"margin\":[5,5,5,5],\"name\":\"HSpacer03002\",\"sizing_mode\":\"stretch_width\"},\"id\":\"1006\",\"type\":\"Spacer\"},{\"attributes\":{\"children\":[{\"id\":\"1426\"}],\"css_classes\":[\"panel-widget-box\"],\"margin\":[5,5,5,5],\"name\":\"WidgetBox02993\"},\"id\":\"1425\",\"type\":\"Column\"},{\"attributes\":{\"format\":\"0,0.0[00000]\"},\"id\":\"1380\",\"type\":\"NumberFormatter\"},{\"attributes\":{},\"id\":\"1078\",\"type\":\"UnionRenderers\"},{\"attributes\":{},\"id\":\"1366\",\"type\":\"NumberEditor\"},{\"attributes\":{\"format\":\"0,0.0[00000]\"},\"id\":\"1385\",\"type\":\"NumberFormatter\"},{\"attributes\":{\"format\":\"0,0.0[00000]\"},\"id\":\"1370\",\"type\":\"NumberFormatter\"},{\"attributes\":{\"source\":{\"id\":\"1171\"}},\"id\":\"1215\",\"type\":\"CDSView\"},{\"attributes\":{},\"id\":\"1391\",\"type\":\"NumberEditor\"},{\"attributes\":{\"margin\":[20,20,20,20],\"min_width\":250,\"options\":[\"total_post\",\"search_volume\"],\"title\":\"col\",\"value\":\"total_post\",\"width\":250},\"id\":\"1426\",\"type\":\"panel.models.widgets.CustomSelect\"},{\"attributes\":{},\"id\":\"1386\",\"type\":\"NumberEditor\"},{\"attributes\":{\"fill_alpha\":0.2,\"fill_color\":\"#30a2da\",\"hatch_alpha\":0.2,\"hatch_color\":\"#30a2da\",\"line_alpha\":0.2,\"x\":{\"field\":\"x\"},\"y\":{\"field\":\"y\"}},\"id\":\"1060\",\"type\":\"Patch\"},{\"attributes\":{},\"id\":\"1371\",\"type\":\"NumberEditor\"},{\"attributes\":{\"margin\":[5,5,5,5],\"name\":\"HSpacer02999\",\"sizing_mode\":\"stretch_width\"},\"id\":\"1427\",\"type\":\"Spacer\"},{\"attributes\":{\"format\":\"0,0.0[00000]\"},\"id\":\"1365\",\"type\":\"NumberFormatter\"},{\"attributes\":{\"editor\":{\"id\":\"1396\"},\"field\":\"A_75_percent\",\"formatter\":{\"id\":\"1395\"},\"title\":\"75%\"},\"id\":\"1397\",\"type\":\"TableColumn\"},{\"attributes\":{\"toolbars\":[{\"id\":\"1033\"}],\"tools\":[{\"id\":\"1009\"},{\"id\":\"1027\"},{\"id\":\"1028\"},{\"id\":\"1029\"},{\"id\":\"1030\"},{\"id\":\"1031\"}]},\"id\":\"1235\",\"type\":\"ProxyToolbar\"},{\"attributes\":{\"bottom\":{\"value\":0},\"fill_color\":{\"value\":\"#00fff0\"},\"hatch_color\":{\"value\":\"#00fff0\"},\"left\":{\"field\":\"left\"},\"right\":{\"field\":\"right\"},\"top\":{\"field\":\"top\"}},\"id\":\"1049\",\"type\":\"Quad\"},{\"attributes\":{\"editor\":{\"id\":\"1391\"},\"field\":\"A_50_percent\",\"formatter\":{\"id\":\"1390\"},\"title\":\"50%\"},\"id\":\"1392\",\"type\":\"TableColumn\"},{\"attributes\":{\"fill_alpha\":0.5,\"fill_color\":\"#30a2da\",\"hatch_color\":\"#30a2da\",\"x\":{\"field\":\"x\"},\"y\":{\"field\":\"y\"}},\"id\":\"1063\",\"type\":\"Patch\"},{\"attributes\":{\"children\":[{\"id\":\"1424\"},{\"id\":\"1425\"},{\"id\":\"1427\"}],\"margin\":[0,0,0,0],\"name\":\"Row03000\"},\"id\":\"1423\",\"type\":\"Row\"},{\"attributes\":{},\"id\":\"1401\",\"type\":\"NumberEditor\"},{\"attributes\":{\"fill_alpha\":0.5,\"fill_color\":\"#30a2da\",\"hatch_color\":\"#30a2da\",\"x\":{\"field\":\"x\"},\"y\":{\"field\":\"y\"}},\"id\":\"1058\",\"type\":\"Patch\"},{\"attributes\":{},\"id\":\"1047\",\"type\":\"Selection\"},{\"attributes\":{\"format\":\"0,0.0[00000]\"},\"id\":\"1395\",\"type\":\"NumberFormatter\"},{\"attributes\":{\"source\":{\"id\":\"1055\"}},\"id\":\"1062\",\"type\":\"CDSView\"},{\"attributes\":{\"editor\":{\"id\":\"1401\"},\"field\":\"max\",\"formatter\":{\"id\":\"1400\"},\"title\":\"max\"},\"id\":\"1402\",\"type\":\"TableColumn\"},{\"attributes\":{\"tools\":[{\"id\":\"1009\"},{\"id\":\"1027\"},{\"id\":\"1028\"},{\"id\":\"1029\"},{\"id\":\"1030\"},{\"id\":\"1031\"}]},\"id\":\"1033\",\"type\":\"Toolbar\"},{\"attributes\":{\"end\":0.00106970344068081},\"id\":\"1064\",\"type\":\"Range1d\"},{\"attributes\":{\"format\":\"0,0.0[00000]\"},\"id\":\"1400\",\"type\":\"NumberFormatter\"},{\"attributes\":{\"children\":[{\"id\":\"1236\"},{\"id\":\"1234\"}]},\"id\":\"1237\",\"type\":\"Column\"},{\"attributes\":{\"children\":[{\"id\":\"1003\"},{\"id\":\"1004\"},{\"id\":\"1428\"}],\"margin\":[0,0,0,0],\"name\":\"Row02992\"},\"id\":\"1002\",\"type\":\"Row\"},{\"attributes\":{},\"id\":\"1041\",\"type\":\"BasicTickFormatter\"},{\"attributes\":{},\"id\":\"1056\",\"type\":\"Selection\"},{\"attributes\":{\"children\":[{\"id\":\"1238\"},{\"id\":\"1237\"}]},\"id\":\"1239\",\"type\":\"Column\"},{\"attributes\":{\"axis_label\":\"total_post_density, y\",\"coordinates\":null,\"formatter\":{\"id\":\"1071\"},\"group\":null,\"major_label_policy\":{\"id\":\"1072\"},\"ticker\":{\"id\":\"1070\"},\"y_range_name\":\"twiny\"},\"id\":\"1065\",\"type\":\"LinearAxis\"},{\"attributes\":{\"data\":{\"x\":{\"__ndarray__\":\"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\",\"dtype\":\"float64\",\"order\":\"little\",\"shape\":[200]},\"y\":{\"__ndarray__\":\"AAAAAAAAAAAAAAAAAAAAAAAAAAAAAAAAAAAAAAAAAAAAAAAAAAAAAAAAAAAAAAAAAAAAAAAAAAAAAAAAAAAAAAAAAAAAAAAAAAAAAAAAAAAAAAAAAAAAAAAAAAAAAAAAAAAAAAAAAAAAAAAAAAAAAAAAAAAAAAAAAAAAAAAAAAAAAAAAAAAAAAAAAAAAAAAAAAAAAAAAAAAAAAAAAAAAAAAAAAAAAAAAAAAAAAAAAAAAAAAAAAAAAAAAAAAAAAAAAAAAAAAAAAAAAAAAAAAAAAAAAAAAAAAAAAAAAAAAAAAAAAAAAAAAAAAAAAAAAAAAAAAAAAAAAAAAAAAAAAAAAAAAAAAAAAAAAAAAAAAAAAAAAAAAAAAAAAAAAAAAAAAAAAAAAAAAAAAAAAAAAAAAAAAAAAAAAAAAAAAAAAAAAAAAAAAAAAAAAAAAAAAAAAAAAAAAAAAAAAAAAAAAAAAAAAAAAAAAAAAAAAAAAAAAAAAAAAAAAAAAAAAAAAAAAAAAAAAAAAAAAAAAAAAAAAAAAAAAAAAAAAAAAAAAAAAAAAAAAAAAAAAAAAAAAAAAAAAAAAAAAAAAAAAAAAAAAAAAAAAAAAAAAAAAAAAAAAAAAAAAAAAAAAAAAAAAAAAAAAAAAAAAAAAAAAAAAAAAAAAAAAAAAAAAAAAAAAAAAAAAAAAAAAAAAAAAAAAAAAAAAAAAAAAAAAAAAAAAAAAAAAAAAAAAAAAAAAAAAAAAAAAAAAAAAAAAAAAAAAAAAAAAAAAAAAAAAAAAAAAAAAAAAAAAAAAAAAAAAAAAAAAAAAAAAAAAAAAAAAAAAAAAAAAAAAAAAAAAAAAAAAAAAAAAAAAAAAAAAAAAAAAAAAAAAAAAAAAAAAAAAAAAAAAAAAAAAAAAAAAAAAAAAAAAAAAAAAAAAAAAAAAAAAAAAAAAAAAAAAAAAAAAAAAAAAAAAAAAAAAAAAAAAAAAAAAAAAAAAAAAAAAAAAAAAAAAAAAAAAAAAAAAAAAAAAAAAAAAAAAAAAAAAAAAAAAAAAAAAAAAAAAAAAAAAAAAAAAAAAAAAAAAAAABOQNDu5yVPsmD1IszR6k+5tdz9R0Ruz4U3LWewIjKPmSuQLMm0dc+NyI0wpqT4z5tT6kX1XntPs+OrS6KVPQ+V0J2z3S0+T5rzUGlec/9PhI5lVRmv/8+0xNMrXcc/z6D/h98FCf8PlYNOsc+rfc++LOxdV678j6NIDrZ64XsPhvmDnPev+U+qYr+ff2X4T4c6+KmS9HfPiAaQm5zNOA+YgtShAjb4T79roAiDznkPtrCMdE3vOY+py+Exjr06D5ajgCiHqHqPvECAn7quOs+ILkefKtg7D4UhapMDdvsPvbYfJojc+0+QCN28SNp7j6idiFwA+PvPtT3ZUt88PA+jfEQpPsb8j6b06ZrzEvzPsMQMOogUPQ++DCzZZMD9T5MwCtpv131Pt9jM7Y0ffU+e75cueuh9T77g6N1qBj2Pid9g8/rH/c+tc2I70jT+D4yyFNmgSf7PoiqaJbN+f0+br/k65yVAD+iiq+LXl0CPyLpFDFtaAQ/Ur5okzfbBj/3OdfbO90JP65d5tVEiQ0/75e0Wb7wED8uZcBsd2UTP6Pmfvj/BxY/SM9zKoazGD/K052Vcj0bP1w1YBpmeh0/cPDjeiFEHz+ZZ4+K3D8gP9ZFlawqkSA/ae/WdE2ZID8RCC3MFmMgP6T0Mdqm/B8/6n4RekH6Hj/g7xpfyeMdPzTh4LLy2xw/tPAbSYcBHD9qYrWAVG4bP9Flto2ENxs/olvHMedvGz+rVzO5mCscPyenNGSrgx0/KqEv5hKZHz8eUGD92kshPwPjwCS+XSM/BwuFhu4rJj/pyeOkgO8pP09nhicK8S4/R6NTQurAMj+1XCXGKvY2P758AIq4Ljw/54IFc7gyQT8Z/jhc67ZEP/E/ltd4dUg/gt4pmw4lTD+XkdsMhmJPP2UR9xR53FA/o/kNMT1aUT/mR0Qz6v9QPxGNlOtIhE8/IacZbXV9Sz8kYMjpS3NGP5PlqxQsGEE/Oww7gfUvOD+jZMILYLUvP8Sd+qXHNiM/WvlWmRZ9FT9V639vrSUGP9ReomMoA/U+HPSUbAJW4j60QavDxmnNPg==\",\"dtype\":\"float64\",\"order\":\"little\",\"shape\":[200]}},\"selected\":{\"id\":\"1056\"},\"selection_policy\":{\"id\":\"1078\"}},\"id\":\"1055\",\"type\":\"ColumnDataSource\"},{\"attributes\":{\"columns\":[{\"id\":\"1367\"},{\"id\":\"1372\"},{\"id\":\"1377\"},{\"id\":\"1382\"},{\"id\":\"1387\"},{\"id\":\"1392\"},{\"id\":\"1397\"},{\"id\":\"1402\"}],\"height\":60,\"reorderable\":false,\"source\":{\"id\":\"1171\"},\"view\":{\"id\":\"1215\"}},\"id\":\"1213\",\"type\":\"DataTable\"},{\"attributes\":{\"data\":{\"A_25_percent\":{\"__ndarray__\":\"AAAAAACwVUA=\",\"dtype\":\"float64\",\"order\":\"little\",\"shape\":[1]},\"A_50_percent\":{\"__ndarray__\":\"AAAAAACAckA=\",\"dtype\":\"float64\",\"order\":\"little\",\"shape\":[1]},\"A_75_percent\":{\"__ndarray__\":\"AAAAAADIh0A=\",\"dtype\":\"float64\",\"order\":\"little\",\"shape\":[1]},\"count\":{\"__ndarray__\":\"AAAAAABIoEA=\",\"dtype\":\"float64\",\"order\":\"little\",\"shape\":[1]},\"max\":{\"__ndarray__\":\"j8L1KJwws0A=\",\"dtype\":\"float64\",\"order\":\"little\",\"shape\":[1]},\"mean\":{\"__ndarray__\":\"9ihcj8JHhUA=\",\"dtype\":\"float64\",\"order\":\"little\",\"shape\":[1]},\"min\":{\"__ndarray__\":\"AAAAAAAAAAA=\",\"dtype\":\"float64\",\"order\":\"little\",\"shape\":[1]},\"std\":{\"__ndarray__\":\"7FG4HoUtjkA=\",\"dtype\":\"float64\",\"order\":\"little\",\"shape\":[1]}},\"selected\":{\"id\":\"1172\"},\"selection_policy\":{\"id\":\"1232\"}},\"id\":\"1171\",\"type\":\"ColumnDataSource\"},{\"attributes\":{},\"id\":\"1172\",\"type\":\"Selection\"}],\"root_ids\":[\"1002\",\"1480\"]},\"title\":\"Bokeh Application\",\"version\":\"2.4.3\"}};\n",
       "    var render_items = [{\"docid\":\"1d7e6dcc-1078-4ec5-b4e6-851c5f53ffcc\",\"root_ids\":[\"1002\"],\"roots\":{\"1002\":\"11463b57-edcf-494f-b4ee-17f346809332\"}}];\n",
       "    root.Bokeh.embed.embed_items_notebook(docs_json, render_items);\n",
       "  }\n",
       "  if (root.Bokeh !== undefined && root.Bokeh.Panel !== undefined) {\n",
       "    embed_document(root);\n",
       "  } else {\n",
       "    var attempts = 0;\n",
       "    var timer = setInterval(function(root) {\n",
       "      if (root.Bokeh !== undefined && root.Bokeh.Panel !== undefined) {\n",
       "        clearInterval(timer);\n",
       "        embed_document(root);\n",
       "      } else if (document.readyState == \"complete\") {\n",
       "        attempts++;\n",
       "        if (attempts > 200) {\n",
       "          clearInterval(timer);\n",
       "          console.log(\"Bokeh: ERROR: Unable to run BokehJS code because BokehJS library is missing\");\n",
       "        }\n",
       "      }\n",
       "    }, 25, root)\n",
       "  }\n",
       "})(window);</script>"
      ],
      "text/plain": [
       ":DynamicMap   [col]\n",
       "   :Layout\n",
       "      .Overlay.I :Overlay\n",
       "         .Histogram.I    :Histogram   [x]   (Frequency)\n",
       "         .Distribution.I :Distribution   [total_post]   (Density)\n",
       "      .Table.I   :Table   [count,mean,std,min,25%,50%,75%,max]"
      ]
     },
     "execution_count": 58,
     "metadata": {
      "application/vnd.holoviews_exec.v0+json": {
       "id": "1002"
      }
     },
     "output_type": "execute_result"
    }
   ],
   "source": [
    "out = eda.get_density_plots(train_X, cols=['total_post', 'search_volume',\n",
    "                                           'sales_units_value', 'sales_lbs_value'])\n",
    "out"
   ]
  },
  {
   "cell_type": "code",
   "execution_count": 59,
   "id": "cb7b4e80-2c99-40cd-9b1e-55d043b8e5a4",
   "metadata": {},
   "outputs": [],
   "source": [
    "# save the plots are html\n",
    "reports.feature_analysis(train_X,'./feature_analysis_report.html')"
   ]
  },
  {
   "attachments": {},
   "cell_type": "markdown",
   "id": "49da1d9e-4413-4c9b-a9e4-b30ea330d804",
   "metadata": {},
   "source": [
    "## 2. Bivariate - mutual interactions"
   ]
  },
  {
   "cell_type": "code",
   "execution_count": 60,
   "id": "e8147460-dfda-4528-9303-6956eee59d9a",
   "metadata": {},
   "outputs": [
    {
     "data": {
      "text/html": [
       "<div>\n",
       "<style scoped>\n",
       "    .dataframe tbody tr th:only-of-type {\n",
       "        vertical-align: middle;\n",
       "    }\n",
       "\n",
       "    .dataframe tbody tr th {\n",
       "        vertical-align: top;\n",
       "    }\n",
       "\n",
       "    .dataframe thead th {\n",
       "        text-align: right;\n",
       "    }\n",
       "</style>\n",
       "<table border=\"1\" class=\"dataframe\">\n",
       "  <thead>\n",
       "    <tr style=\"text-align: right;\">\n",
       "      <th></th>\n",
       "      <th>Variable 1</th>\n",
       "      <th>Variable 2</th>\n",
       "      <th>Corr Coef</th>\n",
       "      <th>Abs Corr Coef</th>\n",
       "    </tr>\n",
       "  </thead>\n",
       "  <tbody>\n",
       "  </tbody>\n",
       "</table>\n",
       "</div>"
      ],
      "text/plain": [
       "Empty DataFrame\n",
       "Columns: [Variable 1, Variable 2, Corr Coef, Abs Corr Coef]\n",
       "Index: []"
      ]
     },
     "execution_count": 60,
     "metadata": {},
     "output_type": "execute_result"
    }
   ],
   "source": [
    "out = eda.get_correlation_table(train_X)\n",
    "out[out[\"Abs Corr Coef\"] > 0.6]"
   ]
  },
  {
   "cell_type": "code",
   "execution_count": 61,
   "id": "5cef6f0e-b765-451c-8eb8-fd06922b9109",
   "metadata": {},
   "outputs": [],
   "source": [
    "curated_columns = train_X.columns.to_list()"
   ]
  },
  {
   "cell_type": "code",
   "execution_count": 62,
   "id": "bdf37d07-3740-4c5a-829a-de04c5c72642",
   "metadata": {},
   "outputs": [],
   "source": [
    "reports.feature_interactions(train_X,'./feature_interaction_report.html')"
   ]
  },
  {
   "attachments": {},
   "cell_type": "markdown",
   "id": "977f904d-b5e1-4414-a1f3-cc86ecabb91c",
   "metadata": {},
   "source": [
    "## 3. Key Drivers - Interaction with Target variable"
   ]
  },
  {
   "cell_type": "code",
   "execution_count": 63,
   "id": "704d0866-d4a1-4e54-8e76-7df0f80ce8a2",
   "metadata": {},
   "outputs": [
    {
     "data": {},
     "metadata": {},
     "output_type": "display_data"
    },
    {
     "data": {},
     "metadata": {},
     "output_type": "display_data"
    },
    {
     "data": {
      "application/vnd.holoviews_exec.v0+json": "",
      "text/html": [
       "<div id='9405'>\n",
       "  <div class=\"bk-root\" id=\"5e0af821-3bc8-435d-9428-e70fcc42247d\" data-root-id=\"9405\"></div>\n",
       "</div>\n",
       "<script type=\"application/javascript\">(function(root) {\n",
       "  function embed_document(root) {\n",
       "    var docs_json = {\"28096cec-d55e-404c-ad13-1a28660207d1\":{\"defs\":[{\"extends\":null,\"module\":null,\"name\":\"ReactiveHTML1\",\"overrides\":[],\"properties\":[]},{\"extends\":null,\"module\":null,\"name\":\"FlexBox1\",\"overrides\":[],\"properties\":[{\"default\":\"flex-start\",\"kind\":null,\"name\":\"align_content\"},{\"default\":\"flex-start\",\"kind\":null,\"name\":\"align_items\"},{\"default\":\"row\",\"kind\":null,\"name\":\"flex_direction\"},{\"default\":\"wrap\",\"kind\":null,\"name\":\"flex_wrap\"},{\"default\":\"flex-start\",\"kind\":null,\"name\":\"justify_content\"}]},{\"extends\":null,\"module\":null,\"name\":\"GridStack1\",\"overrides\":[],\"properties\":[{\"default\":\"warn\",\"kind\":null,\"name\":\"mode\"},{\"default\":null,\"kind\":null,\"name\":\"ncols\"},{\"default\":null,\"kind\":null,\"name\":\"nrows\"},{\"default\":true,\"kind\":null,\"name\":\"allow_resize\"},{\"default\":true,\"kind\":null,\"name\":\"allow_drag\"},{\"default\":[],\"kind\":null,\"name\":\"state\"}]},{\"extends\":null,\"module\":null,\"name\":\"click1\",\"overrides\":[],\"properties\":[{\"default\":\"\",\"kind\":null,\"name\":\"terminal_output\"},{\"default\":\"\",\"kind\":null,\"name\":\"debug_name\"},{\"default\":0,\"kind\":null,\"name\":\"clears\"}]},{\"extends\":null,\"module\":null,\"name\":\"NotificationAreaBase1\",\"overrides\":[],\"properties\":[{\"default\":\"bottom-right\",\"kind\":null,\"name\":\"position\"},{\"default\":0,\"kind\":null,\"name\":\"_clear\"}]},{\"extends\":null,\"module\":null,\"name\":\"NotificationArea1\",\"overrides\":[],\"properties\":[{\"default\":[],\"kind\":null,\"name\":\"notifications\"},{\"default\":\"bottom-right\",\"kind\":null,\"name\":\"position\"},{\"default\":0,\"kind\":null,\"name\":\"_clear\"},{\"default\":[{\"background\":\"#ffc107\",\"icon\":{\"className\":\"fas fa-exclamation-triangle\",\"color\":\"white\",\"tagName\":\"i\"},\"type\":\"warning\"},{\"background\":\"#007bff\",\"icon\":{\"className\":\"fas fa-info-circle\",\"color\":\"white\",\"tagName\":\"i\"},\"type\":\"info\"}],\"kind\":null,\"name\":\"types\"}]},{\"extends\":null,\"module\":null,\"name\":\"Notification\",\"overrides\":[],\"properties\":[{\"default\":null,\"kind\":null,\"name\":\"background\"},{\"default\":3000,\"kind\":null,\"name\":\"duration\"},{\"default\":null,\"kind\":null,\"name\":\"icon\"},{\"default\":\"\",\"kind\":null,\"name\":\"message\"},{\"default\":null,\"kind\":null,\"name\":\"notification_type\"},{\"default\":false,\"kind\":null,\"name\":\"_destroyed\"}]},{\"extends\":null,\"module\":null,\"name\":\"TemplateActions1\",\"overrides\":[],\"properties\":[{\"default\":0,\"kind\":null,\"name\":\"open_modal\"},{\"default\":0,\"kind\":null,\"name\":\"close_modal\"}]},{\"extends\":null,\"module\":null,\"name\":\"MaterialTemplateActions1\",\"overrides\":[],\"properties\":[{\"default\":0,\"kind\":null,\"name\":\"open_modal\"},{\"default\":0,\"kind\":null,\"name\":\"close_modal\"}]}],\"roots\":{\"references\":[{\"attributes\":{},\"id\":\"9416\",\"type\":\"CategoricalScale\"},{\"attributes\":{},\"id\":\"9439\",\"type\":\"Selection\"},{\"attributes\":{\"child\":{\"id\":\"9409\"},\"name\":\"feature_correlation\",\"title\":\"feature_correlation\"},\"id\":\"9463\",\"type\":\"Panel\"},{\"attributes\":{\"fill_alpha\":{\"value\":0.1},\"fill_color\":{\"value\":\"#30a2da\"},\"hatch_alpha\":{\"value\":0.1},\"hatch_color\":{\"value\":\"#30a2da\"},\"height\":{\"value\":0.8},\"line_alpha\":{\"value\":0.1},\"right\":{\"field\":\"Pearson_correlation_with_Target\"},\"y\":{\"field\":\"index\"}},\"id\":\"9442\",\"type\":\"HBar\"},{\"attributes\":{\"end\":0.5025110605159656,\"reset_end\":0.5025110605159656,\"reset_start\":-0.04734112032657612,\"start\":-0.04734112032657612,\"tags\":[[[\"Pearson_correlation_with_Target\",\"Pearson_correlation_with_Target\",null]]]},\"id\":\"9406\",\"type\":\"Range1d\"},{\"attributes\":{},\"id\":\"9427\",\"type\":\"WheelZoomTool\"},{\"attributes\":{\"margin\":[0,0,0,0],\"tabs\":[{\"id\":\"9463\"}]},\"id\":\"9405\",\"type\":\"panel.models.tabs.Tabs\"},{\"attributes\":{},\"id\":\"9449\",\"type\":\"AllLabels\"},{\"attributes\":{},\"id\":\"9425\",\"type\":\"SaveTool\"},{\"attributes\":{\"axis\":{\"id\":\"9422\"},\"coordinates\":null,\"dimension\":1,\"grid_line_color\":null,\"group\":null,\"ticker\":null},\"id\":\"9424\",\"type\":\"Grid\"},{\"attributes\":{\"axis\":{\"id\":\"9418\"},\"coordinates\":null,\"grid_line_color\":null,\"group\":null,\"ticker\":null},\"id\":\"9421\",\"type\":\"Grid\"},{\"attributes\":{\"axis_label\":\"Pearson_correlation_with_Target\",\"coordinates\":null,\"formatter\":{\"id\":\"9448\"},\"group\":null,\"major_label_policy\":{\"id\":\"9449\"},\"ticker\":{\"id\":\"9419\"}},\"id\":\"9418\",\"type\":\"LinearAxis\"},{\"attributes\":{\"data\":{\"Pearson_correlation_with_Target\":{\"__ndarray__\":\"4zg0l8jnWL8fHwM43750P8RuCd0fjZ4/Y7ISvlKnoj8D0sn2stfCP/9JZuJoOt0/\",\"dtype\":\"float64\",\"order\":\"little\",\"shape\":[6]},\"index\":[\"week\",\"year\",\"weight_per_unit\",\"claim_id\",\"search_volume\",\"total_post\"]},\"selected\":{\"id\":\"9439\"},\"selection_policy\":{\"id\":\"9460\"}},\"id\":\"9438\",\"type\":\"ColumnDataSource\"},{\"attributes\":{\"fill_alpha\":{\"value\":0.2},\"fill_color\":{\"value\":\"#30a2da\"},\"hatch_alpha\":{\"value\":0.2},\"hatch_color\":{\"value\":\"#30a2da\"},\"height\":{\"value\":0.8},\"line_alpha\":{\"value\":0.2},\"right\":{\"field\":\"Pearson_correlation_with_Target\"},\"y\":{\"field\":\"index\"}},\"id\":\"9443\",\"type\":\"HBar\"},{\"attributes\":{\"coordinates\":null,\"data_source\":{\"id\":\"9438\"},\"glyph\":{\"id\":\"9441\"},\"group\":null,\"hover_glyph\":null,\"muted_glyph\":{\"id\":\"9443\"},\"nonselection_glyph\":{\"id\":\"9442\"},\"selection_glyph\":{\"id\":\"9446\"},\"view\":{\"id\":\"9445\"}},\"id\":\"9444\",\"type\":\"GlyphRenderer\"},{\"attributes\":{},\"id\":\"9429\",\"type\":\"ResetTool\"},{\"attributes\":{},\"id\":\"9419\",\"type\":\"BasicTicker\"},{\"attributes\":{\"client_comm_id\":\"57936fb3a36f43fabd0e4448901fa294\",\"comm_id\":\"be4b9b113b0d4cbba67be64d6e5340b0\",\"plot_id\":\"9405\"},\"id\":\"9494\",\"type\":\"panel.models.comm_manager.CommManager\"},{\"attributes\":{},\"id\":\"9452\",\"type\":\"AllLabels\"},{\"attributes\":{\"below\":[{\"id\":\"9418\"}],\"center\":[{\"id\":\"9421\"},{\"id\":\"9424\"}],\"height\":300,\"left\":[{\"id\":\"9422\"}],\"margin\":[5,5,5,5],\"min_border_bottom\":10,\"min_border_left\":10,\"min_border_right\":10,\"min_border_top\":10,\"renderers\":[{\"id\":\"9444\"}],\"sizing_mode\":\"fixed\",\"title\":{\"id\":\"9410\"},\"toolbar\":{\"id\":\"9431\"},\"width\":700,\"x_range\":{\"id\":\"9406\"},\"x_scale\":{\"id\":\"9414\"},\"y_range\":{\"id\":\"9407\"},\"y_scale\":{\"id\":\"9416\"}},\"id\":\"9409\",\"subtype\":\"Figure\",\"type\":\"Plot\"},{\"attributes\":{\"overlay\":{\"id\":\"9430\"}},\"id\":\"9428\",\"type\":\"BoxZoomTool\"},{\"attributes\":{},\"id\":\"9460\",\"type\":\"UnionRenderers\"},{\"attributes\":{},\"id\":\"9448\",\"type\":\"BasicTickFormatter\"},{\"attributes\":{\"bottom_units\":\"screen\",\"coordinates\":null,\"fill_alpha\":0.5,\"fill_color\":\"lightgrey\",\"group\":null,\"left_units\":\"screen\",\"level\":\"overlay\",\"line_alpha\":1.0,\"line_color\":\"black\",\"line_dash\":[4,4],\"line_width\":2,\"right_units\":\"screen\",\"syncable\":false,\"top_units\":\"screen\"},\"id\":\"9430\",\"type\":\"BoxAnnotation\"},{\"attributes\":{\"source\":{\"id\":\"9438\"}},\"id\":\"9445\",\"type\":\"CDSView\"},{\"attributes\":{},\"id\":\"9423\",\"type\":\"CategoricalTicker\"},{\"attributes\":{},\"id\":\"9451\",\"type\":\"CategoricalTickFormatter\"},{\"attributes\":{\"axis_label\":\"\",\"coordinates\":null,\"formatter\":{\"id\":\"9451\"},\"group\":null,\"major_label_policy\":{\"id\":\"9452\"},\"ticker\":{\"id\":\"9423\"}},\"id\":\"9422\",\"type\":\"CategoricalAxis\"},{\"attributes\":{\"callback\":null,\"renderers\":[{\"id\":\"9444\"}],\"tags\":[\"hv_created\"],\"tooltips\":[[\"index\",\"@{index}\"],[\"Pearson_correlation_with_Target\",\"@{Pearson_correlation_with_Target}\"]]},\"id\":\"9408\",\"type\":\"HoverTool\"},{\"attributes\":{\"fill_alpha\":{\"value\":1.0},\"fill_color\":{\"value\":\"#30a2da\"},\"hatch_alpha\":{\"value\":1.0},\"hatch_color\":{\"value\":\"#30a2da\"},\"hatch_scale\":{\"value\":12.0},\"hatch_weight\":{\"value\":1.0},\"height\":{\"value\":0.8},\"left\":{\"value\":0},\"line_alpha\":{\"value\":1.0},\"line_cap\":{\"value\":\"butt\"},\"line_color\":{\"value\":\"black\"},\"line_dash\":{\"value\":[]},\"line_dash_offset\":{\"value\":0},\"line_join\":{\"value\":\"bevel\"},\"line_width\":{\"value\":1},\"right\":{\"field\":\"Pearson_correlation_with_Target\"},\"y\":{\"field\":\"index\"}},\"id\":\"9446\",\"type\":\"HBar\"},{\"attributes\":{\"tools\":[{\"id\":\"9408\"},{\"id\":\"9425\"},{\"id\":\"9426\"},{\"id\":\"9427\"},{\"id\":\"9428\"},{\"id\":\"9429\"}]},\"id\":\"9431\",\"type\":\"Toolbar\"},{\"attributes\":{},\"id\":\"9426\",\"type\":\"PanTool\"},{\"attributes\":{\"fill_color\":{\"value\":\"#30a2da\"},\"hatch_color\":{\"value\":\"#30a2da\"},\"height\":{\"value\":0.8},\"right\":{\"field\":\"Pearson_correlation_with_Target\"},\"y\":{\"field\":\"index\"}},\"id\":\"9441\",\"type\":\"HBar\"},{\"attributes\":{},\"id\":\"9414\",\"type\":\"LinearScale\"},{\"attributes\":{\"factors\":[\"week\",\"year\",\"weight_per_unit\",\"claim_id\",\"search_volume\",\"total_post\"],\"tags\":[[[\"index\",\"index\",null]]]},\"id\":\"9407\",\"type\":\"FactorRange\"},{\"attributes\":{\"coordinates\":null,\"group\":null,\"text\":\"Feature Correlation with Target Function\",\"text_color\":\"black\",\"text_font_size\":\"12pt\"},\"id\":\"9410\",\"type\":\"Title\"}],\"root_ids\":[\"9405\",\"9494\"]},\"title\":\"Bokeh Application\",\"version\":\"2.4.3\"}};\n",
       "    var render_items = [{\"docid\":\"28096cec-d55e-404c-ad13-1a28660207d1\",\"root_ids\":[\"9405\"],\"roots\":{\"9405\":\"5e0af821-3bc8-435d-9428-e70fcc42247d\"}}];\n",
       "    root.Bokeh.embed.embed_items_notebook(docs_json, render_items);\n",
       "  }\n",
       "  if (root.Bokeh !== undefined && root.Bokeh.Panel !== undefined) {\n",
       "    embed_document(root);\n",
       "  } else {\n",
       "    var attempts = 0;\n",
       "    var timer = setInterval(function(root) {\n",
       "      if (root.Bokeh !== undefined && root.Bokeh.Panel !== undefined) {\n",
       "        clearInterval(timer);\n",
       "        embed_document(root);\n",
       "      } else if (document.readyState == \"complete\") {\n",
       "        attempts++;\n",
       "        if (attempts > 200) {\n",
       "          clearInterval(timer);\n",
       "          console.log(\"Bokeh: ERROR: Unable to run BokehJS code because BokehJS library is missing\");\n",
       "        }\n",
       "      }\n",
       "    }, 25, root)\n",
       "  }\n",
       "})(window);</script>"
      ],
      "text/plain": [
       "Tabs\n",
       "    [0] HoloViews(Bars, name='feature_correlation')"
      ]
     },
     "execution_count": 63,
     "metadata": {
      "application/vnd.holoviews_exec.v0+json": {
       "id": "9405"
      }
     },
     "output_type": "execute_result"
    }
   ],
   "source": [
    "out = eda.get_target_correlation(train_X, train_y, y_continuous=True)\n",
    "display_as_tabs([(k, v) for k,v in out.items()])"
   ]
  },
  {
   "cell_type": "code",
   "execution_count": 64,
   "id": "13043767-b673-41c6-9324-80b4ff4f3277",
   "metadata": {},
   "outputs": [
    {
     "data": {},
     "metadata": {},
     "output_type": "display_data"
    },
    {
     "data": {},
     "metadata": {},
     "output_type": "display_data"
    },
    {
     "data": {
      "application/vnd.holoviews_exec.v0+json": "",
      "text/html": [
       "<div id='9545'>\n",
       "  <div class=\"bk-root\" id=\"71cbd6f7-423d-4a92-89e5-b7cd81a0ac54\" data-root-id=\"9545\"></div>\n",
       "</div>\n",
       "<script type=\"application/javascript\">(function(root) {\n",
       "  function embed_document(root) {\n",
       "    var docs_json = {\"426bf08c-aaa2-4246-8da1-7b814295f1ad\":{\"defs\":[{\"extends\":null,\"module\":null,\"name\":\"ReactiveHTML1\",\"overrides\":[],\"properties\":[]},{\"extends\":null,\"module\":null,\"name\":\"FlexBox1\",\"overrides\":[],\"properties\":[{\"default\":\"flex-start\",\"kind\":null,\"name\":\"align_content\"},{\"default\":\"flex-start\",\"kind\":null,\"name\":\"align_items\"},{\"default\":\"row\",\"kind\":null,\"name\":\"flex_direction\"},{\"default\":\"wrap\",\"kind\":null,\"name\":\"flex_wrap\"},{\"default\":\"flex-start\",\"kind\":null,\"name\":\"justify_content\"}]},{\"extends\":null,\"module\":null,\"name\":\"GridStack1\",\"overrides\":[],\"properties\":[{\"default\":\"warn\",\"kind\":null,\"name\":\"mode\"},{\"default\":null,\"kind\":null,\"name\":\"ncols\"},{\"default\":null,\"kind\":null,\"name\":\"nrows\"},{\"default\":true,\"kind\":null,\"name\":\"allow_resize\"},{\"default\":true,\"kind\":null,\"name\":\"allow_drag\"},{\"default\":[],\"kind\":null,\"name\":\"state\"}]},{\"extends\":null,\"module\":null,\"name\":\"click1\",\"overrides\":[],\"properties\":[{\"default\":\"\",\"kind\":null,\"name\":\"terminal_output\"},{\"default\":\"\",\"kind\":null,\"name\":\"debug_name\"},{\"default\":0,\"kind\":null,\"name\":\"clears\"}]},{\"extends\":null,\"module\":null,\"name\":\"NotificationAreaBase1\",\"overrides\":[],\"properties\":[{\"default\":\"bottom-right\",\"kind\":null,\"name\":\"position\"},{\"default\":0,\"kind\":null,\"name\":\"_clear\"}]},{\"extends\":null,\"module\":null,\"name\":\"NotificationArea1\",\"overrides\":[],\"properties\":[{\"default\":[],\"kind\":null,\"name\":\"notifications\"},{\"default\":\"bottom-right\",\"kind\":null,\"name\":\"position\"},{\"default\":0,\"kind\":null,\"name\":\"_clear\"},{\"default\":[{\"background\":\"#ffc107\",\"icon\":{\"className\":\"fas fa-exclamation-triangle\",\"color\":\"white\",\"tagName\":\"i\"},\"type\":\"warning\"},{\"background\":\"#007bff\",\"icon\":{\"className\":\"fas fa-info-circle\",\"color\":\"white\",\"tagName\":\"i\"},\"type\":\"info\"}],\"kind\":null,\"name\":\"types\"}]},{\"extends\":null,\"module\":null,\"name\":\"Notification\",\"overrides\":[],\"properties\":[{\"default\":null,\"kind\":null,\"name\":\"background\"},{\"default\":3000,\"kind\":null,\"name\":\"duration\"},{\"default\":null,\"kind\":null,\"name\":\"icon\"},{\"default\":\"\",\"kind\":null,\"name\":\"message\"},{\"default\":null,\"kind\":null,\"name\":\"notification_type\"},{\"default\":false,\"kind\":null,\"name\":\"_destroyed\"}]},{\"extends\":null,\"module\":null,\"name\":\"TemplateActions1\",\"overrides\":[],\"properties\":[{\"default\":0,\"kind\":null,\"name\":\"open_modal\"},{\"default\":0,\"kind\":null,\"name\":\"close_modal\"}]},{\"extends\":null,\"module\":null,\"name\":\"MaterialTemplateActions1\",\"overrides\":[],\"properties\":[{\"default\":0,\"kind\":null,\"name\":\"open_modal\"},{\"default\":0,\"kind\":null,\"name\":\"close_modal\"}]}],\"roots\":{\"references\":[{\"attributes\":{},\"id\":\"9569\",\"type\":\"ResetTool\"},{\"attributes\":{\"below\":[{\"id\":\"9558\"}],\"center\":[{\"id\":\"9561\"},{\"id\":\"9564\"}],\"height\":300,\"left\":[{\"id\":\"9562\"}],\"margin\":[5,5,5,5],\"min_border_bottom\":10,\"min_border_left\":10,\"min_border_right\":10,\"min_border_top\":10,\"renderers\":[{\"id\":\"9584\"}],\"sizing_mode\":\"fixed\",\"title\":{\"id\":\"9550\"},\"toolbar\":{\"id\":\"9571\"},\"width\":700,\"x_range\":{\"id\":\"9546\"},\"x_scale\":{\"id\":\"9554\"},\"y_range\":{\"id\":\"9547\"},\"y_scale\":{\"id\":\"9556\"}},\"id\":\"9549\",\"subtype\":\"Figure\",\"type\":\"Plot\"},{\"attributes\":{\"coordinates\":null,\"data_source\":{\"id\":\"9578\"},\"glyph\":{\"id\":\"9581\"},\"group\":null,\"hover_glyph\":null,\"muted_glyph\":{\"id\":\"9583\"},\"nonselection_glyph\":{\"id\":\"9582\"},\"selection_glyph\":{\"id\":\"9586\"},\"view\":{\"id\":\"9585\"}},\"id\":\"9584\",\"type\":\"GlyphRenderer\"},{\"attributes\":{\"axis_label\":\"Features\",\"coordinates\":null,\"formatter\":{\"id\":\"9591\"},\"group\":null,\"major_label_policy\":{\"id\":\"9592\"},\"ticker\":{\"id\":\"9563\"}},\"id\":\"9562\",\"type\":\"CategoricalAxis\"},{\"attributes\":{},\"id\":\"9589\",\"type\":\"AllLabels\"},{\"attributes\":{},\"id\":\"9591\",\"type\":\"CategoricalTickFormatter\"},{\"attributes\":{\"end\":76908.1449821452,\"reset_end\":76908.1449821452,\"reset_start\":-28822.520382979492,\"start\":-28822.520382979492,\"tags\":[[[\"importance\",\"importance\",null]]]},\"id\":\"9546\",\"type\":\"Range1d\"},{\"attributes\":{\"fill_color\":{\"value\":\"#30a2da\"},\"hatch_color\":{\"value\":\"#30a2da\"},\"height\":{\"value\":0.8},\"right\":{\"field\":\"importance\"},\"y\":{\"field\":\"index\"}},\"id\":\"9581\",\"type\":\"HBar\"},{\"attributes\":{},\"id\":\"9592\",\"type\":\"AllLabels\"},{\"attributes\":{\"client_comm_id\":\"9a8125e7af3c49a4a62e4f0d825b088c\",\"comm_id\":\"0af532aa30074930ac5a02598cb24ee6\",\"plot_id\":\"9545\"},\"id\":\"9636\",\"type\":\"panel.models.comm_manager.CommManager\"},{\"attributes\":{\"child\":{\"id\":\"9549\"},\"name\":\"from_model\",\"title\":\"from_model\"},\"id\":\"9603\",\"type\":\"Panel\"},{\"attributes\":{},\"id\":\"9566\",\"type\":\"PanTool\"},{\"attributes\":{\"bottom_units\":\"screen\",\"coordinates\":null,\"fill_alpha\":0.5,\"fill_color\":\"lightgrey\",\"group\":null,\"left_units\":\"screen\",\"level\":\"overlay\",\"line_alpha\":1.0,\"line_color\":\"black\",\"line_dash\":[4,4],\"line_width\":2,\"right_units\":\"screen\",\"syncable\":false,\"top_units\":\"screen\"},\"id\":\"9570\",\"type\":\"BoxAnnotation\"},{\"attributes\":{\"axis_label\":\"Feature Importance [determined by coeff * mean(x)]\",\"coordinates\":null,\"formatter\":{\"id\":\"9588\"},\"group\":null,\"major_label_policy\":{\"id\":\"9589\"},\"ticker\":{\"id\":\"9559\"}},\"id\":\"9558\",\"type\":\"LinearAxis\"},{\"attributes\":{},\"id\":\"9588\",\"type\":\"BasicTickFormatter\"},{\"attributes\":{},\"id\":\"9567\",\"type\":\"WheelZoomTool\"},{\"attributes\":{},\"id\":\"9563\",\"type\":\"CategoricalTicker\"},{\"attributes\":{\"fill_alpha\":{\"value\":0.1},\"fill_color\":{\"value\":\"#30a2da\"},\"hatch_alpha\":{\"value\":0.1},\"hatch_color\":{\"value\":\"#30a2da\"},\"height\":{\"value\":0.8},\"line_alpha\":{\"value\":0.1},\"right\":{\"field\":\"importance\"},\"y\":{\"field\":\"index\"}},\"id\":\"9582\",\"type\":\"HBar\"},{\"attributes\":{\"axis\":{\"id\":\"9558\"},\"coordinates\":null,\"grid_line_color\":null,\"group\":null,\"ticker\":null},\"id\":\"9561\",\"type\":\"Grid\"},{\"attributes\":{},\"id\":\"9559\",\"type\":\"BasicTicker\"},{\"attributes\":{\"axis\":{\"id\":\"9562\"},\"coordinates\":null,\"dimension\":1,\"grid_line_color\":null,\"group\":null,\"ticker\":null},\"id\":\"9564\",\"type\":\"Grid\"},{\"attributes\":{\"data\":{\"importance\":{\"__ndarray__\":\"shwtbOiK08AAAAAAAAAAgAAAAAAAAACAAAAAAAAAAIAAAAAAAAAAgAn5ZhkUoPBA\",\"dtype\":\"float64\",\"order\":\"little\",\"shape\":[6]},\"index\":[\"search_volume\",\"claim_id\",\"week\",\"weight_per_unit\",\"year\",\"total_post\"]},\"selected\":{\"id\":\"9579\"},\"selection_policy\":{\"id\":\"9600\"}},\"id\":\"9578\",\"type\":\"ColumnDataSource\"},{\"attributes\":{\"height\":390,\"margin\":[5,5,5,5],\"name\":\"shap_values\",\"text\":\"&lt;img src=&quot;data:image/png;base64,iVBORw0KGgoAAAANSUhEUgAAAyAAAAGGCAYAAACDquWyAAAAOXRFWHRTb2Z0d2FyZQBNYXRwbG90bGliIHZlcnNpb24zLjUuMywgaHR0cHM6Ly9tYXRwbG90bGliLm9yZy/NK7nSAAAACXBIWXMAAA9hAAAPYQGoP6dpAACPDElEQVR4nOzdd3gU5drH8e/spvdGCYTeO0JAkK5SpAmIClgAK0XRo0dfj+UAHrsIdgUERJEjiiJwUMACoihNRQUp0muAENJI3533jyVLNg3QJJtNfp/rWmWfKc89k2R37nnKGKZpmoiIiIiIiJQBi7sDEBERERGRykMJiIiIiIiIlBklICIiIiIiUmaUgIiIiIiISJlRAiIiIiIiImVGCYiIiIiIiJQZJSAiIiIiIlJmlICIiIiIiEiZUQIiIiIiIiJlRgmIiIiIiIiUGSUgIiIiIiJSZpSAiIiIiIhImVECIiIiIiIiZUYJiIiIiIiIlBklICIiIiJSKU2ZMoWgoKCLWmYYBtOmTbvkOv7qdhWZl7sDEBEREREp73788Ufq1Knj7jAqBCUgIiIiIiIX0KlTJ3eHUGGoC5aIiIiIyAXk70plmiZPPvkk1atXJygoiGHDhvH5559jGAZr16512dZutzN58mSqVatGVFQUY8eO5ezZs2V8BOWHEhARERERqdRycnIKvOx2e7HbvPbaa0yZMoUxY8bw6aef0qhRI8aNG1fouq+//jp79uxh/vz5PPHEEyxcuJD//Oc/pXEoHkFdsERERESk0jp79ize3t6FLgsMDCy03Gaz8dxzzzF27Fiee+45APr06cOJEyeYP39+gfWrV6/OBx98AEC/fv3YvHkzixcvdm5b2SgBEZFSk52dzbx58wAYO3ZskR/wIiIiJcoY5vre/LTIVf39/Vm3bl2B8lmzZrFw4cJCtzly5AjHjx9n8ODBLuXXXnttoQlInz59XN43b96cxYsXFxlTRacEREREREQqGOOi17RYLMTGxhYo/9///lfkNsePHwegSpUqLuVVq1YtdP2wsDCX9z4+PmRmZl50jBWNEhARERERqWAuPgH5K6KjowE4deqUS/nJkydLtd6KQoPQRUREREQuQUxMDNWrV2fp0qUu5Z999pl7AvIwagERERERkQqmdFtArFYr//rXv7j//vupVq0avXr14ptvvmHNmjWAo1uXFE1nR0REREQqGCPfq+Tde++9TJ48mblz5zJ06FB27NjB888/D0BoaGip1FlRGKZpmu4OQkQqJs2CJSIibmHc4Pre/KhMqn388ceZPn06p0+fxt/fv0zq9ETqgiUiIiIiFUzpdsEC2LFjBwsWLOCKK67Ax8eHtWvXMm3aNMaPH6/k4wKUgIiIiIhIBVP6CUhAQAAbNmzg7bffJjk5mZo1a/LQQw8xZcqUUq/b0ykBERERERG5RHXq1OHrr792dxgeSQmIiIiIiFQwpd8CIn+dEhARERERqWCUgJRnSkBEREREpIJRAlKeKQERERERkQpGCUh5pgRERERERCoUM18ConSkfNGT0EVEREREpMwoARERERERkTKjLlgiIiIiUsGo01V5pgRERERERCoUjQEp35SAiIiIiEgFo5SjPFMCIiIiIiIVjBKQ8kwJiIiIiIhUKPm7YEn5olmwRERERESkzKgFREREREQqGLWAlGdKQERERESkQjHdHYAUSwmIiJuZpsnawyY/HjE5kmri72VwcwsLl1XT3RsREZG/Rt+h5ZkSEBE3ysgx6f2Rje+PniswTcDk5Z/sfDzYwrAmVneGJyIi4pE0CL180yB0ETf64A/zfPKRywS7HUYtt5NlUyOyiIjIpTPyvaQ8UQIi4kbfHs6TYJimS6fVTBvcuNRW9kGJiIiIlCIlICJukp5tsmxP8S0cK/aaagURERG5RCaGy0vKF40BEXGTrw+ZJGVxbtxH0fSxKSIicqn07VmeKQERcZMQn3wfjoXkIVZMOr+Xg8WAsa0tjLvMgmHoQ1VERKQ4avUo35SAiLjJFTUu0LXKNMnIgZ/iHG83H7dxINHO81d6l35wIiIiIqVEY0BE3GT+NrvjH0W1aBj5Z+4weO0njQcRERG5EI0BKd+UgIi4wYjlNu74Mk9BkUmI69usIibFOpNusjfBnue9nZsXZ9LtnQze+Skbm93kbJbJ7ng7NruSGBEREXEfdcESKWPvbrOzaNdFJgH5VvMy4PK5mWTZDG5uAR/9AZuP2Z3j2AOsJi2iYPOx89t8fzCbO5dkOd7YTbytEB0EjaMsvDbIl6ZV9bBDERGpaNTqUZ4pAREpYy9tPt9S4fL5aMGRcOS+CjDJtMGmY45/b43j/LNDDMe/03Jck498m4MB2TY4lAiHEu00m5FOq2qQlWOSlmlyZUMvXhjgR9UgNY6KiIjnUrer8k1XGR4kNjaWKVOmuDsM+ZtSsopYYBhgOfeBWeDhreb5cuf6+f5fVOJi5NvIMM6vbNr5/bidXadMDifD/J9y6PR6KikZJs98lcH//S+No4l6GKKIiHgaPQm9PFMLSDGOHTvG8uXL6dmzJ02aNPlL+0hJSWHhwoW0b9+e2NjYEo7QMyxfvpyUlBRGjRrl7lDKheoBcDClmBVy8wPnv/NkFfnHbxjGuXXNIlpN8q6XZwWL5VzrSf79wf4Ek5DHkpxFL3yTSa1QSM0w6VTXyuNX+bPg+wxsdri7lz/t6mlWLhERjxd3BoL9IdDP3ZGUCLWAlG9KQIpx7NgxZs+eTY0aNf5WAjJ79myASp2AHD9+XAnIOcfOXmCFwhIJs4hluQlKbjes4vZxsQwDDNcdHE5y7POLHTls3J5MwLnqPt+axfgrfRnU1o+61aycTLDx864sqoRZqBZuIaaq6xfA+s1pfPvDWTKzTLp08KdeLW+qVvEmNOT8OJT0NDvHj2cRXcMHf3810oqIlKo/j0GHhyEpzfF+cAdY+i/3xiQVnhIQkTJ2NqeIBeYFWjEulFQYebpv2fKsbJoFW06K22eBVpHzrSe5Hxg2wAr4mCYLv0rnv1+lg2niZ5r4mI59GIDVbuJvvZpqgWc48FI8O3ZnOxrDTZPtf6Q7dm+a1Khq4foh4VjsJu/NO0VmpqOLmGGHmtWtnD2dTWaGibc3eBtgzzG57IoQqkV7senLM2Sm27Cadnz9LLTvEc6VI6Ox55j8vOoUOzeewZZpJ7yqL+36V6VOy2DOHM/g56XHST6RyWWDqxPdKAjDauDjbyUrLYeDmxJIPZXB4Q2nObUzmYBwbyLqBGH1grNxGWSl5uAf4U270fWp1jqMY1tOc3xjPL7BXpg5dhL+SKJKm3Ca3FCXrJQcEnck4RflS3DtQLwCvDjx/QkOLT5AUL0gGtzaCFt6Njue+Z20fSmENAsltEU4xxftJ+NQGkGNQwhrG86Rt3dhS8rGAvg1COKyz3sT2DgU026S+M0xsk6kYU/NJu23BDJ2JJD5ZzJeUX741Q3i7Jqj2JKz8G8SimExsZ/JxDs6kID2Vcj87RRZ2+Mx07IxfKz4tovCkpZD1rZTGJhYAr2xBnljCfHBv3MNDF+DtI93QI6J/6CGRM0ZgMXbimk3SZvzM6nTfsCelIlv11oEjmuPpWEE2V/sIfvHg9hPnsW7USQ+I1tj++kI2f/dii0uFWvravjf1xVLuD/Zy7ZjxiVjhPph6VgLa+samOv2YvvtGEZ4AF6DW2I0jAK7iRHij5mVg/nLIYhLhtYxGOEBmMG+8OznjvI+zbHc3h1+PQSH4qFdPYyUdNh3Ero3hbDA87/rp1PglRWw8yjcfhX0bg3xyRAVAja74wItKsSx7pF42LIXosOgTlWoHl7wbyk7x3UbgFNJEB4EVovj31EhkJUD6VmO8vxsNkdcVUKLni3vtwPw60G45jLH/o7Eww+7oEkNaFOv8G1yHY6Hn/ZC/WoQGggxEWA9d0Pg6Gn4YSc0qgFt8+wnLdNxbKGBrvs6nQJBfrDtkGO/bepCvWrF15+VDSkZEBlc/Hq5UtIhIQW8vWDzHmgUDc1rXXg7u93xsyzuPObKzIbUDMexnM2AiIuILTnN8TP1tNaDzGxo9Q/H/3Mt2wzPLIZHh7svLqnwDNPMf7UhADNnznS2XOQ1cOBApkyZQmJiIrNnz2bt2rWcPn2asLAwunTpwvjx44mKigIcd/6nTp1aYB/t2rVj1qxZ2O125s2bx4YNGzh06BBJSUlERkbStWtXxo8fT1hYmMt2sbGxzvovxaBBg4iOjuaBBx7g5ZdfZvv27Xh7e9O1a1fuu+8+IiMjXda/mGMDME2T//73vyxbtoxjx45hmiYRERFcdtllPPLII/j5+RXZ6rNs2TJq1KhxScdRUYS+kkNyns96Z+JR1F+iLU9ikv/P1aTw5MKep3tVUevY7K77zdvdK//6dhN/ux0/u4kv5xtbfEyTIDNPQ7dpEmSzn7+zYZr42U2sponlXIJinFvfZWSKaeJlmljsdrzy7c/L5igDsNjs5LaVGHY73ue6kVnybeNtmFjtNsxsO5Z8dVktJkZGjusAOLsdKyaBQRYyE7Kc+8+NNTeJs+bYXRv17XYsOTlYzHP7yLG7PKneYrc7lpkmhnnuOHPsWO3nYrKbWOwmFjsu8Rt2sGY61sNmx7CDgYmV8z30DCCsV1XS1p/APDc/swXbuXVcm8QM7Fixu8yGn/szcGxzvonN6pw1P9+xkvtzM7E4l5ngbXFsk50D5D/fJrjsPzc2Eys2l/Vy63Pu91w955fn+RkbYBgm1stqwPajkJEN59YtOOt/bt05zv05lwX6wseT4Jo2cCIRmtx3/i4wdvCyQI4NfLzA2wpnM6Fdfeh3GTz3qevfSeNo+GkaBPk73s/7Gh5+33HRe1k9ePx6+Pd/YfthR6LhbYWTSRAa4Ig/Mxuubg0f3A9Vwxz7WLEFxs9yXMw3jIZ590DXZi4/FXo8Duv+OHdeDGhYHf48fn75iC7wwT8c3S7ze3UFPDDP8VmQK8gP3r8PjiXAve+cP8Z6VWHdU/DSMnhrlSNpurYDzJ8EiWdh5HRH0uNldZyzXA2rO+6mF5YkvLYC/v2hY/tOjWHhP4pOWLKy4ZZX4OMfCn5WjusLb91d+HYAK3+Gu992JKANqsOcidCjReHrvrwcpixy/B5YLY5z0725I7aakQXXT02Hsa/Dpxsdvy939oZXbjufxJVnLy2FJz92JE/5+XpDxqKyj6kEnTXuc3kfaL7ipkikMEpAivDnn3+yevVq5s2bx9ChQ7nssssAiImJoX79+owZM4aDBw8ycOBAWrRowd69e/n000+JiorivffeIzIykiNHjrBu3TqmT59Or1696NWrFwARERF06tSJzMxM+vXrx9VXX03dunXx8/Nj+/btfP7559SpU4cFCxbg7X2+f/3fSUCsVitJSUlceeWVNG3alJ07d7Js2TLq1KnD+++/j7+/40szNTX1oo4N4J133uHtt9+mW7duXHHFFVgsFuLi4li3bh0zZ84kLCyMzz//nLlz55KYmMgDDzzgjKlXr17OOisb35dyyMr7V5e35SP/X6NpOq6r/k4CkrueM9Exi97OtBdsiTFNOJcERJoFZ64IsdvJOwok0GbDO8/2hmkSbHNczPvmJgwFa8bL7rgA9bLZyPvVbdhNfG12LDZbwSZbux0fm63A/iw2O962HIzC6jJNDLsdL1ueC2zTxJqdg/VcDJxLhlwmKcu2Ycl/zkwTa9a5Vh27HautkOX280mMxQSfzPPxWnIcCUiB+7F2E+90u2OZ7VxrkllYj2YTb+z53udgFFjTjnchCYXFuU1uAmPHcu4CvrAe1LkX9pZ8yUNugmElp8A2FnKwFPjFtuGVL25LoQmP3SUhcU2gcrA692E/FzOFJE6529uxFBIfdavA3pfgkQ/gxWUu6xcp7zitvAa0h/89BruOQvP7HHfdc/l4OS7aL+TGLvDhg46L8pg7HXfgc1UNhcOzwOfcX9z8b2DM6xfe5/JHYWC+m0Gnkhz7Lywmb6vj+HLyTUDRPAb+OOJads81sOsYfPlr0fW3qgO/zXAt27LH0e0nrx4tYO1/Ct/Hs5/Aox8UXcf6Z+CKpgXLk9Og5h2OFo1cUSGO8+jn47ruhl3QuYiuR7k/2/z++a4jKcvrrbsdSVF59v0O6FbI8eRlflo2sZSSs8b9Lu8DzZfdEocUTl2witCoUSOSkpKYN28erVu3pn///s5lb775JgcOHODBBx9k5MiRzvLWrVvzxBNP8Pbbb/PYY48RExNDz549mT59Og0bNnTZB4CPjw9ffPEFfn7nm2yvu+46WrduzVNPPcXatWvp3bt3iRzPkSNHeOCBB1zGYdSvX58ZM2awcOFCbr/9dgDee++9izo2gDVr1jj3kdfEiROd/+7fvz+fffYZmZmZBY6/sjLzX7wYhmvrQ95kxGUwehE7zL+siMHlQJ6ko5j7DgXGmThmzrIBlkLuV+TA+QTk3EW2y+4MAztgNQxMe2EXh7jEa+YdMJ/nf4XeTzQKXmoXdgj5t8EwMA0DI0+9BS+2L07+icqKq9fMl0QUV4fFxNHyce58XFw8ha9lKWI4Zv6hQ39vyGbhdRiFnpiCaxZfkvvvon9eF1bEFgdOQVK6o9uV0wV+mEUtXr/T8f+vfnNNPuDikg+AVVsd//9+h2vyAY4Wk60HoGMjx/slmy5un1v3F0xA/jhSdEzZRcx8t+NowbJVW2FPXPH1/34QjidAdITrdvl9ux0ysgomBkWtn9cv+wtPQH7Y6Zp8gKNV6ud9Bdcvro6ilhVWvuqX8p+ArN7q7ghKnQahl28a4fkXrF27ltDQUK6//nqX8n79+lGrVi3WrFlzUfsxDMOZfNhsNlJSUkhMTKRDhw4AbNu2rcRiDgwMZPhw1/6c119/PYGBgaxdu9ZZdinHFhwczIkTJ9i6dWuJxVnWEhISyMzMdL5PTU0lJeX8FFVZWVmcPn3aZZvjx48X+z4uLo68DYv56wjyKubOKuSbMdDI01+5kNYPOJ/AwIXHkeRNdBy3si9u8LrhSAyyC1nklad1xs9uFkwU8uwzxzDyFwG4dKGy5Ek+8nfVKsyFLm8LLC/iYj5/Wf7t7JaCl9KG7fyFmlnY8rz7vegkwtHqk1/hP5qifmAX37BtyXOnv/jL+wslr4WnGhe75oVLzGKXXlgRWzStQVagN8nXtb/kPeZnrxbq+EeDgt2ILjreBtVd/593H15WMqufH0+S2eEC4ztydT4/iYrz86ptXQjwLXob70LuT4YFFixrUJ2cWhEFy/OwhwVg5hnfkpCQQHadqIIr1ooCX+9CP3fTokMKrp9HfOOowj936xc8j1gtZNUIK1DHmahixm80qF7oZ7utXtVC14XS+f4ose+o+sWPzcn7+1oSx+EOuW2m+TtlSvmgBOQvOHr0KLVr18bLy/UD2jAM6tevT2JiIqmpqRe1ry+//JLRo0fTpUsXevXqxdVXX821114LQHJyconFXLNmTXx8XO8q+fj4ULNmTY4cOd+kfinHds899+Dn58cdd9xBv379eOyxx/j888/JyirqQRflT0REBL6+57+Eg4KCCA4+P+DQx8enwBiZ6OjoYt9Xr17dZRxA/jpqFPWQv+IGRprgTEacr3zbXij5yH85n38wgJm3yaWw+iHJYmDLU+RtmvgBXnYTP9Px3si7G9O11cRusZBtGOc7uJzr6mQ992+rc8xEnjDPXbgXmraZJvZzLSx5yyx2u+NL51xdzlahc2NQXFqJTBPsdmeDk+NUG9iNPJfJpukos5Bnf/lacwwDu9W1PmeXLdPEsDvqtufZyH7u3Ls2YJlgN11/EkbBS3YTs0DXJoO8253vtpT7Lr/cLle5x+16jg2XrXPHheTvKpU3MptLRI692vOlG2ae+gqvK7e+vPXkHksuxzLTy5pn+/NbFkxVco/OcK07Ogzm3YWPjw8ho3vD6B7n/i6K+Wo0DLirD/jnu0tvMbC8Pc7x7z5t4Zp2LtsY119R9D5z+fnAczc7/t0sBu5ybQE3HhmKb+3zF46+Dw2DuvkugL3z3QK442q4qrXzrfPzKjQQ3plQeBIyoivMneg6bsRqcYxtyDtGI9gfnhyB1/TbHGM/CmMYWJ69BSNPq0ZERATeN3RxjK3Iu/8XbgXDKPRzN+A/NzvGy+TnZYUnRxDVu0Phn7uNa8CEfq7bPDQEn7rVC9QRfkd/6FJIK4q3F7xwS6Gf7dYnR7omZrWj4B+DgNL5/iix76gRXR3jboqQ9+uoJI5DJD91wSphl5Lxf/311/zrX/+iRYsW/POf/6RatWr4+Phgt9u59957S/TuQXEfBBf7IZE/npYtW/LZZ5+xYcMGtmzZwpYtW1i1ahXvvPMOs2fPLvCBJQ5FTUhVoNvUpShs28JuIBf5sz53WZb7kMK82+YJOBtIMMDfBH8g41yZD46ZsbBY8LI5BiLn7sPfkoUVEy+LNzk5YDcMckzwwnRcUpqmsyuQn69BTvq5gcKmI/nw9zWICLVy6pjNUXZuXcdYEhMsBpHVfYms6pgtK/V0NgHB3oSGe3HqYDpZZ3OIqOFDs45hJMVl4htoJTTKh9CqPvgHWdm7IYETu1KJqhdAQJAXBzbFc2bfWUybiWEBi8XAP8wHM8tOdir4h3phS80mKyUHr1BvfK2QfTYH32BvfPwtZJ7MwLSZVO8QSaPBtTn2/QlS96dgZtmwnbURWCuAkOr+HFl+hJyz2WCa+Pp74x/tR3CjEE4uOYI9KxvTywRfK2TZIcfEbjGw2x3jNiwWsPpaMLLBzLFjDfIisGU4ZmomGdvOYMfEK8Sb4NgqZP55huzDZ3PPtvMH49cyAp9QL9LXn7tzaQXf+mHY/zxzbg0Dw9eK32VR2I6nYqRnQ2aOo3tOWjZYDPwHN8S27QS2I6kYvhYsFkeS5dU0Cv+bW2H79Tg5vxzH8LVgJmZgCfMjcPo1GDl20p9YjW3LYbBa8Lq8Fl69GzrG7DSMwtx3muwFWzBOpGDUi8DnX1dj7dME89ejEOKH+cM+zGwblmtbw8b92Lcdg9oRjgHBq7Y7Bg43rOoYR7H9KDSuhjGqE2w7DD5WuLyh46GfbWq73ul/9x547XZHd6wG1eDpxbBmG7RvAL3bQFwi9GkDTWPgpdGOcQ+Lf4QAH/j3jY47+Of+Dvjfo47uOX8ed2zbLMbRFWnNNmhW03HxvvFPx/iI0ymOMRmDO0BMnpaBmePh5h7nugs1gQ6NXP9sfbxhzxvw3+8cXbNuuwqqhzkGasclwqhujhmsijKym6Nr1vqd8OVWOJUMN3WHvo4xjwxoB7O+dCQH11/hmO3rus6wZINjQP6Qjo4B8x0awe7XYcVPEBMJbeo4/p1jdyRjhQ1A9/GGb6Y61jt4Cvq3L7TVx6lhNByc6Yjn1wNwVUtoVsuxTZXQorcDeOMux7H+tNdx0X15ERfevt6OMSgrfoIDJx3jduwmDGzvOPbCtK0Hf74BSzaCnzcMvfz8RATlmZ8PfPc0LN8Mw14ouLxb84JlIiVICUgxirowr1mzJocOHSInJ6dAS8H+/fsJCwsjKCio2H0AfPHFF/j6+jJz5kyXcSAHDhz4+8Hnc+TIEbKzs10GtWdlZTlbPHJdyrEB+Pv7uwywz535a/Hixdx9t2NWEt0FcXWgsIat/K0XeQeeX4z8DxqEwvshFZXk5C3Ou688g9kN08TbBG8MDAMyAT/TZOK1AbSL8WL5jxkkJNtp28CHtg28OHnaRqeWXixZPB+A0aPHcPK0wdffp7LvYBZpyTnEHcsmxzRo0cKPe+6uQliolZMnsvl61Rni43Po3CWI2MsdXS9OxWVxeH8GVap5E1XNh9TkHA7sTCO6jh8x9f/6F37DzvkS5YkNyMmwkZGaQ1BU4V1UbNl20hOyCKzqe8Hf73qDCp8itN0zhc8QZ75lknE8Hd8oXyw+jrvKmSfSwW6StOEUvtEBhHaq4ogjLQdbchY+1c/fGbadzcaWmo1PtTxlSZmcWbwP34YhBLSNwsyx4xXpOGemzU5OXBpe1QIwvCzYU7JI+Xg3XvVCCOxVm8LYTp7FCPDGElRIX/2L5P31ncUu9/1HjwJlRvtz8TTKczE4sDWWgefv8HNXwe2c+ra6cGDB/tChoePfL40ter0gfxjayfEqjMXiaAW5Jk9ZqzqOV65OF/F8qW7Ni78YtFrh5p5wc56yuy9h/EGwv2NWr36XFVwWHgz/N8y1LMAXbirkHNerBvfkGed3z4AL1221wuCOFx9raCA8NOTi18+ra7OCM4gVxssK115CTOAY1H5nyYzXLFNeVsfv739GwhP/PV/u6+1IoD2cul2Vb0pAihEQ4PgCz98VqmfPnsydO5dPPvmEG2+80Vm+atUqDh8+zNChQ51luTM95e2zmctyrnnbnmewommazJkzp+QO4pyzZ8/y8ccfuwxC//jjjzl79iw9e/Z0ll3KsSUmJhaYKrhZM8cHfFJSkrMsICCAlJQUxwBcJSPknygJON+lKre1ocBA9Xzvi+tuVViS4TL2I1+yUtSgdROwGBgmmOfiCvIBX0cxnepYmXlrOJHBjt/jTs0L9p/Ozj4/asRiMahVw5sxN4S7rGO3m1gs538vqlbzZuStBe82VqnuQ5Xq5y94/QOtVIkupg/73+DlZyXIr+hpNK3eFoKqlc58/4Zh4F/DtauJbzXH50jVoXVcyq0BXlgDXD/GrYHeWANdn05vDfUl6vbCL74MqwXvmudvKliCfQi9rWWxMVqrFjIWQEQ80+PXO1q43lzpmDb5rj6OJMTj6XqjPFMCUox69eoREBDA4sWL8ff3JzAwkJo1a3Lrrbfy9ddfM23aNHbt2kXz5s2dU9VWq1aNcePGOfcRFhZGTEwMq1evJiYmhvDwcCIiIujQoQNXXXUV33zzDePGjWPAgAHk5OTw7bffkpGRUUxUf01MTAyzZ89m7969NGvWjB07drBs2TLq1q3rkpRcyrENHz6cVq1a0aJFC6pUqUJCQgKfffYZVquVa645f9uvRYsWfPfdd7z44ou0atUKi8VC9+7dK+00vLWDYU9SIQsKbZ3Ik5DkXaew7lUXKzcJzD/FLxDoA13qWMixGSRlmPRp7MXjV/uRkW2SmQPRoSU/bCxv8iEiIm7QpCa8cru7oyhRagEp35SAFMPPz4+nnnqKt956ixdffJHs7GznczjmzJnDrFmz+Pbbb/n8888JDQ1l4MCBjBs3rsDYhyeffJLp06fz2muvkZmZSbt27ejQoQN9+/YlLS2NhQsX8sorrxAcHEz37t255557uOqqq0r0WKpWrcpzzz3Hyy+/zKpVq/D29qZfv37cf//9LolAUFDQRR/bzTffzPr161m0aBEpKSlERETQokULnnrqKVq1Ot/VYdSoURw+fJhVq1bx8ccfY5omy5Ytq7QJyIhmBk9tyN8CUdiaRXSpspOnRcQ8P8Y2fyuJy67y1eF8arqJl2EQ5Gvwfz19eKRX4S0KAT76IBcREc+hBKR804MIK4HcJ6HPmjXL3aEIcCDJpMFsm3MWqAIzWDmnYyr8T9Mbk0g/iAxwTJm/N8E818Mq7z7MPEmJWWAKqegguLGVlQmdfGgUVXqT4WVnZzNv3jwAxo4d6zIGSUREpLQkGv/n8j7MfN5NkUhh1AIiUsbqhhqsG2HQ9UPTNdEobsxHHl/f7E23WueThtQsk0BvcEyoZLLxiEndMANfL3hoZRY/HTOpF27Qv7GFNtUsxNa0EOynGbhFRETEPZSAeKikpCSXAb6F8fPzc5mxSsqPLjFW7miZwzu/F/P8jiKSkCtqujYrB53rHuWYkMjg6gbnl314Y+kMlBYRESnP1L2nfFMC4qEeeughfv7552LXyR2vIuXTBScEK2Rq3RHNwKpB2yIiIsXSGJDyTQmIh/rHP/5xwSelV6nieFbA8uXLyyIkuUSx1S3M/u3c4IwiWjuCvCDcH7LtcHsbC0/10J+siIjIhSkBKc90NeOhcp+3IZ7rztYG938D6bk96Qp5cODgJhY+GKw/UxERkUuhFpDyTSNRRdzEMAye6lrUQsf/6oeVVTQiIiIVh4nh8pLyRQmIiBttiy9++ZpDGkYnIiIiFYsSEBE3CvA28jyZPM+Cc/+uGay7NiIiIlKxKAERcaO7WlvwseKahORJRO5uqz9RERGRS6UuWOWbRreKuFHrqgY/jLIybbOdP+JNMrMhLg2i/OHxK6xcWUcJiIiIyKVS0lG+KQERcbP21Q3+O8gKWN0dioiISAWhBKQ8UwIiIiIiIhWKpnAp35SAiIiIiEiFoi5Y5Zs6mIuIiIiISJlRC4iIiIiIVChqASnflICIiIiISAWjBKQ8UwIiIiIiIhWKWkDKN40BERGP8PavNqq/mUPU6zn8a50N09QcJyIiUjgz30vKF7WAiEi598LGHP7vu/Pvn9tkkpBhZ2YfPTtFREQKUgtI+aYWEBEp9/71XcGyd37TPS0RERFPpBYQESn37BdZJiIi4qAWkPJMCYiIiIiIVCjqglW+KQERERERkQpFnXTLNyUgIiIiIlKhqAWkfFMCIiLlWlyqCfZ897IMwNCXi4iIFE4JSPmmBEREypWjSXY6vpPFsRTTkWhYDPDNN92u6fyPiIiIeBglICJSrtR9OZMckwtPYKL8Q0REiqQWkPJMCYiIlBuLt+eQYzuXfeQ+pUjfISIicol0j6p8UwIiIuXCqVQ7U7/KdHxrWPNkHXrgh4iIXCKNASnf9CT0i3DXXXcxaNAgd4dxQcuXLyc2NpYtW7a4OxSRYtnsJnO/SmPICwmMfyeJj37OpOpTZ9kWZ3eM+cjLboJN97JEROTimRguLylf1AIiUlJsNlj8I2zdDyO6Qpt67o6ozB3ZmcqfW5KIivGj6RXhhXafiovPYdRzpzmRDikWCzlH7MzZBVgtYCninki23bEsd+arixkjIiIilZaSjvJNCYhISbDboe44OHLa8f65JXD/QJhx21/f56FT8MdhiG0IUSEXXN00TcxPf8b+0U+Y1UIwrmmFER6AtVM95/LsDUcwM7KxmxYsgd74Xl6TUzN+InnxXnxbRBDYrx6Bl1fDu3oAx/+7n5PLDnP28FkSjp0lK8fECPQizdtCZqadHC8rXhG+BDUNJ7B6ALt3Z5KUajqTBJthkOTrS6ZvD+yGwca1B0jw8SbdywsrEGmxcMYH4q1eZOfYwDTBy1J4cuGFpt0VERGpICplApKWlkZAQIC7w5CK5LlPzycfuV7+Hzx3C/h6Q9wZ+N8WCA9yXFx//Rv8GedYr3YVOJUEmLB2OySnF9x/oDfUj4azmZCUBhmZcDYLABMrJr7n/m8hB2/s+MBr3wOQjQ92vMjBig0vbBjY8MKOlWwMMgjExODsD3HEz/6Ds/iSg5UMize5mYA3kBVixWYz8QEyAr2xGwYZKTbSfzrNMZ8kksNDwXp+ulyraWIF7OdaNQwgPCsbu2GQZbVywmJw3MsrT6tGbjcr0zHuI++zPsx8yYdyERERKYY67pZvZZKAZGZm8u6777J69Wri4uLw8vIiKiqKTp068dBDDznX27hxI++99x7bt28nKyuL2rVrM3z4cIYPH+6yvw0bNrB06VL++OMP4uPj8fb2pkWLFtx22220b9/eZd277rqL48eP89Zbb/Hqq6+yZcsWkpOTneMk4uPjmTdvHt9//z0nT54kKCiIRo0aceutt9KpUyeXfZ04cYIZM2awceNGsrOzadu2LQ899BB16tS56HOxf/9+rr/+em688UaXY8/1xBNPsHr1alasWEFUVBQAe/bsYebMmfz888+kpaURHR3NNddcw+jRo/Hx8Sm2vpkzZzJ79myWLVtGjRo1XJYNGjSI6OhoZs2a5SyLjY1l4MCBDBgwgDfffJPdu3cTGhrKDTfcwJgxY0hOTubll1/mu+++Iy0tjdjYWB599FGqVavmsu/U1FTmzp3LN998w4kTJwgMDKRjx45MmDCBmJiYiz5fHuPl/xVe/v630KAaDHga0rP++v7PZsPvhwpZ4I2BFwYmkEMO3ph4u1yfW8nBjhd2vDCxYgEM7NiANILP9Y8FMDAw8SWHs4Yvea/yDSAg1UaqjwXDMPC2maT7+2CeSy6sJpiFtFBYzfNfATYDTvr5YTu3TRWbnSC7Sao1T7cqODfo/NwbC44xIfkfRKguWCIiUix9SZRnZZKAPP/88yxbtoz+/fszcuRITNPkyJEjbNy40bnOp59+yrPPPkurVq247bbbCAgIYOPGjTz33HMcPXqU++67z7nu8uXLSUlJYdCgQURFRXHy5EmWLl3KhAkTePvtt7nssstc6k9LS+Puu++mTZs2TJgwgYSEBACOHTvG7bffTkJCAgMGDKBZs2akp6fz+++/s2nTJpcEJD09nbvuuovWrVszceJEjh49yocffsiDDz7IokWLsFrzPSitCPXq1aN58+asWrWKf/zjH3h5nf8RpKWlsXbtWjp16uRMPnbu3Mmdd96JxWLh+uuvp2rVqvz444/MnDmT33//nZdffhlLUf3m/6Jdu3bx3XffMWzYMAYMGMDXX3/N66+/jo+PDytWrKBmzZrcddddHD58mEWLFjF58mTefvtt5/apqancdtttxMXFMXjwYOrXr098fDyffPIJY8aM4f333yc6OrpEY3a7pLTCy9/9BrJy/l7yUSSD/H/CVrLJznd1bsGOHQt2rC5bWs8lIaazxPF/L+zYMQp8dBsmWHJM7N4GWX7ejuQjT9IRmpRCUliIS1mG1/k6U7y8nckHOFpVGmZls9Xf91zwhXxZ2E3H2BADRwtJ3iRH3y0iIlIEjQEp38okAVm7di1dunThySefLHR5fHw806ZNo3fv3jzzzDPO8uHDhzNt2jQ++OADrrvuOued88cffxx/f3+XfVx33XXccMMNzJs3r0ACkpSUxA033MDdd9/tUv7cc89x6tQpXn/99QKtHXa769yfiYmJ3HLLLYwePdpZFh4ezquvvsqmTZvo3LnzRZ4NGDhwIC+88ALr16+nR48ezvJvvvmG9PR0Bg4c6Cx78cUXyczM5L333qNp06YA3HDDDTz99NMsWbKE1atX069fv4uu+2Ls3buXd999l+bNmwMwZMgQBg4cyIwZMxgxYgQPPvigy/oLFy7kwIED1K1bF4C33nqLo0ePMm/ePBo3buxcb9CgQYwYMYKZM2cyZcqUEo35r0pISCAwMBBfX8dFcGpqKqZpEhwcDEBWVhYpKSlERkY6tzl+/LhLAnX8+HGi7UXMFRt3Bvup5FKabq7gh6uBo3XDzFejvZAIDHKTE69Cy01ck2rTOF9jlk/Bjw4vmx3vrGyyfX0wgQxvb2zW8+vl5J/dCgjM27JR3BgPO5BtnvvEMlzm7yv055HnfVxcHNWqVcM4t/8S+5mrDtWhOlSH6rioOtxBCUj5VibT8AYHB7N371727NlT6PKvvvqKrKwsBg8eTGJiosurW7du2O12Nm3a5Fw/b/KRlpZGYmIiVquVli1bsn379kLruOmmm1zeJyUl8eOPP9K5c+cCyQdQoFXBYrEwYsQIl7IOHToAcOhQYV1jita3b1+8vb1ZsWKFS/mKFSsIDg6me/fuAJw5c4Zff/2VLl26OJOPXLfffjvgSFpKWqtWrZzJB4CXlxfNmzfHNE1uvPFGl3Vzk73Dhw8DjoHOK1eupE2bNlStWtXlZ+nv70/Lli3ZsGFDicf8V0VERDg/dAGCgoKcH7oAPj4+Lh+6QIHWm+joaCjkghyANnWx9G5TcgG7sJO/l6ujO5Xr724O3lgLeZiGCfhRsGXGBLxMO3bD8W8TsFvAZgWbBdL8vB1DMgr5YvHOseGdnUOWxUqmjw8+Nhs+OTlYbXYCsnMKrJ9usZwf61FYh93cKnKfDWI1wIrLVL2F/jzyqF69usuXYIn9zFWH6lAdqkN1XFQd7mDme0n5UiYtIA8++CBPPPEEI0aMoGbNmrRv355u3brRo0cPLBYLBw4cAOCee+4pch+53aYAjhw5whtvvMGGDRtISUlxWa+wX/jw8HCCgoJcyg4fPoxpmjRq1OiijqFKlSouf6AAoaGhgCOZuRShoaF07dqV77//nuTkZEJCQjhx4gQ//fQTQ4YMcdZz9OhRABo0aFBgH9WrVycoKMi5TknKP1YEICTEMQtT/g+Z3A+p3HNw5swZkpKS2LRpE1dffXWh+y/pLmPlQucm8PXvBcufvQmCA+BUMqz7A7ysjhmz8o9p+Muyz435cMxznoMPFmyYmOfee2HDG84NT3d0wzIAExsWDAy8yCEnz0eBDQs+2LDZLGR7W8EwHAmIj2N9q82G1W7Hnq9LlAnYvKwYQGBmJmf9fR3r200Mi53Q7GwyrFbO+ngDkG4xSPKyEGJCste534kc27kuV+eaW6znyn0s4F0Bf29EREQqoTJJQLp3787y5cv54Ycf+Omnn9i8eTPLli2jZcuWvP3225jnBqpOnjyZqlWrFrqPmjVrAnD27FnuuOMOMjIyGDlyJA0bNiQwMBDDMHj33XfZvHlzgW39/Pz+9jEUd9Fsmpd+MTlgwADWrFnD6tWrGT58OJ9//jl2u50BAwb8rf3mV9wdCJvNVmh5ceNZilqWG2vu/2NjYxk7duzFhun53r8PatzhWlY9DBqfG3D/7VNwIhECfR0X16eSITXdMa4hNADSssDPB2pGwLtrIPEs7DziSGqC/eDF0dCyNmzcA7/ug3b14beDUDUMTqVi33oY+3d74UwWRo6JYTWxhQXjdXl9rJ3qk7PrNLaV+7GfzjjXouEFNcOxeHljPZZOTqbd0Xri743N6oOZaeCVbcfMgdRQx3iP3ImocgwDa0YO2Eyy/bzBYnHMiOXvh/3c71u2xYJ3dg6Zvj5gOAa52wyDTNPkrAFpViumxUKwCf5ZOewyDLKt56bgtRiuSQiAl5rSRUTk4qkLVvlWZtPwhoSE0K9fP+d4hVmzZjFr1ixWr15N7dq1AUfLwOWXX17sfjZv3kx8fDz//ve/GTx4sMuyt95666LjqVWrFoZhsHv37ks8kpLRtWtXwsPD+fzzz50JSK1atWjT5nx3ndwxL3v37i2w/YkTJ0hNTb3gjFK5LRfJyckuLRuZmZnEx8eX+IxU4eHhBAcHk5qaesGfZYUSHQHrnoLb34BjZ6B7M/jQdawM1cLO/zuwmKT4zt5FL4uJguvOdRkc4vi/Qe64jZKXtj+FxC3xjgeR+1mJjI3CK9ibvZ8fwSfQixpdqnFydwrhtQLwC/dh0VN/cviPVAIDvAmN8CUjB06dTcXmDeHRVYny9eLwWYPtiSY5pmNmrATruVm4vCznHzaYm3wU9+BBtamLiEgRlICUb6WegNhsNtLS0lz6EwLOMQ3Jycn07t2bN954g1mzZtGxY8cCLRapqan4+Pjg4+PjvAOfv3Vgw4YNbNu27aLjCg0N5YorrmD9+vVs2LChwDgQ0zRLtf+il5cXffv25cMPP2TlypXs37+fcePGuawTHh5OmzZt+OGHH9i1axdNmjRxLps7dy4AvXr1Krae3CmCN27c6DKOZOHChQUG2pcEi8VCv379+Pjjj1m1ahV9+/YtsE5CQgIRERElXrfbdWsOu99wdxQlKqBeMAH1gguUN7vx/FPe61x+vm/wLU+7jlXKzs5m3rx5AIwdOxZvb0f3q5W/ZDJuXjKZpqM3mrfNdr4bmM0s+ODBHBN89CwQERG5OLpHVb6VegKSlpZGv3796N69O40bNyYiIoK4uDg++eQTAgIC6NWrF9WqVeORRx7hqaeeYvjw4QwYMIDo6GjOnDnDnj17WLt2LR9//DE1atSgbdu2REZG8vLLL3P8+HGqVq3K7t27+fzzz2nYsGGRA90L8/DDD3Pbbbdx3333MXDgQJo1a0ZGRgbbt28nOjqaSZMmleKZccyG9eGHH/Lss89iGIZL96tcDz30EHfeeSd33XUXN9xwA1WqVGHDhg2sW7eOzp0706dPn2Lr6NixI3Xr1mXmzJkkJSVRo0YNfv31V37//XfCwsJK5bgmTpzIr7/+yuOPP87atWtp1aoV3t7eHD9+nPXr19OsWbNyMwuWuEe/y3zZ2yaK73ZmYTGgSxMfPt+ZzbUfZDmfLeLCZkKGzTEWpIgB8CIiIrnUAlK+lXoC4ufnx8iRI9m8eTObNm0iLS2NyMhIOnXqxNixY51jOwYPHkzt2rVZsGABn376KSkpKYSFhVGnTh3Gjx/vnIEhODiY119/nVdffZVFixZhs9lo2rQpr7zyCkuXLr2kBKRmzZq8//77vPPOO6xfv54VK1YQEhJCo0aNGDp0aKmcj7yaNm1KgwYN2Lt3L+3bty/02RhNmzZl3rx5zJw5k08//ZSzZ89So0YN7rrrLsaMGXPBAd1Wq5WXXnqJadOmsWjRIry9venUqROzZs1yzqRV0oKCgpg7dy4LFizgyy+/ZN26dVitVqpWrUrbtm0ZMmRIqdQrnsVqMejZ/PzEDoOa+7D1Xitt3sososuV6TL7lYiISFGUgJRvhlkSI51FRApRVBes4linpmPP/eLIOw2vjwHeeSdBMDH/eeH9iYhI5fO78arL+1Zm6fZqkUujeS1FpFz58mYvR2sHnJ/A3UK+5AN18BURkSLpOSDlW5nNglXR2Ww2zpw5c8H1QkNDL+ousEhldWUDbw7+w8qoxVkcSobYmrDkQGH3StS8LiIihVMXrPJNCUgJOXHiRIFpgQvz9ttvExsbWwYRiXiu2qEWvr/dMRue3TSxTiv4FHUREZGieHICsnPnTqZOncratWs5ffo0GzZsoF27dkydOpXu3btfcAZUT6AEpIRERkbyxhsXnoK1cePGZRCNSMVhMXKfdCIiInJxPLXb1datW+nWrRvBwcH07NmTjz76yLksNTWVt99+WwmInOfr61u5HrwnUkaKnCdDOYmIiBTBU1tAHnnkEVq3bs2XX36Jj48PixYtci7r2LEjn3zyiRujKzlKQESkXDNyn4ouIiJSwa1fv54FCxYQEBCAzWZzWVatWjXi4uLcFFnJUgIiIiIiIhWMZ965Mk0THx+fQpedOXMGX1/fQpd5Gk3DKyLlXtWAgmXdY8o+DhER8QwmhsvLU7Ru3ZolS5YUumzlypW0b9++jCMqHWoBEZFy7+vrLXRaaOdstuN9vRBYNdxa/EYiIlJpeeog9Pvuu49Ro0YRGBjILbfcAsChQ4f45ptvmDt3LosXL3ZzhCVDCYiIlHstq1hInmSw6TgE+0CLKM+5myUiImXPk1o98rrxxhvZu3cvU6ZM4dVXHU9zv+666/Dy8mLq1KkMGjTIzRGWDCUgIuIRLIZBpxrujkJERDyBp7aAADz66KPceuutrFq1ihMnThAVFUXfvn2pU6eOu0MrMUpARERERKRCsXtoC0iumJgYbr/9dneHUWqUgIiIiIiIlAOHDh264Dq1a9cug0hKlxIQEREREalQPHUMSN26dR3PvypG/ueDeCIlICIiIiJSoXjqGJC5c+cWSEDi4+NZtmwZR44c4fHHH3dTZCVLCYiIiIiIVCie2gIyZsyYQssffPBBrr/+eg4fPly2AZUSPYhQRErN8QMpHPwshAPLwkiIS3d3OCIiUkl46oMIizNmzBjeeecdd4dRItQCIiKlYta/15Ox9jTpkc0xgMUjvyZyRF1G3HOZu0MTEZEKzlO7YBUnJyeHxMREd4dRItQCIiKlIuG7FA5E1KNm3Bmqn0hkT5WGHFx8zN1hiYiIeJTs7Gx++uknJk+eTJs2bdwdTolQC4iIlIoU7wiGrN5EUHomAMmB/nzZpaWboxIRkcrAU7tdWSyWImfBCg8PZ9WqVWUcUelQAiIipaLNrsMcrR7Bn/WiMUyTJnuP0WLPUaCDu0MTEZEKzlMTkH//+98FEhA/Pz/q1q1L//79CQ4OdlNkJUsJiIiUipRAP35vVtf5/ofYEFr/sd99AYmISKXhqWNApkyZ4u4QyoQSEBEpFQdrVilQdrhGlBsiERGRysZTW0AqCyUgIlIq0rwLfrwk+/m4IRIREalsPKkF5Mknn7zodQ3D4IknnijFaMqGEhARKRU+Kal0O7yZzge2YDcsfF+vA5vDm7o7LBERkXLlUrpdKQERESnGtdu+5/LELc73w3/7nIiqSUBX9wUlIiKVgid1wbLb7e4OocwpARGRUtEg/c8CZY1Td7shEhERqWw8KQGpjJSAiEipCMk+W6AsMjPJDZGIiEhlU/naFDyLEhARKRWFDQA0i3i4koiISEkyLZ77fbNu3TpeffVVduzYQXp6ussywzDYu3evmyIrORZ3ByAiFdPB8OoFynZXiXFDJCIiUtmYhuvLU3z//fdcddVVJCUlsWPHDpo2bUrNmjU5dOgQXl5edO/e3d0hlgglICJSKgKzUgqUBWckuyESERERzzB58mTGjh3LypUrAXjqqaf47rvv+Pnnn0lNTWXYsGFujrBkKAGRMpeTk0NWVpa7w5BSVi21YAISk5zghkhERKSyMS2Gy8tTbNu2jaFDh2Kc67Jss9kAaN26NU888cQlPTOkPFMCUoGtWbOG2NhYlixZUujykSNHMmDAAOf0b4cOHeKJJ56gb9++dOrUiUGDBvHKK68U6H944MABnnvuOW644Qa6d+9Oly5duPnmmwutZ+bMmcTGxrJ3716mT59O//79ueKKK/jtt99K/oCl3DM86clQIiLisUyL68tTpKWlERQUhMViwdfXl/j4eOeypk2b8scff7gxupKjQegVWLdu3YiKimLp0qUMHTrUZdkff/zBn3/+yZ133onFYmHHjh2MGzeO4OBghg0bRtWqVfnzzz/58MMP+fXXX5k1axZeXo5fly1btrB161Z69OhB9erVSU9P56uvvuLpp58mMTGRsWPHFojliSeewM/Pj5tuugnDMIiKiiqTcyDucyogmOizrrNeHQsOp657whERkUrEtHpOq0detWvX5sSJEwA0b96cFStWcM011wDw7bffEhkZ6c7wSowSkArMy8uLQYMGMW/ePPbs2UPDhg2dy5YuXYrFYmHw4MEAPPnkk0RGRvL+++8TGBjoXK9Dhw489NBDfPHFFwwaNAiAgQMHMnz4cJe6Ro0axbhx43j33Xe55ZZbnMlKrpCQEN544w2sVmtpHa6UM29eMYDBOzbQ4cg+AH6o05jPml/BC26OS0REKj67B3W7yqtnz56sXbuW4cOHc+eddzJhwgR27NiBr68vq1ev5sEHH3R3iCXCgxql5K8YOnQoFouFpUuXOssyMjJYtWoVHTt2JDo6mj179vDnn3/St29fsrOzSUxMdL7atm2Lv78/GzZscG7v5+fn/HdmZiaJiYkkJyfTqVMnzp49y4EDBwrEMWLEiHKZfCQkJJCZmel8n5qaSkrK+bELWVlZnD592mWb48ePF/s+Li4O0zzf16iy1rGicSc63vcc9R95jTqPvkGXe57i+5qtPO44VIfqUB2qQ3X8vTrcwVO7YE2dOpVJkyYBMG7cOKZNm0ZiYiInT57k8ccf56mnnnJzhCXDMN39GyKl7t577+WPP/5g5cqVeHt7s2LFCiZPnsxzzz3H1VdfzZdffsm//vWvYvfRoUMH3nrrLcDRP3HWrFl8+eWXzmbCvGbNmkW7du0AxxiQ2bNn89FHH1G/fv2SPzgpt9rcd4DfarlOu9tp7z5+fKuxmyISEZHKYlnoBy7vByfd5KZIpDDqglUJDB06lB9//JG1a9fSu3dvli5dSlhYGD169ABw3qUYOXIkXbt2LXQfISEhzn8/9thjfP/99wwdOpR27doREhKC1Wpl/fr1LFy40DmoPa+8rSZSObQ8dqRAAtLq2GFACYiIiJQuT5r5Kq/XX3+dm266ifDwcHeHUqqUgFQC3bt3JzIykqVLl9K0aVN++eUXRo0ahbe3N+AY8ARgsVi4/PLLi91XSkoK33//Pf379+fRRx91WbZp06bSOQDxSP03HWBDncbsqx4BQJMj8fT65ZiboxIRkcrAkx4+mNekSZN46KGHGDx4MLfddht9+vRxTslbkXhQrzj5q7y8vBg8eDCbNm1i5syZmKbJkCFDnMubNGlCw4YNWbJkCYcPHy6wfU5ODklJjtmMLBbHr0z+nnvx8fF89tlnpXYM4nly8GPQll1UO5NKdEIKQzbtJMUnyN1hiYhIJeCpzwHZsWMHkyZNYv369fTv359atWrx2GOP8eeff7o7tBKlBKSSGDJkCKZpsnLlSlq3bk29evWcywzDYOrUqXh5eTFq1ChefPFFPvnkEz744AOef/55BgwYwLp16wAIDAykU6dOfPHFFzz99NN89tlnvPXWW4wcOZKaNWu66/CkHHq7byyvDOzMifAgjkcE8/ywrrzb6zJ3hyUiIpWA3XB9eYomTZrw/PPPc+jQIZYvX84VV1zB9OnTadq0Kd26dWPevHnuDrFEKAGpJGrWrOnsXpW39SNXkyZN+OCDD7jmmmtYt24dL774InPnzuX3339n0KBBdOjQwbnuf/7zHwYPHsx3333HCy+8wNq1a5kwYQLXX399WR2OeIC90QXnKj9UNazsAxERkUrHU1tAclksFvr3789HH33E8ePHee211zh48CB33nmnu0MrEZoFqxK5//77+eWXX1i5ciX+/v7uDkcquPqPnmF/RLBLWZOTiex8QQ+hFBGR0rW42ocu74efGOGmSP6e5ORkPvzwQ+bNm8fGjRsJCAggNTXV3WH9bWoBqSQOHz7MDz/8QP/+/ZV8SJlofzQei/38/Q2r3U7s0Xg3RiQiIpWFabi+PM3XX3/NzTffTHR0NOPGjQMcjzbI/8wVT6VZsCq4bdu2sX//fj788EO8vb25+eab3R2SVBLRiancuO0g26uGYjGh+clEqiWmXHhDERGRv8n00JmjJk+ezPz58zl8+DDVqlXjnnvuYezYsTRt2tTdoZUoJSAV3OLFi1mxYgU1a9bkP//5jwaKS5lZ26AGcSEB2CwWDOBIsD/1QwPcHZaIiFQCnjTwPK/nnnuOgQMH8vrrr3PNNddgtVrdHVKp0BgQESkVEVNSOBPk2t2vemIqx58Kc09AIiJSafw35iOX9yOP3OCmSC5NfHw8UVEVf6ykWkBEpFRkehe8a5Pmo48cEREpfZ447gOoFMkHaBC6iJSSkMyciyoTERGRykUJiIiUivZHT0OeHp6GaRJ7NMGNEYmISGVhGobLS8oX9YcQkVLRPC4RbxO2Vw3FAFqdSKTRiTPuDktERCoBTx2EXlkoARGRUuGVlkqdJB/qJKU5y7IzM90YkYiIVBZq9Sjf1AVLREpFy+beJOdkE5RyluDks5y227i6p6+7wxIRkUrA0x9ECJCens7Ro0fJyal44yeVgIhIqRj1RieenlKddDOdTFJ5+Zka9Pt3e3eHJSIilYDdMFxenmTNmjV07tyZ4OBg6tSpw2+//QbAxIkT+fTTT90cXclQAiIipSaqZSRNrt9Fw+v3ENIw1N3hiIhIJeGpLSDffPMNffr0ISMjg3/+85/Y7XbnsqioKN599133BVeClICIiIiIiJQD//73v+nfvz+//PILTz31lMuyNm3asHXrVvcEVsI0CF1EREREKhRPHYT+yy+/8PHHHwNg5DuGKlWqcPLkSXeEVeKUgIiIiIhIheKpCYiXlxfZ2dmFLjt58iTBwcFlHFHpUBcsEREREalQPHUMSIcOHXj//fcLXbZ48WI6d+5cxhGVDrWAiIiIiEiFYlo8KOvI45FHHqFv374MHTqUW2+9FcMw2LhxI3PnzmXx4sWsWbPG3SGWCMM0TdPdQYhIxXTlw/v4yTcCwzTpZCay8ul67g5JREQqgZnNlrq8v3vHtW6K5NItWLCA+++/n4SEBGdZWFgYr732GjfddJMbIys5SkBEpFR0mPgnW2JqQ+4MghbocuQg37/R2K1xiYhIxeeJCYjNZmPv3r1UrVoVX19ffvjhB06cOEFUVBRdunQhMDDQ3SGWGHXBEpFS8Vu1moTHJ3HGz/GBGZGRypZqNd0clYiIVAae2AXLNE2aN2/O8uXLueaaa7jqqqvcHVKp0SB0ESkVTY8eciYfAAl+QTQ+esSNEYmISKVhGK4vD+Dl5UX16tVdHj5YUSkBEZFSYc2xFSgLTk9zQyQiIlLZmBbD5eUpRowYwXvvvefuMEqdumCJSKnoeHQvv1Sv61J2+bG9wGVuiUdERCoPT30OSNu2bVm0aBFXXnklw4YNIzo6usADCYcNG+am6EqOEhARKRU3/7qZn6LrsaVGfQC6Ht7FoB3bgeHuDUxERCo80/DMTj633norAEePHmXt2rUFlhuGgc1WsIeBp1ECIiKlItWMZv27z7G9WlWsdjtNTiXwv5ie7g5LRESk3Kooz/m4ECUgIlIq9kZVpemJllQ/kQoYHKc6+6tEujssERGpBDxp3EdePXr0cHcIZcIz26dEpNx768pOJAQEkEkwmQRxMjiId7p3dHdYIiJSCZiG4fKS8kUtICJSKrIsXlz5f7dxze9/YjMMVrZqTK0TSe4OS0REKgMPzTmuvPLKYpcbhsHXX39dRtGUHrWAiEipGP7dDlL8fPnw8tZ83LEVaT7eXPf9DneHJSIilYCntoDY7XZM03R5nTp1iu+//57du3djmqa7QywRHpOALF++nNjYWLZs2fKX9zFo0CDuuuuuEoxK8tuyZQuxsbEsX77c3aGImzU9Hs/zs7/m6p/20WfzXqbN/JK6CYnuDktERCoBT30OyNq1a1mzZo3L6/fff2fbtm0EBwczefJkd4dYIjwmASlru3btYubMmRw7dszdoXi8lJQUZs6c+beSR/E8vzWqSrXEszQ9EE/TA/FUSUnj9wZV3R2WiIiIx2ncuDEPPfQQDz/8sLtDKREeMwakf//+9OnTB29v7zKpb/fu3cyePZv27dtTo0aNMqmzImjXrh3r16/Hy+v8r1ZKSgqzZ88GIDY21l2hSRk7XCWCFSMac9nxeOwGPNWxPi2Px7s7LBERqQQ8qdvVxapbty7btm1zdxglwmNaQKxWK76+vlgsHhNymUpLS3N3CABYLBZ8fX2xWq3uDkXc7EyAHzf8vpuzPl5kelm54bfdJAX6uTssERGpBDx1DEhxPvnkkwpzU/xvX82fPHmS2NhYZs6c6VI+adIkYmNjeffdd13Kx40bx4ABA5zv4+PjefbZZxkwYACdOnWiX79+PP300yQkJLhsV9QYkLi4OP71r3/Rs2dPunXrxrhx49i5cyd33XUXgwYNKjTmvXv3cu+999K9e3d69OjBww8/THz8+TuzU6ZMYerUqc54Y2NjCz3G4uTGu3HjRmbOnMnAgQPp3LkzN954IytXrix0mz/++IN//vOfXHXVVXTu3Jlhw4YxZ84ccnJyXNbLPbYjR47w8MMPc+WVV9K9e/eLjq24cRpTpkwp0EqRW9+JEyd45JFH6NWrF127duWee+7h4MGDxe57+fLlDB48GIDZs2c7z6XG4lR8EekZPN+zA8taNOCzlg2Z1jOW8LMZ7g5LREQqAU9NQG677bYCr5tuuolWrVrx9ttvM27cOHeHWCL+dhesqlWrUrt2bTZv3szdd98NQE5ODlu3bsVisbBp0ybGjBkDQGZmJr///ju9e/cGHMnD2LFjyc7O5tprryUmJoYjR46wePFitmzZwvvvv09QUFCRdScnJ3PHHXdw6tQphg4dSsOGDdm5cyfjx48nLCys0G1OnTrF+PHj6dWrFz179mTXrl0sWbKEs2fP8sYbbwAwbNgwvL29WbJkCWPHjqVevXoANGrU6JLPz2uvvUZ6ejrDhw8HHBfkjz/+OBkZGQwZMsS53vfff89DDz1ErVq1uPnmmwkJCeH3339n5syZ7N69m+eff95lv2lpadx99920adOGCRMmFEjYSlp6ejp33XUXrVu3ZuLEiRw9epQPP/yQBx98kEWLFhXZ4nHZZZfxwAMPMH36dHr16kWvXr0AiIiIKNV4xf1+ja5Cpvf5j5g0H292VNeDCEVEpPR5UtKR1zfffIORL3Y/Pz/q1q3Lv/71L0aNGuWmyEpWiYwBiY2NZdmyZaSnp+Pv78/27dtJS0ujf//+fP3112RlZeHj48Nvv/1GZmYmHTp0AOD5558nOzubDz74gGrVqjn3d9VVVzF27Fg++OADZ1JTmPnz5xMXF8cTTzzBtdde6yxv2LAh06ZNIzo6usA2hw8f5tlnn3UmQeDo3vXxxx9z4MAB6tatS+vWrTl48CBLlizh8ssv/1vjFhITE/nwww+didTw4cMZMWIEL7/8Mn379sXf35/MzEyefPJJWrZsyVtvveUcP3HdddfRqFEjZsyY4WxZyJWUlMQNN9xQ7PkpSYmJidxyyy2MHj3aWRYeHs6rr77Kpk2b6Ny5c6HbxcTE0LNnT6ZPn07Dhg3p379/mcQr7pfi51OwzLdgmYiISEnz1ATkwIED7g6hTJTIgIoOHTqQk5PDzz//DMDmzZsJDg7mlltuITMzk99++81Znrt+SkoK69evp1u3bvj6+pKYmOh81ahRg5iYGDZu3Fhsvd9++y3h4eEMHDjQpfy6664jMDCw0G2qVKniknzA+YHRhw8fvvSDv4Dhw4e7tOIEBQVx3XXXkZqa6uxOtnHjRhISEhgwYACpqaku56JLly7OdfK76aabSjzeolgsFkaMGOFSlptIHjp0qMziKGkJCQlkZmY636emppKSkuJ8n5WVxenTp122OX78eLHv4+LiXObprqx1ZBUyV3mG3fW9JxyH6lAdqkN1qI6/V4dcvPfee6/A+c6VkJDAe++9V8YRlY4SaQHp0KEDhmGwZcsWunTpwpYtW2jfvj2NGjUiMjKSzZs3O8dv1KlTh6pVq7Jt2zbsdjvLly8v8pkRNWvWLLbeY8eO0bRp0wLdf7y9valZs6bLH1Bx+wwNDQUcrQolrW7dugXKcrt0HTlyBID9+/cD8NRTT/HUU08Vup/8v4zh4eHFdk8raVWqVMHX19elrDTPW1nJ3xUs/zn18fEhMtK121D+lrX876tXr646gDPePmB3/QJKyNcq4gnHoTpUh+pQHarj79XhDp7aAjJ27Fh+/PHHAuccHNeLY8eO5dZbb3VDZCWrRBKQsLAwGjRowKZNm5zjPCZNmgRA+/bt2bx5M6NHj2b79u0MHTrUZdu+ffs6Bynnl/+CtyQUN4tWaWTr+fvxFbYst9577rmHZs2aFbpulSpVXN77+f312YSKi8lmsxVaXtbnTTyf6VXwd8a0ahY7EREpfZ708MG8irumysjIqDCzjJbYc0A6dOjAhx9+yLp168jMzKRjx44AdOzYkWeffZbvvvsOm83m7O4UExODYRhkZWVx+eWX/6U6a9SoweHDh7HZbC4/kOzsbI4ePUpISMhfPp7iLtIvxf79++nRo0eBMjjfGlOnTh3AkVT81XNxKYpruTh69GiJ11dS51I8i5fdJH866223F7quiIhISfKkFpBDhw65jP345ZdfyMhwnTUyPT2dWbNmUbt27TKOrnSU2O3I2NhYTNNk9uzZREVFObsZxcbGYrPZmDNnDoZhOBOQsLAwunTpwrp169i6dWuB/ZmmyZkzZ4qts3v37pw5c4b//e9/LuWffPIJZ8+e/VvH4+/vD1BoN65LsXjxYlJTU53vU1NT+eSTTwgODnaei86dOxMREcH7779PYmJigX1kZGT87ePJq0aNGlitVjZt2uRS/uuvv/L777+XWD25SupcimeJyMgsUBaVrml4RUSk9HnSNLzz5s2jZ8+e9OrVC8MwmDBhgnPm0NzXNddcw5IlS7jvvvvcHW6JKLEWkPbt22O1Wtm3bx/XXHONszwmJoYaNWqwb98+Gjdu7DI97iOPPMIdd9zBuHHj6N+/P02bNsVut3P06FHWrVtH//79i53l6dZbb2XVqlU888wz7NixwzkN75o1a6hVq1aR3YkuRvPmzbFYLMybN4/k5GT8/Pxo0KABDRs2vKT9hIWFMXr0aAYPHoxpmixfvpy4uDgef/xx54W5n58fU6dO5Z///CfXXXcdgwcPpnbt2qSkpHDgwAHWrFnDiy++WGJPEQ8ICGDQoEF89tlnPProo7Rv357Dhw+zfPlyGjVqxO7du0uknlxhYWHExMSwevVqYmJiCA8PJyIiwjmIXSqm4Mwc8g5LNEyTkKxst8UjIiKVR3lPOvK64YYbaNmyJaZpcsMNN/DMM88UePSDr68vLVu2LHRssScqsQQkKCiIpk2bsn379gIXlrnT9OYvr169OgsWLGD+/Pl8++23rFy5Eh8fH6pVq0a3bt0KzFaVX1hYGO+88w6vvPIKX3zxBXa7nVatWvHWW2/x5JNPuszqcKmio6N57LHHmD9/Ps888ww2m40777zzkhOQe++9l61bt/LRRx+RkJBArVq1eOqpp+jXr5/Lep07d2b+/PnMnz+flStXcubMGUJCQoiJieGmm276S88gKc4DDzwAwJo1a/j2229p2rQp06dPZ8mSJSWegAA8+eSTTJ8+nddee43MzEzatWunBKSCa33iKPWSUzkUGoSBSa2kNCJSTwPFTy4hIiJSmTRr1sw5BnjevHkMHDiw0EHoFYlhVsARxDk5OfTu3ZuWLVvy2muvuSWG5cuXM3XqVN5+++0Sa7kQ8ST/vnodNVOTaBW3HRODX2u04khgMM982c3doYmISAX3zFU/uLx/9Osr3BSJFKbEWkDcJSMjo8CMUIsXLyYlJaVMBnSLSOGqp8Rz+5b/4mV3dIXscPhn3uxUds+uERGRysuTumDll5CQwMKFC9mxYwfp6ekuywzDYM6cOW6KrOR4fAJy3333ER0dTdOmTQHHQOovv/yS2rVrM2zYsBKtKzs7+6KeeREeHl6i9V6s+Pj4C64TFBT0t6bwFblYXQ5uciYfAD72bDof/AkofNptERGRkuKpCcihQ4fo0KEDaWlppKWlERUVRUJCAjabjfDwcOdMpp7O4xOQbt268fnnn7N27VoyMjKIiori+uuv56677iIgIKBE6/r1118ZN27cBddbtmxZidZ7sfKPKynM5MmTGTRoUBlEI5VdRHrBWc8i0z33oZUiIuI5TM/MP3jkkUdo0aIF//vf/wgKCuKLL76gZcuWzJ49m2eeeYYVK1a4O8QSUSHHgJSW5ORkduzYccH12rZtWyoPUbyQjRs3XnCdBg0aEBUVVQbRSGX3aYtXGfbHWnIMCwYmVtPk4xZXc/22Ce4OTUREKrgn+7peE/17lWd0y69Xrx4vvPAC1113HV5eXmzevJn27dsD8O9//5uff/65wOMnPJHHt4CUpZCQkHI9rqQ8xyaVz4Srh/Ns2278HlkTi2nS4swxToVX4Xp3ByYiIhWep3bBOnHiBNHR0VgsFqxWK8nJyc5lPXr04NVXX3VjdCWnxB5EKCKS10mfALZUq0umlzfp3j5sqVqXw75B7g5LRESk3KpWrRoJCQkA1K1bly1btjiXHThwAC+vitF2UDGOQkTKH3vB3p3q8SkiImXB7qEtIJ06deKXX35h8ODBDBs2zPlcOx8fH1588UWuvPJKd4dYIpSAiEipsNrt5BiujaxeNrubohERkcrExDMTkH/+858cOHAAcIz52LFjB5MnT8Y0Tbp3784rr7zi3gBLiBIQESkVUempxPkHw7m7UIZpUj0tGajYT3cVERH389QxIO3bt3cOOg8MDGTZsmUkJydjGAbBwcFujq7kaAyIiJSKn6dUJSQ7E0wTTJPQ7Ay2Tavh7rBERKQSMA3D5eXJQkJCKlTyAUpARKSURFf3J35GFM/H/I9ptZZzckYVQkLKfnpqERGpfDw5Adm5cycjR44kOjoaHx8ffv75ZwCmTp3KmjVr3BxdyVACIiKlKiw4g+CgTHeHISIiUu5t3bqVDh068O2339KzZ09sNptzWWpqKm+//bYboys5SkBEREREpEIxDdeXp3jkkUdo3bo1e/bs4f3333eZPbJjx45s3rzZjdGVHA1CFxEREZEKxVOn4V2/fj0LFiwgICDApfUDHM8IiYuLc1NkJUsJiIiIiIhUKJ427iOXaZr4+PgUuuzMmTP4+laMsZTqgiUiIiIiFYqnDkJv3bo1S5YsKXTZypUrnVP0ejq1gIhIqTJSTEzd6hARkTLkqV2w7rvvPkaNGkVgYCC33HILAIcOHeKbb75h7ty5LF682M0RlgzDzDu6RUSkhGTEpbK53cv4Z3tjAuk+OXT+8yG8AwpvWhYRESkp/xz6u8v7aUtauSmSS/fMM88wZcoUbDYbpmliGAZeXl5MnTqVRx55xN3hlQglICJSKhY2nknXg0cJznJMwZvo5893dWpw68673ByZiIhUdA8Oc01AXvrUcxIQgMOHD7N69WpOnDhBVFQUffv2pU6dOu4Oq8SoC5aIlIqoDNOZfACEZaQTkemZTeIiIuJZTDzn++bhhx9m0qRJxMTEOMtq1qzJ7bff7saoSpd6ZotIqQjJTCtQFpilBxKKiEjpsxuGy6s8e+mllzh27Jjzvc1mw9vb2/kE9IpICYiIlIrNteoWKNtSq3bZByIiIpWOJ82CVdhoiIo+QkIJiIiUiu+r1mJl0xbkGBayLVaWtmjDjsBId4clIiKVgCclIJWRxoCISKk4FB7CqHbDaXLiNHaLwZ9VIrhq1153hyUiIiJupgREREqFf04Wj636gSYnzwCwrXoU22qEujkqERGpDOwe1uixa9cuvLwcl+U2mw2AnTt3Frpuu3btyiyu0qJpeEWkVLzT+AN8M12f+ZHtk8Ftf97ipohERKSymHij68X7G4uauimSC7NYLBj5uonlPv+jsLLcBMWTqQVEREpFDn74YncpS/MKclM0IiJSmdg9aBreefPmuTuEMqcERERKxbHQIK44vJeGqfswMdgd1IBd1eu7OywREakEPGng+ejRo90dQpnTLFhSKpYvX05sbCxbtmxxdyjiJk2S9tPnxNc0PLuPRmf3cs2JL6mdctTdYYmISCVgN1xfUr4oARGRUtH70C9YOD/EzIJJv4MV96FKIiIicnHUBUtESoXNAhlWL76o2wqraaffgW3YrO6OSkREKoPy/vTzyk4JiIiUinfa9WZ207YcDnE8fLBB4glu3rOLKe4NS0REKgFPGgNSGakLVgVw8uRJYmNjmTlzpkv5pEmTiI2N5d1333UpHzduHAMGDHC+j4+P59lnn2XAgAF06tSJfv368fTTT5OQkFCgrtTUVF599VWGDBlC586dufrqq3n00Uc5cuTIRcX67rvvEhsby/PPP4/dbr/wBuKx3m7V1Zl8AOwNq8a7zS93Y0QiIlJZaAxI+aYWkAqgatWq1K5dm82bN3P33XcDkJOTw9atW7FYLGzatIkxY8YAkJmZye+//07v3r0BiIuLY+zYsWRnZ3PttdcSExPDkSNHWLx4MVu2bOH9998nKMgxdWpqaiq33XYbcXFxDB48mPr16xMfH88nn3zCmDFjeP/994mOji40RrvdzosvvsjHH3/M+PHjuf3220v/xIhbpVkK3t9I15eAiIiUAdODpuGtjJSAVBCxsbEsW7aM9PR0/P392b59O2lpafTv35+vv/6arKwsfHx8+O2338jMzKRDhw4APP/882RnZ/PBBx9QrVo15/6uuuoqxo4dywcffOBMat566y2OHj3KvHnzaNy4sXPdQYMGMWLECGbOnMmUKVMKxJaZmcnjjz/OunXrmDJlCgMHDizdkyHlQoPTyfxUI9KlrH58MlDdPQGJiEiloTEg5Zu6YFUQHTp0ICcnh59/dswytHnzZoKDg7nlllvIzMzkt99+c5bnrp+SksL69evp1q0bvr6+JCYmOl81atQgJiaGjRs3Ao6nb65cuZI2bdpQtWpVl3X9/f1p2bIlGzZsKBBXcnIyEyZMYOPGjcyYMaPcJR8JCQlkZmY636emppKSkuJ8n5WVxenTp122OX78eLHv4+LiMM3zsz9V1jp8rdDkZKLjjWnS8ngC+Lp+5HjCcagO1aE6VIfq+Ht1iORnmPoNqRASExPp3bs3N998M/fddx/jxo0jKCiIadOm0bdvX4YMGcL48eO57bbbSEpK4pNPPmHbtm3OrllFqVmzJkuXLiUhIYE+ffoUu25udy9wPAdk6tSpBAYGkpaWxuzZs2nbtm0JHa14gp6372fIT7vxS8wETM5GBvBF6wZ8NU8PIxQRkdJ18637Xd4veK+emyKRwqgLVgURFhZGgwYN2LRpk3Ocx6RJkwBo3749mzdvZvTo0Wzfvp2hQ4e6bNu3b18GDx5c6H59fX0BnHcyYmNjGTt27EXH1bt3b5YvX87s2bN56aWX8PPz+yuHJx7oisMnyQ70IchuwzRMTD8vYo+dApSAiIhI6dLA8/JNCUgF0qFDBz788EPWrVtHZmYmHTt2BKBjx448++yzfPfdd9hsNmJjYwGIiYnBMAyysrK4/PLiZycKDw8nODiY1NTUC66bV79+/ejYsSNPPPEE999/PzNmzMDf3/+vH6R4jNCzafTa8gf+WdkApPr58lWHFm6OSkREKgO7BqGXaxoDUoHExsZimiazZ88mKiqKevXqOcttNhtz5szBMAxnAhIWFkaXLl1Yt24dW7duLbA/0zQ5c+YM4Ohe1a9fP3bu3MmqVasKrb+waXsB+vTpw7PPPsvWrVu59957OXv2bAkcrZR3bf485Ew+AIIyMmm157AbIxIRkcrCNAyXl5QvagGpQNq3b4/VamXfvn1cc801zvKYmBhq1KjBvn37aNy4MWFhYc5ljzzyCHfccQfjxo2jf//+NG3aFLvdztGjR1m3bh39+/d3zoI1ceJEfv31Vx5//HHWrl1Lq1at8Pb25vjx46xfv55mzZoVOgsWwJVXXskLL7zAI488wr333surr77qnN5XKqYqZ1IKlFU/neSGSEREpLJRF6zyTQlIBRIUFETTpk3Zvn27c5rdXLnT9OYvr169OgsWLGD+/Pl8++23rFy5Eh8fH6pVq0a3bt2czwvJ3f/cuXNZsGABX375JevWrcNqtVK1alXatm3LkCFDio2ve/fuTJs2jYceeogJEybw+uuvExISUmLHL+VLtsVC/hE/WYU8G0REREQqF82CJSKl4oP6HxOelkGWtxVM8LbZOOPnx837r3d3aCIiUsFdd9shl/efzK3tpkikMGoBEZFSkRARQkJ4MOT2vTX1XFoRESkbGoRevqk/hIiUCq/s7PPJB4BhYOTkuC8gERGpNGyG60vKFyUgIlIq/LKzCpQFZGa4IRIREals7Ibh8pLyRQmIiJSKRqcPFChrklCwTEREpKTZDdeXlC9KQESkVPiRyA/1qnI6wI/4QD/W16+Kr6FpeEVEpPTZMVxeUr5oELqIlIqneg9maauWLmWGkcF/3RSPiIiIlA9KQESkVOwPr1Kg7EB4lBsiERGRysamcR/lmrpgiUipaHX0aIGyFseOuyESERGpbDQGpHxTAiIipaLFgXgu33/A+b77n3tpcijBfQGJiEilYcNweUn5oi5YIlIq6iSfZuy3WxmyYTcGEJFxFl8y3R2WiIhUAnr2R/mmFhARKRWj9ozFO9Ck/ckDXHbyIJZIb27deYu7wxIRkUpAzwEp39QCIiKl5pYfhzJv3jwAxo4d6OZoREREpDxQAiIiIiIiFYpmwSrflICIiIiISIWS4+4ApFhKQERERESkQlELSPmmBEREREREKpQc5R/lmhIQEREREalQcvTsj3JNCYiIlJrDp7P54tt2YJgMGJZDzShvd4ckIiIibqYERERKxYvTdpH4dQqNfH0AeOvmbTQYGcXY0fXcHJmIiFR02WoAKdf0IEIRKRXp/ztJ9rnkAyDLz5ejcw+5MSIREakssg3D5SXli1pARKRU2LwLdreyeakLloiIlL5sdwcgxVICIiKlwp5tK1iYpZnZRUSk9KWp1aNcUxcsESkVX1aN5EieLlgH/H35pkqEGyMSEZHKIt1wfUn5ohYQESkVv1SPZKOXF5FZ2diBMz7e+OWoBURERKSyUwIiIqXCtDgaWE/75Bn3oSZxEREpA1l6Dki5pgREREqFFfDPyqbNmSTsBvwaHoa+D0REpEzo+6ZcUwIiIqWiXkoqN+4/gp/dDsCVx0+xuG6Mm6MSEZFKQS3u5ZoGoYtIqbjixGln8gEQaLNx+Yl4N0YkIiIi5YFaQESkVERkZBYoiyykTEREpMSpBaRcUwuImy1fvpzY2Fi2bNnyl7Y/duwYsbGxzJw5s4QjuziXGv9dd93FoEGDSjkqKQ/CU88WKKuakuKGSERERKQ8UQIiIqUiODUDr/RM0nx9SfP1wTstE/90TcMrIiJlwMj3knJFXbA8XHR0NOvXr8dqtbql/v79+9OnTx+8vb0vvLJUKun+/sRXi3ROx5vh40ukxoCIiEiZUNZRnikB8XCGYeDr6+u2+q1Wq9uSHynf4quFO5MPANNqIb5qpBsjEhGRSkP5R7mmLlilKDs7m/nz5zNq1Ci6dOlCjx49uOWWW1i0aFGx2509e5Y333yT0aNHc9VVV9G5c2eGDBnCa6+9RkZGhsu6hY0ByVv25ZdfOusfMmQIy5YtAyAuLo6HH36YK6+8ku7du/PYY4+Rmpp6ycdY1BiQkydP8uijj9KzZ0+6devGuHHj2Llz5yXvXzxXjlfB+xs53kpWRUSkDKgLVrmmFpBSkp2dzT333MNPP/1E586d6d+/P97e3uzZs4c1a9Zw4403FrntqVOnWLp0KVdffTXXXHMNFouFn3/+mffee49du3bx+uuvX1QM33//PZ9++inDhw8nJCSEZcuW8eSTT+Ll5cVbb71Fhw4dmDBhAn/88QfLli3Dx8eHyZMn/+1jT0lJ4c477+T48eNce+21NGnShO3btzN+/HhCQ0P/9v7FU+SQ/yPGYtcsWCIiUhaUdZRnSkBKycKFC/npp5+47bbbmDBhgssye55nIxSmZs2arFixAq88d5BvuOEG3nrrLebMmcO2bdto2bLlBWM4cOAAH3/8MdWrVwegb9++DBgwgMmTJ/PAAw8wcuRI57opKSl8/vnnPPTQQwQEBFzKoRbw3nvvcfToUR555BGGDx8OwPDhw6lfvz6vvPIK0dHRf2v/4hl67fyWFa364p9jAyDdy8o129cAHdwbmIiIiLiVumCVkpUrVxIUFMTtt99eYJnFUvxp9/b2diYfOTk5JCcnk5iYSMeOHQHYtm3bRcXQs2dPZ/IBEBYWRu3atbFYLFx33XUu67Zt2xabzcaxY8cuat/F+fbbbwkNDWXIkCEu5TfeeCOBgYF/e/8lKSEhgczM83flU1NTSckzVWxWVhanT5922eb48ePFvo+Li8M0zUpfx4GImsQFB7M/PIz94WHEBQcTFxzlccehOlSH6lAdquPv1eEW6oJVrqkFpJQcOnSIhg0b/uUB4h9//DGffPIJ+/btK9BiknKRz1KoUaNGgbLg4GCioqLw8fFxKQ8JCQEgKSnpL8Wb15EjR2jSpIlLCw6Aj48PNWvWvOj4y0JERITL+6CgIJf3Pj4+REa6DpzO34KT/33epK8y1/Flw3YF7nB80SiWuzzsOFSH6lAdqkN1/L063ENZR3mmBKQcWrBgAS+//DKdOnVixIgRREVF4e3tzalTp5gyZcoFu3DlKqqlpbgWmJK6Y2HoCaSVXpxfADXOdb/KdSQgqIi1RURESpAuQ8o1JSClpE6dOhw8eJDMzMxLbgX5/PPPqVGjBq+++qpLsvDDDz+UdJilIiYmhoMHD5KTk+PSCpKVlcXRo0edrS1Sse338SbKZqNKUiqmYXAqJIiDPnpejIiIlAElIOWaxoCUkn79+pGamsqcOXMKLLtQK4PVasUwDJf1cnJyePfdd0s6zFLRo0cPkpKS+Oyzz1zKFy1axNmzZ90TlJS51gkJDFn3Az1+/oOeP23n2u/W0+bMGXeHJSIilYIGgZRnagEpJSNHjuS7775j7ty57Nixg8svvxxfX1/27dvHwYMHefPNN4vc9qqrruL1119n0qRJ9OrVi7Nnz7Jq1aoCYyrKq1tvvZXVq1fzwgsvsHv3bho3bsz27dtZu3YtMTEx2Gy2C+9EPN5tWzaRaTs/o5pPjhe3/rQFaOK+oERERMTt1AJSSry9vXn99dcZP348J06c4M033+SNN95g+/bt9OrVq9htb7nlFiZOnMjRo0d56aWX+Pjjj7n88suZOnVqGUX/9wQHBzN79myuvvpqVq9ezSuvvMLx48d56623qFq1qrvDkzLik5FToMw/Xc8BERGRMqAGkHLNMN0+T5qIVEQrar7JSd9qLmVRWScYdGRCEVuIiIiUDOMx1y7f5tPl6zEAlZ1aQESkVKR4+ROWleh8H5GZwBkfzYIlIiJS2XnGoAIpUxkZGaSmpl5wvaioqAuuI5XX8cAIqqcmUy/1gOO9f3VO+ge7NygREakc1O2qXFMCIgV8+eWXFzXeZMuWLWUQjXiqpa3qMu3LJTRL/hMTg21hTZjVaRD/dHdgIiJSCSgDKc+UgEgBnTt35o033nB3GOLhOpzcSeyZ35zvO53+heZnWgJt3RaTiIhUEso/yjUlIFJAVFSUulfJ3zZyx4YCZTf/8QMwtOyDERERkXJDCYiIlIrqKSkFymKSkt0QiYiIVDpqASnXNAuWiJSKLZHtsOf5BrBhsDmynRsjEhGRykMPAinP1AIiIqUi09vOZzUH0DB1HyYGe4Lrk+mT4e6wRESkMlDOUa6pBURESsXJUAtNUvbyZ3AD9gXVo1nyn6QE2NwdloiIiLiZWkBEpFRYul7OnpSVZPmcxm4Y7PPxJ3BID3eHJSIilYFaQMo1JSAiUirGv9qeHRvr8OFjv4IFxky/jHotI9wdloiIiLiZEhARKTUN24VS84a9AMQ06e7maEREpNIw1ARSnmkMiIiIiIiIlBm1gIiIiIhIxaIGkHJNCYiIiIiIVDDKQMozJSAiIiIiUrEo/yjXNAZERERERETKjBIQEREREREpM+qCJSIiIiIVi7pglWtqARERERERkTKjFhARERERqVj0IMJyTQmIiIiIiFQsyj/KNXXBEhERERGRMqMEREREREREyoy6YImIiIhIxaIuWOWaEhARERERqWCUgZRnSkBEREREpGJR/lGuaQyIiIiIiIiUGSUgIiIiIiJSZtQFS0REREQqFnXBKtfUAiIiIiIildKUKVMICgpydxiVjlpARERERKRiUQtIuaYWEBERERERKTNKQERERESkYjEM19dftG3bNvr160dQUBAhISFce+217Nmzx7n89ttvp3v37s73Z86cwWKx0K5dO2dZeno6vr6+LFiw4C/HUdEoARERERERyefw4cN069aNEydOMH/+fN555x12795Nt27dOHXqFADdu3dn06ZNZGRkAPDdd9/h6+vLr7/+SmJiIgA//vgjWVlZLolKZacxIFJpmaZJSkqKu8Oo0LKzs0lPTwcgOTkZb29vN0ckIiJlLTg4GONvtEL8JSVQ3YwZM8jKymL16tVUqVIFgMsvv5xGjRrxxhtvMGXKFLp3705mZiYbNmygZ8+erFu3jsGDB7N27Vq+//57Bg4cyLp166hTpw61a9f++0FVEEpApNJKSUkhNDTU3WFUGvfff7+7QxARETdISkoiJCSkTOs0//n3L3G/++47rrzySmfyAVCnTh2uuOIKvvvuOwDq1atHrVq1+Pbbb50JyJgxY7Db7Xz77bfOBEStH66UgEilFRwcTFJSUoHy1NRUBgwYwIoVKzQ1XwnQ+SxZOp8lR+eyZOl8lpyKdi6Dg4PdHcJfcubMGdq2bVugvHr16uzatcv5vnv37qxbt47U1FR++eUX5s6di81mY8GCBWRnZ7NhwwZee+21Moy8/FMCIpWWYRiF3pGxWCxYrVZCQkIqxAe/u+l8liydz5Kjc1mydD5Ljs5l+RAREcGJEycKlMfFxREREeF83717d+6//37Wrl1LaGgoLVq0wGaz8cADD7BmzRrS09PVApKPBqGLiIiIiOTTtWtXvv76a06fPu0sO3z4MD/88APdunVzlnXv3p309HSmTZtGt27dMAyD1q1bExwczDPPPEP16tVp1KiROw6h3FILiIiIiIhUWjabjcWLFxcov++++5g3bx59+vThsccew2azMXnyZCIiIpg4caJzvaZNm1K1alW+/fZbpk+fDjh6WXTt2pXly5dzww03lNmxeAolICL5+Pj4cOedd+Lj4+PuUCoEnc+SpfNZcnQuS5bOZ8nRuSxbGRkZXH/99QXK582bx7p16/jnP//JLbfcgsVioVevXrz00ksuA9PB0QqyePFil65WPXr0YPny5ep+VQjDNE3T3UGIiIiIiEjloDEgIiIiIiJSZpSAiIiIiIhImdEYEJFi5M7jvX79evbt24fNZqNhw4bceeeddOzY0d3hlWsHDx5k2rRp/PLLL/j7+9O3b1/uuece/Pz83B2ax/nqq6/44osv2LlzJ0lJScTExDB8+HCGDRuGxaL7SH9HWloaw4cP5+TJk7z33ns0b97c3SF5pM8++4xFixZx8OBBAgMDadmyJTNmzHB3WB5p7dq1zJs3jwMHDuDr60ubNm2YOHEidevWdXdoIiVGCYhIMTIzM5k3bx4DBw7klltuwcvLi+XLlzNx4kSmT5/uMg2fnJeSksL48eOpXr06L7zwAgkJCcyYMYOkpCT+85//uDs8j7NgwQKio6OZNGkSkZGRbNmyhRdffJGjR49y3333uTs8j/bOO+9gs9ncHYZHmzlzJgsXLuS2226jZcuWJCcn88MPP7g7LI+0ceNGHnroIa655hrGjx9Pamoqs2bNYuLEiSxatEjPBJEKQwmISDF8fX1ZtmyZywMLO3XqxKFDh1iwYIESkCJ88sknJCcns3DhQsLCwgDw8vLi8ccf57bbbqNevXruDdDDzJgxg/DwcOf72NhY0tLS+Oijjxg/frxmyvmLDhw4wMcff8z999/Ps88+6+5wPNL+/fuZO3cur7zyCp06dXKW9+rVy41Rea7Vq1cTHR3N1KlTMQwDcDx1e8yYMfz666906dLFzRGKlAy13YsUI/dJtHkZhkHjxo05deqUm6Iq/3744Qc6duzoTD4ArrzySnx8fFi/fr37AvNQeZOPXE2aNCEzM5Pk5GQ3RFQxvPjii1x33XXUqVPH3aF4rOXLl1OzZk2X5EP+upycHAICApzJB0BwcDAAmrRUKhIlICKXyG6389tvv+kufjH2799f4Pz4+PgQExPD/v373RRVxbJ161ZCQ0MLTU7kwr766iv+/PNP7rjjDneH4tG2bdtGgwYNeOedd+jduzedOnXirrvuYteuXe4OzSNde+217N+/nw8//JCUlBSOHTvGyy+/TL169TTuUCoUJSAilyh3oOVNN93k7lDKreTkZOddu7yCg4N1x74E/PHHHyxbtoyRI0ditVrdHY7HycjIYMaMGUycOFF96v+m+Ph4Nm7cyBdffMG//vUvXnzxRTIyMpg4cSIpKSnuDs/jtGvXjmnTpvHWW2/Rq1cvBg8ezNGjR3n99dfV1VIqFI0BkUonNTWV+Pj4C65Xo0aNAh/4P/30E6+++io333wz7dq1K60QKyx1Ifj74uPjefjhh2nRogVjxoxxdzgeac6cOURGRjJo0CB3h+LxTNMkLS2NF154gQYNGgDQrFkzBg8ezKeffsro0aPdHKFn+fXXX3niiScYPHgw3bt3JzU1lXnz5jFp0iTmzJmjhFkqDCUgUumsWbOGqVOnXnC9Dz74gCZNmjjf//nnnzz44IP07NmTSZMmlWaIHi8kJKTQu5+pqanquvY3pKamMmnSJPz8/Jg+fTpeXvoIv1THjx9nwYIFvPjii5w9exaA9PR0wDElb1paGgEBAe4M0aOEhIQQGRnpTD4AoqKiqFu3Lvv27XNjZJ5p2rRpdOjQgQcffNBZ1rZtW/r3789nn33GzTff7MboREqOvr2k0hk0aNAl3/k8cuQI99xzD02bNuXJJ590GSAoBdWrV6/AWI+srCyOHDnC4MGD3RSVZ8vMzOSBBx4gISGBefPmuQzwl4t39OhRsrOzuf/++wssGzduHC1btuTdd98t87g8Vb169YiLiytQbpqmnlHzF+zbt4/u3bu7lIWHh1OlShWOHj3qpqhESp4SEJELiI+PZ+LEiURGRjJt2jS8vb3dHVK5d8UVVzBnzhwSExOdF8pr1qwhKytL00j+BTk5OTzyyCPs3r2b2bNnEx0d7e6QPFaTJk14++23Xcp2797N9OnT+de//kWLFi3cFJln6tq1K//73//Ys2cPDRs2BODkyZMcOHBAXdz+gujoaHbs2OFSFh8fz8mTJ/V3LxWKYapTtkiRMjIyuO222zhy5AhPPvkkkZGRLstbtWrlpsjKt5SUFG688Uaio6O54447nA8i7Ny5sx5E+Bc8/fTTLFmyhEmTJnHZZZe5LKtXr576hf9NW7ZsYdy4cXoS+l9gs9kYPXo0aWlpjB8/Hm9vb2bPns2ZM2f45JNP8Pf3d3eIHmXRokW8+OKLXH/99fTo0YPU1FTmzp1LXFwcH330EVFRUe4OUaREKAERKcaxY8eK7TK0ZcuWMozGsxw8eJAXX3yRrVu34ufnR9++fbn33nvx8/Nzd2geZ9CgQRw/frzQZW+//TaxsbFlHFHFogTk70lISGD69Ol8//335OTk0K5dOx544AHq1q3r7tA8jmmaLFmyhMWLF3P48GECAgJo3rw5EydOdLYwiVQESkBERERERKTMaISYiIiIiIiUGSUgIiIiIiJSZpSAiIiIiIhImVECIiIiIiIiZUYJiIiIiIiIlBklICIiIiIiUmaUgIiIiIiISJlRAiIiIiIiImVGCYiIyF80ZcoUDMPgwIED7g6FkydPEhoayqxZs5xlBw4cwDAMpkyZ4r7ApNyoW7cuPXv2/Mvb9+zZU083L8Q999xDs2bNyMnJcXcof8nPP//MP/7xD/r160dsbCxr16695H2Ypsn777/PsGHD6Ny5MwMGDGDu3LklH6xUGEpARMTFyZMnefjhh2nZsiXBwcGEhobSqFEjRowYwaeffuqybs+ePfHz8ytyX9OmTcMwjCK/0JKSkggICMAwDN59990i91O3bl0Mw3C+fHx8qFu3LnfccQeHDx/+K4dZ4TzxxBNEREQwduxYd4dSZqZMmcJnn33m7jCkDG3dupUpU6aUedK/du1apkyZQmJiYoFljz76KAcOHODtt98u05hKSnp6Oo0aNeLhhx/+y/uYNm0an332Gffddx+LFy9m+vTptGjRogSjlIrGy90BiEj5cfjwYTp06EBKSgo33XQT48ePB2DPnj2sWLGC1NRUhg0bVmL1LVy4kIyMDBo0aMCcOXMYM2ZMketGR0fzwgsvAJCSksLatWuZO3cun3/+Ob/99htRUVElFpenOXr0KHPnzuXZZ5/F29vbWV6nTh3S09Px8qqYH/VTp05l9OjRDBkyxN2hSBnZunUrU6dOLfPWmLVr1zJ16lTGjBlDWFiYy7IaNWpw44038swzzzBu3DiP+3vr0qULXbp0KXJ5dnY2b775JitXriQlJYUGDRpw7733EhsbC8D+/ftZvHgxixYtUguZXDTP+isRkVL14osvcuLECZYtW8agQYNcls2YMYMjR46UaH1z5syhe/fu3HjjjUyYMIFdu3bRpEmTQtcNCQnh5ptvdr4fP348VatW5fXXX2fu3Ll/6+6dp5s1axamaXLTTTe5lBuGUWwLlYiUjFtuuYX58+fz2WefMXz4cHeHU6KmTp3KsWPHeOaZZ6hSpQpr1qxh0qRJfPjhh9SuXZt169ZRs2ZNvv/+eyZNmoRpmnTs2JFJkyYRGhrq7vClnFIXLBFx2r17NwC9evUqdHlMTEyJ1fXbb7/x008/MWbMGEaOHImvr+8l9xnu27cvAHv37i1ynS+++ALDMJg+fXqhy7t160ZkZCRZWVkAbNq0iTFjxtC4cWMCAgIIDg6mS5cuLFmy5KJiGjNmDIZhFLrMMIxCW3kWLVpE165dCQ4OJiAggMsvv5zFixdfVH0AH330EW3btiU6OtqlvLAxIHnLcrfz9/enYcOGzJs3D4BDhw4xfPhwIiIiCA4OZtSoUSQlJRV6nKdOneLWW28lMjKSgIAArrzySn766acCMb755pv06dOHmjVr4uPjQ3R0NDfffHORXWnWrFnDgAEDiIyMxM/Pj/r163P77bcTHx/P2rVrned4/vz5zq55F3P39fTp00yaNInatWvj4+NDjRo1uOOOOzh+/LjLerl1vPvuu7zzzjs0b94cX19f6tSp42yJu5CSOtcA27Zt47rrriMqKgpfX1+aNGnCk08+SWZmZoF1d+zYwYABAwgKCiIsLIxrr72Wffv2FRnnV199RZ8+fQgLC8PPz4/WrVuXSHeiefPmERsb6/w76tWrF6tXry6wXlF/F++++65LF84xY8Y4uxj26tXL+XPP/f3OHZO1fft2Jk2aRPXq1fHz86Njx458+eWXLvsubnxU/rFdPXv2ZOrUqQDUq1fPWW/ebqM9e/YkMDCQRYsWXdpJKueOHDnCqlWreP7557nsssuIiYnhlltuoW3btixfvhxwtMDGxcXx1VdfMXXqVCZPnsyOHTv4v//7PzdHL+WZWkBExKl+/foAzJ49m/vvv7/IC+n84uPjCy1PS0srcpt33nmHwMBAhg8fTlBQEIMHD+a9997j6aefvuguDH/++SdAsd2v+vTpQ3R0NO+99x4PPPCAy7L9+/ezfv16xo8fj4+PDwBLlixh9+7djBw5kpiYGE6fPs38+fMZNmwYH3zwAaNGjbqo2C7W448/ztNPP02/fv34z3/+g9VqZcmSJVx//fW8/vrrTJw4sdjtT548yc6dO5kwYcIl1fu///2PmTNnMn78eCIiIpg7dy633XYb3t7ePP7441x11VU888wzbN68mblz5+Ln51dogtivXz8iIiKYMmUKcXFxvP766/To0YMffviB1q1bO9d76aWXuOKKK+jduzdhYWFs27aNd955h2+++Ybff/+dyMhI57q5cdWqVYsJEyZQu3ZtDh06xPLlyzly5AjNmjXj/fff55ZbbqFbt27cddddAAQFBRV7zMnJyXTt2pVdu3YxevRoOnbsyLZt25g5cyarV69m8+bNVKtWzWWbt956i5MnT3LHHXcQGhrKggUL+L//+z9iYmIu+nfh757rn3/+me7du2OxWJg4cSIxMTGsWrWKyZMn8+OPP7JixQosFsf9xP3799O1a1fS0tKYMGEC9evX5+uvv6ZXr16F/j3OmjWLcePG0alTJx577DGCgoL48ssvGT9+PHv37uXFF1+8qGPM79FHH+XZZ5+lffv2/Oc//yEjI4M5c+bQr18/3n///QKtdRfj7rvvxtfXl1mzZvHoo4/SrFkzAJffM4Bbb70Vq9XK//3f/5GSksLMmTO55ppr+Pzzz+nTp88l1/vYY48RERHBkiVLmDFjhvPz5oorrnCuY7Va6dChA99++y2maV70Z2d5t3PnTkzTLND1Nisry9m6YZomWVlZTJ06lTp16gDw73//23mDQd2ypFCmiMg5e/fuNUNCQkzArFWrljlq1ChzxowZ5pYtWwpdv0ePHiZwwdeaNWtctsvIyDAjIiLMW2+91Vm2YsUKEzCXLl1aoJ46deqYDRs2NE+dOmWeOnXK3Ldvnzl37lwzNDTUtFqt5q+//lrscf3zn/80gQLrTZkyxQTMjRs3OstSU1MLbH/27FmzcePGZrNmzVzKJ0+ebALm/v37nWWjR482i/poBczRo0c732/ZssUEzEceeaTAutdee60ZHBxsJicnF3ts33zzjQmYL730UoFl+/fvNwFz8uTJBcoCAwPNQ4cOOctPnTpl+vn5mYZhmC+//LLLfoYOHWp6eXmZKSkpBY5z6NChpt1udzkmwzDMq6++2mUfhZ3Xr776ygTM559/3ll2+PBh08fHx2zevLmZlJRUYBubzeb8d/7zeSGPPfaYCRQ4vgULFpiAeeeddzrL1qxZYwJmdHS0eebMGWf52bNnzaioKLNTp04XrK+kznWXLl1Mi8Vi/vTTTy7r3nnnnSZgfvDBB86ykSNHmoD5xRdfuKw7ceJEEzB79OjhLDt27Jjp6+trjhgxokDskyZNMi0Wi7lnzx5nWY8ePcw6depc8Lh37dplGoZhXn755WZGRoazPD4+3qxevboZHh7u8vtQ1M9x3rx5BT4/CivLlfv32LFjRzMzM9NZfvjwYTMwMNBs1KiR83e1sL+N/PvJ+3ddWFl+t99+uwmYcXFxRa5T3rVv397l3K5atcrs2LGjuX//fvPQoUMur1OnTpmmaZpvv/222bFjR5f9pKenm+3btzd//PHHsgxfPIi6YImIU/369fn111+ZMGECdrudhQsX8o9//IPY2Fhat25daNcab29vvvzyy0JfuXem81uyZAkJCQku3S769u1LdHQ0c+bMKXSbPXv2UKVKFapUqUL9+vW57bbbCA8P55NPPilwBzS/0aNHA/Dee++5lC9YsICmTZvSsWNHZ1lgYKDz32lpaZw+fZq0tDSuvPJKduzYQXJycrF1XYqFCxcCjju28fHxLq/BgweTkpLCjz/+WOw+Tp06BUBERMQl1T1kyBBq1arlfB8VFUXjxo2xWCyMGzfOZd1u3bqRk5NTaHephx9+2OVub/v27enduzfffPONy7nKPa92u52kpCTi4+Np06YNoaGhbNy40bnexx9/TFZWFk888QQhISEF6su90/9XLFmyhIiIiAKtRaNGjaJhw4aFdrMbO3asy6DjgIAAOnXq5Gx9uxh/51yfOnWK9evXM2DAANq1a+ey7hNPPAHgnJ3ObrezfPly2rRpQ79+/VzWffTRRwvEtXjxYjIzMxk7dmyB379BgwZht9v5+uuvL/o4cy1duhTTNHn44Yfx9fV1lkdGRjJhwgTOnDnDmjVrLnm/F+sf//iHs0UTHF1Hb7rpJv7880+2b99eavXmtuKdPHmy1Oooa02aNMFms3HmzBlq1arl8sptCWrTpg02m81ljOChQ4cACnQLFcmlLlgi4qJu3bq88cYbvPHGGxw/fpwff/yR+fPns2zZMgYOHMj27dtdLnYtFgtXX311ofvaunVroeVz5syhSpUqxMTEsGfPHmd57969WbhwIXFxcVSvXt1lm1q1ajm7peSOIWjYsOFFdXVo2bIll112GQsXLuT555/HarWyfv169uzZw7PPPuuy7smTJ3n88cdZunRpoRcSiYmJhV4Y/xU7duwAoHnz5kWuc+LEiWL3kXv8pmleUt316tUrUBYeHk50dLTLRWNuOTjGT+SX2w0mr+bNm7N69Wr2799PmzZtAPjmm2948skn2bhxIxkZGS7rnzlzxvnv3Av73O1K0r59+2jbtq3LTGHgOIctWrRg6dKlJCcnu/x8c7sl5hUZGVnouSjK3znXuWM3CpvStFatWoSGhjrXOXnyJKmpqYX+TGrUqFFgQHDu71/uWKrCXOj3rzDFxdyqVSuXdUpDUb+T4Bgv1rJly1KpN/dv0NO6X6WlpblMZ3706FF27dpFaGgoderU4ZprrmHy5Mncf//9NGnShMTERDZv3kzDhg3p2rUrHTt2pGnTpjz55JM88MADmKbJ888/z+WXX+7skiWSnxIQESlSdHQ0w4YNY9iwYYwaNYr//ve/fP755y6zUV2qAwcO8PXXX2OaJo0bNy50nfnz5xcYwBgQEFBkonMxRo8ezf3338+XX35Jv379eO+997BYLC7HYrfb6d27Nzt37mTSpEl06NCB0NBQrFYr8+bNY+HChdjt9mLrKerio7CHlOVesHz++ecFLopzXWgu/SpVqgCuF/EXw2q1XlI5XHySk/9CbNOmTfTp04eGDRvy3HPPUa9ePfz9/TEMgxEjRric00tNpEpKUfUWdz4u1t8513/lfFzsBXDuvufNm1fkBBOFJWAXu99LXZbfX32wX2HHn/93srhz9FfrTUhIAM7/TXqKP/74w6UlbsaMGQAMHDiQKVOmMHnyZObMmcPLL7/sfOBp69at6dq1K+C4CTVjxgxeeOEF7rrrLvz9/bniiiu4//773XE44iGUgIjIRencuTP//e9/OXr06N/az7x58zBNk5kzZxbabejJJ59k7ty5JT6DyqhRo3jooYd477336NWrFx999BFXXnmly4XX77//zm+//ca///1v56w3ud55552Lqif3mBISElyOr7A7vo0bN2blypXExMQ47wxfqhYtWmAYhktLUlnasWMHnTp1KlBmsVicg0//+9//YrPZ+OKLL1xaA86ePVsgccqdhnnr1q2F3sn+O+r/f3t3GhJVF4cB/KnGmVxS0maaanLoDTXLosXBKDKTyLQQh1yQrIRMCy0oKCoibDMyxagwJWyDog8tJmGmUn0wjFKjlMGkzVBH2jSipPX/fogZmmamrGx6e3t+4Jfr4d4zRy/c/5xznvvPP2hpacG7d+/sCj6TyYQhQ4b02exWXxk9ejQAOFw61NbWhhcvXljbaDQaeHl5wWQy2bXt6OiwS9eyfAHg5+f3U8X91/r8Zay25XNY2gCf7hnLw/vnHN0zvSmuTCaT3bJMy2yPpaD6/D7tq+talolqNJpvtv0vCQ0NRV1dndPfKxQKZGRkICMjw2kbtVr9w4EF9HfiHhAisrp8+TJ6enrsjlvWlgNfXy70LR8/fsSRI0cwduxYpKenIz4+3u5n4cKFaGlpQU1NzQ9fxxG1Wo3o6GiUlpbi+PHj6O7utu4NsbB8I/3lt7RNTU29juG1PNRVV1fbHM/Pz7dra5l92bhxo8NvXXuzllytVmPs2LG4fv16r/rX13Jzc23Gq6GhAdXV1YiMjLQ+zDsb15ycHLsZpfj4eCiVSmzfvt3hfpvPz+Hl5fVdMz9GoxHPnz9HcXGxzfGTJ0/i7t27ffqSzb6iVqsxffp0lJeX2y1p3LFjBwBY+92/f3/Exsbi1q1bqKiosGmbk5Njd+6EhASoVCpkZ2c7TMh68eKFw5jfb4mLi0O/fv2Ql5dnjbcGPj3sFxYWYvDgwYiIiLAeDwwMRG1trU0furq6rFHFn7MknX3t715QUGBz3ba2Npw4cQKBgYHWGcVBgwZBq9Xi0qVLNv9T9+/fR2lp6Xdf98OHD6irq0N4ePgftwSL6HfgDAgRWeXn5+Pq1auYP38+pkyZAh8fH3R2duL06dOor6/HrFmzMG/evB8+f1VVFR49eoTNmzc7bbNgwQKsX78eJSUl1in+vrJkyRKUlZVh9erV8PLysnvgDA4Oxrhx45Cbm4vXr18jKCgILS0tKC4uRkhICBoaGr55jeTkZGzcuBHp6elobm6Gn58fLly44DCq2GAwWHPzJ06ciMTERAwfPhxmsxn19fUoLy+3eZByJiEhAdu2bYPZbHb5ps/W1lZERUUhNjYWZrMZ+/fvh7u7u03BZTQaUVBQgJiYGKSnp0OpVKKqqsrhG+x1Oh327NmDzMxMjB8/HosXL4Zer0d7ezvOnTuHQ4cOYeLEiQCAsLAwVFdXY/fu3Rg5ciQ8PT3tXqD5uXXr1uHUqVNYtWoVbt68CYPBYI3h1el02Lp16y8Zo5+1d+9ehIeHY+bMmcjMzMSIESNQWVmJsrIyREVFISkpydp2+/btqKiogNFoRGZmpjWGt66uzuFYHzhwAGlpaQgODraO9ZMnT9DY2IjS0lKYTKbvjlENCAjA+vXrsXPnTkyfPh3JycnWGN7Ozk4cO3bMJuwhKysLKSkpiIyMxKJFi9Dd3Y2DBw9Cr9ejs7PT5tyhoaHo378/du7cia6uLnh4eCAkJMRmX8f79+8xY8YMJCcn4+XLlygqKkJPTw/27dtnUxxkZWVh06ZNiI6ORlxcHDo6OlBUVISQkBDcuHHD5rphYWEAgA0bNljfWxQWFmad0bty5QpevXqFxMTE7xoror+WKyO3iOi/rba2VtasWSOhoaGi0WhEoVCIj4+PTJ06VfLz820iNUU+xXKqVCqn59u9e7dNZGZCQoIAkNu3b3+1HxMmTBBPT09rBK1er5egoKCf+3Ai8ubNG/H19RUAkpqa6rDNw4cPJT4+XoYMGSLu7u5iMBjkzJkz3xXNee3aNZk2bZqoVCrx8/OTZcuWSVdXl9O40fPnz8ucOXNk8ODBolQqRafTydy5c6WwsLBXn6u9vV0UCoXk5eXZHP9aDK+j+FFnMauOok8tMbyPHz+WlJQU8fX1FXd3d5k1a5bD2OazZ8/K5MmTxcPDQ/z8/CQpKUlaW1tFr9fbRMNaXLx4UWbPni3e3t6iUqlk1KhRkpaWJk+fPrW2aW5ulsjISPHy8hIAvYqIffr0qWRlZYlOpxM3NzfRarWydOlSaW9vt2lnieE9fPiw3Tm+FrX8ub4aaxGRxsZGMRqN4uvrK25ubhIQECDZ2dl296SIiMlkkpiYGPH09BRvb2+JjY2Ve/fuOR3rmpoaiYuLE7VaLW5ubjJs2DCJiIiQvLw86enp+WafnSkpKZHJkyfLwIEDxdPTU2bOnCkVFRUO2+bm5oq/v78olUoZM2aMlJSUOB2LkpISCQwMFIVCYTO+lvuxqalJsrKyZOjQoaJSqcRgMEhlZaXdNd+9eydr164VrVYrKpVKJk2aJGVlZU7v6x07doi/v78MGDDA7n9jyZIlotVq5e3bt70eH6K/WT+R37Tjj4iI+szy5ctRWVmJO3fuON3Q3pdSU1Nx9OjR37ZpnOhL2dnZ2LJlCx48eODSl9+ZzWaMHj0au3btwsqVK112XaI/GfeAEBH9D2zduhXPnj1zuG6eiH6dnJwc6PV6rFix4nd3heiPwT0gRET/AxqNxi7liIh+vX379v3uLhD9cTgDQkRERERELsM9IERERERE5DKcASEiIiIiIpdhAUJERERERC7DAoSIiIiIiFyGBQgREREREbkMCxAiIiIiInIZFiBEREREROQyLECIiIiIiMhlWIAQEREREZHLsAAhIiIiIiKXYQFCREREREQuwwKEiIiIiIhchgUIERERERG5DAsQIiIiIiJyGRYgRERERETkMv8CU9FTy3IEa4oAAAAASUVORK5CYII=&quot; width=&quot;800px&quot; height=&quot;390px&quot; alt=&quot;&quot;&gt;&lt;/img&gt;\",\"width\":800},\"id\":\"9604\",\"type\":\"panel.models.markup.HTML\"},{\"attributes\":{\"tools\":[{\"id\":\"9548\"},{\"id\":\"9565\"},{\"id\":\"9566\"},{\"id\":\"9567\"},{\"id\":\"9568\"},{\"id\":\"9569\"}]},\"id\":\"9571\",\"type\":\"Toolbar\"},{\"attributes\":{\"factors\":[\"search_volume\",\"claim_id\",\"week\",\"weight_per_unit\",\"year\",\"total_post\"],\"tags\":[[[\"index\",\"index\",null]]]},\"id\":\"9547\",\"type\":\"FactorRange\"},{\"attributes\":{\"overlay\":{\"id\":\"9570\"}},\"id\":\"9568\",\"type\":\"BoxZoomTool\"},{\"attributes\":{},\"id\":\"9600\",\"type\":\"UnionRenderers\"},{\"attributes\":{\"coordinates\":null,\"group\":null,\"text\":\"Feature Importances from LassoCV\",\"text_color\":\"black\",\"text_font_size\":\"12pt\"},\"id\":\"9550\",\"type\":\"Title\"},{\"attributes\":{\"source\":{\"id\":\"9578\"}},\"id\":\"9585\",\"type\":\"CDSView\"},{\"attributes\":{},\"id\":\"9556\",\"type\":\"CategoricalScale\"},{\"attributes\":{\"fill_alpha\":{\"value\":0.2},\"fill_color\":{\"value\":\"#30a2da\"},\"hatch_alpha\":{\"value\":0.2},\"hatch_color\":{\"value\":\"#30a2da\"},\"height\":{\"value\":0.8},\"line_alpha\":{\"value\":0.2},\"right\":{\"field\":\"importance\"},\"y\":{\"field\":\"index\"}},\"id\":\"9583\",\"type\":\"HBar\"},{\"attributes\":{},\"id\":\"9565\",\"type\":\"SaveTool\"},{\"attributes\":{\"callback\":null,\"renderers\":[{\"id\":\"9584\"}],\"tags\":[\"hv_created\"],\"tooltips\":[[\"index\",\"@{index}\"],[\"importance\",\"@{importance}\"]]},\"id\":\"9548\",\"type\":\"HoverTool\"},{\"attributes\":{\"margin\":[0,0,0,0],\"tabs\":[{\"id\":\"9603\"},{\"id\":\"9605\"}]},\"id\":\"9545\",\"type\":\"panel.models.tabs.Tabs\"},{\"attributes\":{},\"id\":\"9579\",\"type\":\"Selection\"},{\"attributes\":{\"child\":{\"id\":\"9604\"},\"name\":\"shap_values\",\"title\":\"shap_values\"},\"id\":\"9605\",\"type\":\"Panel\"},{\"attributes\":{\"fill_alpha\":{\"value\":1.0},\"fill_color\":{\"value\":\"#30a2da\"},\"hatch_alpha\":{\"value\":1.0},\"hatch_color\":{\"value\":\"#30a2da\"},\"hatch_scale\":{\"value\":12.0},\"hatch_weight\":{\"value\":1.0},\"height\":{\"value\":0.8},\"left\":{\"value\":0},\"line_alpha\":{\"value\":1.0},\"line_cap\":{\"value\":\"butt\"},\"line_color\":{\"value\":\"black\"},\"line_dash\":{\"value\":[]},\"line_dash_offset\":{\"value\":0},\"line_join\":{\"value\":\"bevel\"},\"line_width\":{\"value\":1},\"right\":{\"field\":\"importance\"},\"y\":{\"field\":\"index\"}},\"id\":\"9586\",\"type\":\"HBar\"},{\"attributes\":{},\"id\":\"9554\",\"type\":\"LinearScale\"}],\"root_ids\":[\"9545\",\"9636\"]},\"title\":\"Bokeh Application\",\"version\":\"2.4.3\"}};\n",
       "    var render_items = [{\"docid\":\"426bf08c-aaa2-4246-8da1-7b814295f1ad\",\"root_ids\":[\"9545\"],\"roots\":{\"9545\":\"71cbd6f7-423d-4a92-89e5-b7cd81a0ac54\"}}];\n",
       "    root.Bokeh.embed.embed_items_notebook(docs_json, render_items);\n",
       "  }\n",
       "  if (root.Bokeh !== undefined && root.Bokeh.Panel !== undefined) {\n",
       "    embed_document(root);\n",
       "  } else {\n",
       "    var attempts = 0;\n",
       "    var timer = setInterval(function(root) {\n",
       "      if (root.Bokeh !== undefined && root.Bokeh.Panel !== undefined) {\n",
       "        clearInterval(timer);\n",
       "        embed_document(root);\n",
       "      } else if (document.readyState == \"complete\") {\n",
       "        attempts++;\n",
       "        if (attempts > 200) {\n",
       "          clearInterval(timer);\n",
       "          console.log(\"Bokeh: ERROR: Unable to run BokehJS code because BokehJS library is missing\");\n",
       "        }\n",
       "      }\n",
       "    }, 25, root)\n",
       "  }\n",
       "})(window);</script>"
      ],
      "text/plain": [
       "Tabs\n",
       "    [0] HoloViews(Bars, name='from_model')\n",
       "    [1] Matplotlib(Figure, name='shap_values')"
      ]
     },
     "execution_count": 64,
     "metadata": {
      "application/vnd.holoviews_exec.v0+json": {
       "id": "9545"
      }
     },
     "output_type": "execute_result"
    }
   ],
   "source": [
    "out = eda.get_feature_importances(train_X, train_y, y_continuous=True)\n",
    "display_as_tabs([(k, v) for k,v in out.items()])"
   ]
  },
  {
   "cell_type": "code",
   "execution_count": 65,
   "id": "afb10a55-272a-4783-889b-cea9150b80e6",
   "metadata": {},
   "outputs": [],
   "source": [
    "reports.data_exploration(train_X,train_y,'./data_exploration_report.html', y_continuous=True)"
   ]
  },
  {
   "cell_type": "code",
   "execution_count": 66,
   "id": "233a91ae-31d0-4580-ab92-fb49d093b341",
   "metadata": {},
   "outputs": [],
   "source": [
    "reports.key_drivers(train_X,train_y, './key_drivers_report.html', y_continuous=True)"
   ]
  },
  {
   "cell_type": "code",
   "execution_count": 67,
   "id": "1ae48c1f-b5fd-4f8e-b3e1-8bf1005b31b9",
   "metadata": {},
   "outputs": [],
   "source": [
    "reports.data_exploration(train_X,train_y,'./data_exploration_report.html', y_continuous=True) #final"
   ]
  },
  {
   "cell_type": "code",
   "execution_count": 68,
   "id": "5b4975a9-0d55-47fd-9bbf-cc934c2d5a88",
   "metadata": {},
   "outputs": [],
   "source": [
    "# saving the list of relevant columns\n",
    "save_pipeline(curated_columns, op.abspath(op.join(artifacts_folder, 'curated_columns.joblib')))\n",
    "\n",
    "# save the feature pipeline\n",
    "save_pipeline(features_transformer, op.abspath(op.join(artifacts_folder, 'features.joblib')))"
   ]
  },
  {
   "attachments": {},
   "cell_type": "markdown",
   "id": "7c3b4e1e-b21e-4920-8305-7d78c744cd3d",
   "metadata": {},
   "source": [
    "# Modelling"
   ]
  },
  {
   "cell_type": "code",
   "execution_count": 69,
   "id": "18567c6a-2bff-4184-b3af-c257e57a9da3",
   "metadata": {},
   "outputs": [],
   "source": [
    "cols = list(train_X.columns)\n",
    "vif = eda.calc_vif(train_X)\n",
    "while max(vif.VIF) > 15:\n",
    "    #removing the largest variable from VIF\n",
    "    cols.remove(vif[(vif.VIF==vif.VIF.max())].variables.tolist()[0])\n",
    "    vif = eda.calc_vif(train_X[cols])"
   ]
  },
  {
   "cell_type": "code",
   "execution_count": 70,
   "id": "4e929bf6-077f-4173-8a97-30ee1b0aa3b7",
   "metadata": {},
   "outputs": [],
   "source": [
    "reg_vars = vif.query('VIF < 15').variables\n",
    "reg_vars = list(reg_vars)"
   ]
  },
  {
   "cell_type": "code",
   "execution_count": 71,
   "id": "49cd451f-3bc7-467e-b482-bf71266b485e",
   "metadata": {},
   "outputs": [
    {
     "data": {
      "text/plain": [
       "['year', 'week', 'total_post', 'claim_id', 'search_volume', 'weight_per_unit']"
      ]
     },
     "execution_count": 71,
     "metadata": {},
     "output_type": "execute_result"
    }
   ],
   "source": [
    "reg_vars"
   ]
  },
  {
   "attachments": {},
   "cell_type": "markdown",
   "id": "5e3da880-2a71-4a35-9396-288cf76cbc9c",
   "metadata": {},
   "source": [
    "## 1. Data Transformation"
   ]
  },
  {
   "cell_type": "code",
   "execution_count": 72,
   "id": "722ca890-685a-4b15-945a-947df4972e76",
   "metadata": {},
   "outputs": [],
   "source": [
    "# Custom Transformations like these can be utilised\n",
    "def _custom_data_transform(df, cols2keep=None):\n",
    "    \"\"\"Transformation to drop some columns in the data\n",
    "    \n",
    "    Parameters\n",
    "    ----------\n",
    "        df - pd.DataFrame\n",
    "        cols2keep - columns to keep in the dataframe\n",
    "    \"\"\"\n",
    "    cols2keep = cols2keep or []\n",
    "    if len(cols2keep):\n",
    "        return (df\n",
    "                .select_columns(cols2keep))\n",
    "    else:\n",
    "        return df"
   ]
  },
  {
   "attachments": {},
   "cell_type": "markdown",
   "id": "1e8e574e-69a0-4634-982c-5a989245151e",
   "metadata": {},
   "source": [
    "## 2. Model Pipeline Build"
   ]
  },
  {
   "cell_type": "code",
   "execution_count": 73,
   "id": "4227ddf2-eb94-43f7-90c0-9f0b1feb1d89",
   "metadata": {},
   "outputs": [
    {
     "data": {
      "text/html": [
       "<style>#sk-container-id-1 {color: black;background-color: white;}#sk-container-id-1 pre{padding: 0;}#sk-container-id-1 div.sk-toggleable {background-color: white;}#sk-container-id-1 label.sk-toggleable__label {cursor: pointer;display: block;width: 100%;margin-bottom: 0;padding: 0.3em;box-sizing: border-box;text-align: center;}#sk-container-id-1 label.sk-toggleable__label-arrow:before {content: \"▸\";float: left;margin-right: 0.25em;color: #696969;}#sk-container-id-1 label.sk-toggleable__label-arrow:hover:before {color: black;}#sk-container-id-1 div.sk-estimator:hover label.sk-toggleable__label-arrow:before {color: black;}#sk-container-id-1 div.sk-toggleable__content {max-height: 0;max-width: 0;overflow: hidden;text-align: left;background-color: #f0f8ff;}#sk-container-id-1 div.sk-toggleable__content pre {margin: 0.2em;color: black;border-radius: 0.25em;background-color: #f0f8ff;}#sk-container-id-1 input.sk-toggleable__control:checked~div.sk-toggleable__content {max-height: 200px;max-width: 100%;overflow: auto;}#sk-container-id-1 input.sk-toggleable__control:checked~label.sk-toggleable__label-arrow:before {content: \"▾\";}#sk-container-id-1 div.sk-estimator input.sk-toggleable__control:checked~label.sk-toggleable__label {background-color: #d4ebff;}#sk-container-id-1 div.sk-label input.sk-toggleable__control:checked~label.sk-toggleable__label {background-color: #d4ebff;}#sk-container-id-1 input.sk-hidden--visually {border: 0;clip: rect(1px 1px 1px 1px);clip: rect(1px, 1px, 1px, 1px);height: 1px;margin: -1px;overflow: hidden;padding: 0;position: absolute;width: 1px;}#sk-container-id-1 div.sk-estimator {font-family: monospace;background-color: #f0f8ff;border: 1px dotted black;border-radius: 0.25em;box-sizing: border-box;margin-bottom: 0.5em;}#sk-container-id-1 div.sk-estimator:hover {background-color: #d4ebff;}#sk-container-id-1 div.sk-parallel-item::after {content: \"\";width: 100%;border-bottom: 1px solid gray;flex-grow: 1;}#sk-container-id-1 div.sk-label:hover label.sk-toggleable__label {background-color: #d4ebff;}#sk-container-id-1 div.sk-serial::before {content: \"\";position: absolute;border-left: 1px solid gray;box-sizing: border-box;top: 0;bottom: 0;left: 50%;z-index: 0;}#sk-container-id-1 div.sk-serial {display: flex;flex-direction: column;align-items: center;background-color: white;padding-right: 0.2em;padding-left: 0.2em;position: relative;}#sk-container-id-1 div.sk-item {position: relative;z-index: 1;}#sk-container-id-1 div.sk-parallel {display: flex;align-items: stretch;justify-content: center;background-color: white;position: relative;}#sk-container-id-1 div.sk-item::before, #sk-container-id-1 div.sk-parallel-item::before {content: \"\";position: absolute;border-left: 1px solid gray;box-sizing: border-box;top: 0;bottom: 0;left: 50%;z-index: -1;}#sk-container-id-1 div.sk-parallel-item {display: flex;flex-direction: column;z-index: 1;position: relative;background-color: white;}#sk-container-id-1 div.sk-parallel-item:first-child::after {align-self: flex-end;width: 50%;}#sk-container-id-1 div.sk-parallel-item:last-child::after {align-self: flex-start;width: 50%;}#sk-container-id-1 div.sk-parallel-item:only-child::after {width: 0;}#sk-container-id-1 div.sk-dashed-wrapped {border: 1px dashed gray;margin: 0 0.4em 0.5em 0.4em;box-sizing: border-box;padding-bottom: 0.4em;background-color: white;}#sk-container-id-1 div.sk-label label {font-family: monospace;font-weight: bold;display: inline-block;line-height: 1.2em;}#sk-container-id-1 div.sk-label-container {text-align: center;}#sk-container-id-1 div.sk-container {/* jupyter's `normalize.less` sets `[hidden] { display: none; }` but bootstrap.min.css set `[hidden] { display: none !important; }` so we also need the `!important` here to be able to override the default hidden behavior on the sphinx rendered scikit-learn.org. See: https://github.com/scikit-learn/scikit-learn/issues/21755 */display: inline-block !important;position: relative;}#sk-container-id-1 div.sk-text-repr-fallback {display: none;}</style><div id=\"sk-container-id-1\" class=\"sk-top-container\"><div class=\"sk-text-repr-fallback\"><pre>Pipeline(steps=[(&#x27;&#x27;,\n",
       "                 FunctionTransformer(func=&lt;function _custom_data_transform at 0x7f2257901430&gt;,\n",
       "                                     kw_args={&#x27;cols2keep&#x27;: [&#x27;year&#x27;, &#x27;week&#x27;,\n",
       "                                                            &#x27;total_post&#x27;,\n",
       "                                                            &#x27;claim_id&#x27;,\n",
       "                                                            &#x27;search_volume&#x27;,\n",
       "                                                            &#x27;weight_per_unit&#x27;]})),\n",
       "                (&#x27;estimator&#x27;, SKLStatsmodelOLS())])</pre><b>In a Jupyter environment, please rerun this cell to show the HTML representation or trust the notebook. <br />On GitHub, the HTML representation is unable to render, please try loading this page with nbviewer.org.</b></div><div class=\"sk-container\" hidden><div class=\"sk-item sk-dashed-wrapped\"><div class=\"sk-label-container\"><div class=\"sk-label sk-toggleable\"><input class=\"sk-toggleable__control sk-hidden--visually\" id=\"sk-estimator-id-1\" type=\"checkbox\" ><label for=\"sk-estimator-id-1\" class=\"sk-toggleable__label sk-toggleable__label-arrow\">Pipeline</label><div class=\"sk-toggleable__content\"><pre>Pipeline(steps=[(&#x27;&#x27;,\n",
       "                 FunctionTransformer(func=&lt;function _custom_data_transform at 0x7f2257901430&gt;,\n",
       "                                     kw_args={&#x27;cols2keep&#x27;: [&#x27;year&#x27;, &#x27;week&#x27;,\n",
       "                                                            &#x27;total_post&#x27;,\n",
       "                                                            &#x27;claim_id&#x27;,\n",
       "                                                            &#x27;search_volume&#x27;,\n",
       "                                                            &#x27;weight_per_unit&#x27;]})),\n",
       "                (&#x27;estimator&#x27;, SKLStatsmodelOLS())])</pre></div></div></div><div class=\"sk-serial\"><div class=\"sk-item\"><div class=\"sk-estimator sk-toggleable\"><input class=\"sk-toggleable__control sk-hidden--visually\" id=\"sk-estimator-id-2\" type=\"checkbox\" ><label for=\"sk-estimator-id-2\" class=\"sk-toggleable__label sk-toggleable__label-arrow\">FunctionTransformer</label><div class=\"sk-toggleable__content\"><pre>FunctionTransformer(func=&lt;function _custom_data_transform at 0x7f2257901430&gt;,\n",
       "                    kw_args={&#x27;cols2keep&#x27;: [&#x27;year&#x27;, &#x27;week&#x27;, &#x27;total_post&#x27;,\n",
       "                                           &#x27;claim_id&#x27;, &#x27;search_volume&#x27;,\n",
       "                                           &#x27;weight_per_unit&#x27;]})</pre></div></div></div><div class=\"sk-item\"><div class=\"sk-estimator sk-toggleable\"><input class=\"sk-toggleable__control sk-hidden--visually\" id=\"sk-estimator-id-3\" type=\"checkbox\" ><label for=\"sk-estimator-id-3\" class=\"sk-toggleable__label sk-toggleable__label-arrow\">SKLStatsmodelOLS</label><div class=\"sk-toggleable__content\"><pre>SKLStatsmodelOLS()</pre></div></div></div></div></div></div></div>"
      ],
      "text/plain": [
       "Pipeline(steps=[('',\n",
       "                 FunctionTransformer(func=<function _custom_data_transform at 0x7f2257901430>,\n",
       "                                     kw_args={'cols2keep': ['year', 'week',\n",
       "                                                            'total_post',\n",
       "                                                            'claim_id',\n",
       "                                                            'search_volume',\n",
       "                                                            'weight_per_unit']})),\n",
       "                ('estimator', SKLStatsmodelOLS())])"
      ]
     },
     "execution_count": 73,
     "metadata": {},
     "output_type": "execute_result"
    }
   ],
   "source": [
    "reg_ppln_ols = Pipeline([\n",
    "    ('',FunctionTransformer(_custom_data_transform, kw_args={'cols2keep':reg_vars})),\n",
    "    ('estimator', SKLStatsmodelOLS())\n",
    "])\n",
    "reg_ppln_ols.fit(train_X, train_y.values.ravel())\n"
   ]
  },
  {
   "cell_type": "code",
   "execution_count": 74,
   "id": "348f8240-f5ae-4a9b-a4b2-771457b1207a",
   "metadata": {},
   "outputs": [
    {
     "data": {
      "text/html": [
       "<table class=\"simpletable\">\n",
       "<caption>OLS Regression Results</caption>\n",
       "<tr>\n",
       "  <th>Dep. Variable:</th>            <td>y</td>        <th>  R-squared:         </th> <td>   0.229</td> \n",
       "</tr>\n",
       "<tr>\n",
       "  <th>Model:</th>                   <td>OLS</td>       <th>  Adj. R-squared:    </th> <td>   0.227</td> \n",
       "</tr>\n",
       "<tr>\n",
       "  <th>Method:</th>             <td>Least Squares</td>  <th>  F-statistic:       </th> <td>   103.1</td> \n",
       "</tr>\n",
       "<tr>\n",
       "  <th>Date:</th>             <td>Thu, 27 Jul 2023</td> <th>  Prob (F-statistic):</th> <td>7.50e-114</td>\n",
       "</tr>\n",
       "<tr>\n",
       "  <th>Time:</th>                 <td>19:01:47</td>     <th>  Log-Likelihood:    </th> <td> -34270.</td> \n",
       "</tr>\n",
       "<tr>\n",
       "  <th>No. Observations:</th>      <td>  2084</td>      <th>  AIC:               </th> <td>6.855e+04</td>\n",
       "</tr>\n",
       "<tr>\n",
       "  <th>Df Residuals:</th>          <td>  2077</td>      <th>  BIC:               </th> <td>6.859e+04</td>\n",
       "</tr>\n",
       "<tr>\n",
       "  <th>Df Model:</th>              <td>     6</td>      <th>                     </th>     <td> </td>    \n",
       "</tr>\n",
       "<tr>\n",
       "  <th>Covariance Type:</th>      <td>nonrobust</td>    <th>                     </th>     <td> </td>    \n",
       "</tr>\n",
       "</table>\n",
       "<table class=\"simpletable\">\n",
       "<tr>\n",
       "         <td></td>            <th>coef</th>     <th>std err</th>      <th>t</th>      <th>P>|t|</th>  <th>[0.025</th>    <th>0.975]</th>  \n",
       "</tr>\n",
       "<tr>\n",
       "  <th>intercept</th>       <td> 2.736e+08</td> <td> 1.37e+08</td> <td>    2.003</td> <td> 0.045</td> <td> 5.68e+06</td> <td> 5.41e+08</td>\n",
       "</tr>\n",
       "<tr>\n",
       "  <th>year</th>            <td>-1.348e+05</td> <td> 6.77e+04</td> <td>   -1.990</td> <td> 0.047</td> <td>-2.68e+05</td> <td>-1983.164</td>\n",
       "</tr>\n",
       "<tr>\n",
       "  <th>week</th>            <td>-3422.4461</td> <td> 5137.052</td> <td>   -0.666</td> <td> 0.505</td> <td>-1.35e+04</td> <td> 6651.862</td>\n",
       "</tr>\n",
       "<tr>\n",
       "  <th>total_post</th>      <td> 2119.5638</td> <td>   90.188</td> <td>   23.502</td> <td> 0.000</td> <td> 1942.695</td> <td> 2296.433</td>\n",
       "</tr>\n",
       "<tr>\n",
       "  <th>claim_id</th>        <td> 1315.6898</td> <td>  656.148</td> <td>    2.005</td> <td> 0.045</td> <td>   28.913</td> <td> 2602.467</td>\n",
       "</tr>\n",
       "<tr>\n",
       "  <th>search_volume</th>   <td>  -11.6300</td> <td>    3.180</td> <td>   -3.657</td> <td> 0.000</td> <td>  -17.866</td> <td>   -5.394</td>\n",
       "</tr>\n",
       "<tr>\n",
       "  <th>weight_per_unit</th> <td>-8.402e+04</td> <td> 1.84e+04</td> <td>   -4.562</td> <td> 0.000</td> <td> -1.2e+05</td> <td>-4.79e+04</td>\n",
       "</tr>\n",
       "</table>\n",
       "<table class=\"simpletable\">\n",
       "<tr>\n",
       "  <th>Omnibus:</th>       <td>199.628</td> <th>  Durbin-Watson:     </th> <td>   1.935</td>\n",
       "</tr>\n",
       "<tr>\n",
       "  <th>Prob(Omnibus):</th> <td> 0.000</td>  <th>  Jarque-Bera (JB):  </th> <td> 257.956</td>\n",
       "</tr>\n",
       "<tr>\n",
       "  <th>Skew:</th>          <td> 0.831</td>  <th>  Prob(JB):          </th> <td>9.68e-57</td>\n",
       "</tr>\n",
       "<tr>\n",
       "  <th>Kurtosis:</th>      <td> 3.456</td>  <th>  Cond. No.          </th> <td>7.22e+07</td>\n",
       "</tr>\n",
       "</table><br/><br/>Notes:<br/>[1] Standard Errors assume that the covariance matrix of the errors is correctly specified.<br/>[2] The condition number is large, 7.22e+07. This might indicate that there are<br/>strong multicollinearity or other numerical problems."
      ],
      "text/plain": [
       "<class 'statsmodels.iolib.summary.Summary'>\n",
       "\"\"\"\n",
       "                            OLS Regression Results                            \n",
       "==============================================================================\n",
       "Dep. Variable:                      y   R-squared:                       0.229\n",
       "Model:                            OLS   Adj. R-squared:                  0.227\n",
       "Method:                 Least Squares   F-statistic:                     103.1\n",
       "Date:                Thu, 27 Jul 2023   Prob (F-statistic):          7.50e-114\n",
       "Time:                        19:01:47   Log-Likelihood:                -34270.\n",
       "No. Observations:                2084   AIC:                         6.855e+04\n",
       "Df Residuals:                    2077   BIC:                         6.859e+04\n",
       "Df Model:                           6                                         \n",
       "Covariance Type:            nonrobust                                         \n",
       "===================================================================================\n",
       "                      coef    std err          t      P>|t|      [0.025      0.975]\n",
       "-----------------------------------------------------------------------------------\n",
       "intercept        2.736e+08   1.37e+08      2.003      0.045    5.68e+06    5.41e+08\n",
       "year            -1.348e+05   6.77e+04     -1.990      0.047   -2.68e+05   -1983.164\n",
       "week            -3422.4461   5137.052     -0.666      0.505   -1.35e+04    6651.862\n",
       "total_post       2119.5638     90.188     23.502      0.000    1942.695    2296.433\n",
       "claim_id         1315.6898    656.148      2.005      0.045      28.913    2602.467\n",
       "search_volume     -11.6300      3.180     -3.657      0.000     -17.866      -5.394\n",
       "weight_per_unit -8.402e+04   1.84e+04     -4.562      0.000    -1.2e+05   -4.79e+04\n",
       "==============================================================================\n",
       "Omnibus:                      199.628   Durbin-Watson:                   1.935\n",
       "Prob(Omnibus):                  0.000   Jarque-Bera (JB):              257.956\n",
       "Skew:                           0.831   Prob(JB):                     9.68e-57\n",
       "Kurtosis:                       3.456   Cond. No.                     7.22e+07\n",
       "==============================================================================\n",
       "\n",
       "Notes:\n",
       "[1] Standard Errors assume that the covariance matrix of the errors is correctly specified.\n",
       "[2] The condition number is large, 7.22e+07. This might indicate that there are\n",
       "strong multicollinearity or other numerical problems.\n",
       "\"\"\""
      ]
     },
     "execution_count": 74,
     "metadata": {},
     "output_type": "execute_result"
    }
   ],
   "source": [
    "reg_ppln_ols['estimator'].summary()"
   ]
  },
  {
   "attachments": {},
   "cell_type": "markdown",
   "id": "271a2566-7887-4914-a436-a22ba33ad9e1",
   "metadata": {},
   "source": [
    "## 3. Model Evaluation"
   ]
  },
  {
   "cell_type": "code",
   "execution_count": 75,
   "id": "81fb92f2-b979-4fa4-b306-02ebd4b51b66",
   "metadata": {},
   "outputs": [],
   "source": [
    "reg_ppln = Pipeline([\n",
    "    ('', FunctionTransformer(_custom_data_transform, kw_args={'cols2keep':reg_vars})),\n",
    "    ('Linear Regression', SKLStatsmodelOLS())\n",
    "])\n",
    "\n",
    "test_X = get_dataframe(\n",
    "    features_transformer.transform(test_X), \n",
    "    get_feature_names_from_column_transformer(features_transformer)\n",
    ")\n",
    "test_X = test_X[curated_columns]"
   ]
  },
  {
   "cell_type": "code",
   "execution_count": 76,
   "id": "5b9daf0e-4fce-4c5d-834b-5a2a26cf171d",
   "metadata": {},
   "outputs": [],
   "source": [
    "reg_linear_report = RegressionReport(model=reg_ppln, x_train=train_X, y_train=train_y, x_test= test_X, y_test= test_y, refit=True)\n",
    "reg_linear_report.get_report(include_shap=False, file_path='regression_linear_model_report')"
   ]
  },
  {
   "attachments": {},
   "cell_type": "markdown",
   "id": "9c24f4fb-64dc-4a5e-a3c5-04920aa4c5a4",
   "metadata": {},
   "source": [
    "## 4. Residual Analysis"
   ]
  },
  {
   "cell_type": "code",
   "execution_count": 77,
   "id": "e9aa201d-64a1-4fe3-9464-f633e3ee8b6c",
   "metadata": {},
   "outputs": [
    {
     "data": {
      "text/html": [
       "<div>\n",
       "<style scoped>\n",
       "    .dataframe tbody tr th:only-of-type {\n",
       "        vertical-align: middle;\n",
       "    }\n",
       "\n",
       "    .dataframe tbody tr th {\n",
       "        vertical-align: top;\n",
       "    }\n",
       "\n",
       "    .dataframe thead th {\n",
       "        text-align: right;\n",
       "    }\n",
       "</style>\n",
       "<table border=\"1\" class=\"dataframe\">\n",
       "  <thead>\n",
       "    <tr style=\"text-align: right;\">\n",
       "      <th></th>\n",
       "      <th>sales_dollars_value</th>\n",
       "    </tr>\n",
       "  </thead>\n",
       "  <tbody>\n",
       "    <tr>\n",
       "      <th>0</th>\n",
       "      <td>53929</td>\n",
       "    </tr>\n",
       "    <tr>\n",
       "      <th>1</th>\n",
       "      <td>207827</td>\n",
       "    </tr>\n",
       "    <tr>\n",
       "      <th>2</th>\n",
       "      <td>2224116</td>\n",
       "    </tr>\n",
       "    <tr>\n",
       "      <th>3</th>\n",
       "      <td>20806</td>\n",
       "    </tr>\n",
       "    <tr>\n",
       "      <th>4</th>\n",
       "      <td>5724950</td>\n",
       "    </tr>\n",
       "    <tr>\n",
       "      <th>...</th>\n",
       "      <td>...</td>\n",
       "    </tr>\n",
       "    <tr>\n",
       "      <th>2079</th>\n",
       "      <td>359022</td>\n",
       "    </tr>\n",
       "    <tr>\n",
       "      <th>2080</th>\n",
       "      <td>18163</td>\n",
       "    </tr>\n",
       "    <tr>\n",
       "      <th>2081</th>\n",
       "      <td>259271</td>\n",
       "    </tr>\n",
       "    <tr>\n",
       "      <th>2082</th>\n",
       "      <td>2497804</td>\n",
       "    </tr>\n",
       "    <tr>\n",
       "      <th>2083</th>\n",
       "      <td>3026117</td>\n",
       "    </tr>\n",
       "  </tbody>\n",
       "</table>\n",
       "<p>2084 rows × 1 columns</p>\n",
       "</div>"
      ],
      "text/plain": [
       "      sales_dollars_value\n",
       "0                   53929\n",
       "1                  207827\n",
       "2                 2224116\n",
       "3                   20806\n",
       "4                 5724950\n",
       "...                   ...\n",
       "2079               359022\n",
       "2080                18163\n",
       "2081               259271\n",
       "2082              2497804\n",
       "2083              3026117\n",
       "\n",
       "[2084 rows x 1 columns]"
      ]
     },
     "execution_count": 77,
     "metadata": {},
     "output_type": "execute_result"
    }
   ],
   "source": [
    "train_y"
   ]
  },
  {
   "cell_type": "code",
   "execution_count": 78,
   "id": "8920264a-5b87-42e9-b0c8-8c3b30768e6e",
   "metadata": {},
   "outputs": [],
   "source": [
    "threshold=0.3\n",
    "residual_analysis = test_X.copy()\n",
    "residual_analysis['prediction'] = reg_ppln_ols.predict(test_X)\n",
    "residual_analysis['actuals'] = test_y.reset_index(drop = True).iloc[:,0].values\n",
    "residual_analysis['forecast_flag'] = 'good'\n",
    "residual_analysis.loc[((residual_analysis['prediction'] > (1+threshold) * residual_analysis['actuals'])\\\n",
    "                       & (residual_analysis['actuals']>100)),'forecast_flag'] = 'over predict'\n",
    "residual_analysis.loc[((residual_analysis['prediction'] < (1-threshold) * residual_analysis['actuals'])\\\n",
    "                       & (residual_analysis['actuals']>100)),'forecast_flag'] = 'under predict'"
   ]
  },
  {
   "cell_type": "code",
   "execution_count": 80,
   "id": "e06b2579-d237-498f-97c5-75cf1392839f",
   "metadata": {
    "scrolled": true
   },
   "outputs": [],
   "source": [
    "# residual_analysis.hvplot.kde(y=\"sales_dollars_value\",by=\"forecast_flag\", ## Grouping by Predictions\n",
    "#                                 width=800, height=400,\n",
    "#                                 alpha=0.7,\n",
    "#                                 ylabel=\"density\",\n",
    "#                                 xlabel=\"sales_dollars_value\",\n",
    "#                                 title=f'sales_dollars_value(density)',legend='top_right')"
   ]
  },
  {
   "attachments": {},
   "cell_type": "markdown",
   "id": "efb58ea1-5e27-4d75-aedc-df4f97cf519a",
   "metadata": {},
   "source": [
    "# Modelling - XGB"
   ]
  },
  {
   "attachments": {},
   "cell_type": "markdown",
   "id": "72e55210-c65d-4989-b841-40ede053a36d",
   "metadata": {},
   "source": [
    "## Model pipeline build"
   ]
  },
  {
   "cell_type": "code",
   "execution_count": 81,
   "id": "b7e6ecf8-8888-4387-be41-302b79ed966e",
   "metadata": {},
   "outputs": [
    {
     "data": {
      "text/html": [
       "<style>#sk-container-id-2 {color: black;background-color: white;}#sk-container-id-2 pre{padding: 0;}#sk-container-id-2 div.sk-toggleable {background-color: white;}#sk-container-id-2 label.sk-toggleable__label {cursor: pointer;display: block;width: 100%;margin-bottom: 0;padding: 0.3em;box-sizing: border-box;text-align: center;}#sk-container-id-2 label.sk-toggleable__label-arrow:before {content: \"▸\";float: left;margin-right: 0.25em;color: #696969;}#sk-container-id-2 label.sk-toggleable__label-arrow:hover:before {color: black;}#sk-container-id-2 div.sk-estimator:hover label.sk-toggleable__label-arrow:before {color: black;}#sk-container-id-2 div.sk-toggleable__content {max-height: 0;max-width: 0;overflow: hidden;text-align: left;background-color: #f0f8ff;}#sk-container-id-2 div.sk-toggleable__content pre {margin: 0.2em;color: black;border-radius: 0.25em;background-color: #f0f8ff;}#sk-container-id-2 input.sk-toggleable__control:checked~div.sk-toggleable__content {max-height: 200px;max-width: 100%;overflow: auto;}#sk-container-id-2 input.sk-toggleable__control:checked~label.sk-toggleable__label-arrow:before {content: \"▾\";}#sk-container-id-2 div.sk-estimator input.sk-toggleable__control:checked~label.sk-toggleable__label {background-color: #d4ebff;}#sk-container-id-2 div.sk-label input.sk-toggleable__control:checked~label.sk-toggleable__label {background-color: #d4ebff;}#sk-container-id-2 input.sk-hidden--visually {border: 0;clip: rect(1px 1px 1px 1px);clip: rect(1px, 1px, 1px, 1px);height: 1px;margin: -1px;overflow: hidden;padding: 0;position: absolute;width: 1px;}#sk-container-id-2 div.sk-estimator {font-family: monospace;background-color: #f0f8ff;border: 1px dotted black;border-radius: 0.25em;box-sizing: border-box;margin-bottom: 0.5em;}#sk-container-id-2 div.sk-estimator:hover {background-color: #d4ebff;}#sk-container-id-2 div.sk-parallel-item::after {content: \"\";width: 100%;border-bottom: 1px solid gray;flex-grow: 1;}#sk-container-id-2 div.sk-label:hover label.sk-toggleable__label {background-color: #d4ebff;}#sk-container-id-2 div.sk-serial::before {content: \"\";position: absolute;border-left: 1px solid gray;box-sizing: border-box;top: 0;bottom: 0;left: 50%;z-index: 0;}#sk-container-id-2 div.sk-serial {display: flex;flex-direction: column;align-items: center;background-color: white;padding-right: 0.2em;padding-left: 0.2em;position: relative;}#sk-container-id-2 div.sk-item {position: relative;z-index: 1;}#sk-container-id-2 div.sk-parallel {display: flex;align-items: stretch;justify-content: center;background-color: white;position: relative;}#sk-container-id-2 div.sk-item::before, #sk-container-id-2 div.sk-parallel-item::before {content: \"\";position: absolute;border-left: 1px solid gray;box-sizing: border-box;top: 0;bottom: 0;left: 50%;z-index: -1;}#sk-container-id-2 div.sk-parallel-item {display: flex;flex-direction: column;z-index: 1;position: relative;background-color: white;}#sk-container-id-2 div.sk-parallel-item:first-child::after {align-self: flex-end;width: 50%;}#sk-container-id-2 div.sk-parallel-item:last-child::after {align-self: flex-start;width: 50%;}#sk-container-id-2 div.sk-parallel-item:only-child::after {width: 0;}#sk-container-id-2 div.sk-dashed-wrapped {border: 1px dashed gray;margin: 0 0.4em 0.5em 0.4em;box-sizing: border-box;padding-bottom: 0.4em;background-color: white;}#sk-container-id-2 div.sk-label label {font-family: monospace;font-weight: bold;display: inline-block;line-height: 1.2em;}#sk-container-id-2 div.sk-label-container {text-align: center;}#sk-container-id-2 div.sk-container {/* jupyter's `normalize.less` sets `[hidden] { display: none; }` but bootstrap.min.css set `[hidden] { display: none !important; }` so we also need the `!important` here to be able to override the default hidden behavior on the sphinx rendered scikit-learn.org. See: https://github.com/scikit-learn/scikit-learn/issues/21755 */display: inline-block !important;position: relative;}#sk-container-id-2 div.sk-text-repr-fallback {display: none;}</style><div id=\"sk-container-id-2\" class=\"sk-top-container\"><div class=\"sk-text-repr-fallback\"><pre>Pipeline(steps=[(&#x27;XGBoost&#x27;,\n",
       "                 XGBRegressor(base_score=0.5, booster=&#x27;gbtree&#x27;,\n",
       "                              colsample_bylevel=1, colsample_bynode=1,\n",
       "                              colsample_bytree=1, enable_categorical=False,\n",
       "                              gamma=0, gpu_id=-1, importance_type=None,\n",
       "                              interaction_constraints=&#x27;&#x27;,\n",
       "                              learning_rate=0.300000012, max_delta_step=0,\n",
       "                              max_depth=6, min_child_weight=1, missing=nan,\n",
       "                              monotone_constraints=&#x27;()&#x27;, n_estimators=100,\n",
       "                              n_jobs=8, num_parallel_tree=1, predictor=&#x27;auto&#x27;,\n",
       "                              random_state=0, reg_alpha=0, reg_lambda=1,\n",
       "                              scale_pos_weight=1, subsample=1,\n",
       "                              tree_method=&#x27;exact&#x27;, validate_parameters=1,\n",
       "                              verbosity=None))])</pre><b>In a Jupyter environment, please rerun this cell to show the HTML representation or trust the notebook. <br />On GitHub, the HTML representation is unable to render, please try loading this page with nbviewer.org.</b></div><div class=\"sk-container\" hidden><div class=\"sk-item sk-dashed-wrapped\"><div class=\"sk-label-container\"><div class=\"sk-label sk-toggleable\"><input class=\"sk-toggleable__control sk-hidden--visually\" id=\"sk-estimator-id-4\" type=\"checkbox\" ><label for=\"sk-estimator-id-4\" class=\"sk-toggleable__label sk-toggleable__label-arrow\">Pipeline</label><div class=\"sk-toggleable__content\"><pre>Pipeline(steps=[(&#x27;XGBoost&#x27;,\n",
       "                 XGBRegressor(base_score=0.5, booster=&#x27;gbtree&#x27;,\n",
       "                              colsample_bylevel=1, colsample_bynode=1,\n",
       "                              colsample_bytree=1, enable_categorical=False,\n",
       "                              gamma=0, gpu_id=-1, importance_type=None,\n",
       "                              interaction_constraints=&#x27;&#x27;,\n",
       "                              learning_rate=0.300000012, max_delta_step=0,\n",
       "                              max_depth=6, min_child_weight=1, missing=nan,\n",
       "                              monotone_constraints=&#x27;()&#x27;, n_estimators=100,\n",
       "                              n_jobs=8, num_parallel_tree=1, predictor=&#x27;auto&#x27;,\n",
       "                              random_state=0, reg_alpha=0, reg_lambda=1,\n",
       "                              scale_pos_weight=1, subsample=1,\n",
       "                              tree_method=&#x27;exact&#x27;, validate_parameters=1,\n",
       "                              verbosity=None))])</pre></div></div></div><div class=\"sk-serial\"><div class=\"sk-item\"><div class=\"sk-estimator sk-toggleable\"><input class=\"sk-toggleable__control sk-hidden--visually\" id=\"sk-estimator-id-5\" type=\"checkbox\" ><label for=\"sk-estimator-id-5\" class=\"sk-toggleable__label sk-toggleable__label-arrow\">XGBRegressor</label><div class=\"sk-toggleable__content\"><pre>XGBRegressor(base_score=0.5, booster=&#x27;gbtree&#x27;, colsample_bylevel=1,\n",
       "             colsample_bynode=1, colsample_bytree=1, enable_categorical=False,\n",
       "             gamma=0, gpu_id=-1, importance_type=None,\n",
       "             interaction_constraints=&#x27;&#x27;, learning_rate=0.300000012,\n",
       "             max_delta_step=0, max_depth=6, min_child_weight=1, missing=nan,\n",
       "             monotone_constraints=&#x27;()&#x27;, n_estimators=100, n_jobs=8,\n",
       "             num_parallel_tree=1, predictor=&#x27;auto&#x27;, random_state=0, reg_alpha=0,\n",
       "             reg_lambda=1, scale_pos_weight=1, subsample=1, tree_method=&#x27;exact&#x27;,\n",
       "             validate_parameters=1, verbosity=None)</pre></div></div></div></div></div></div></div>"
      ],
      "text/plain": [
       "Pipeline(steps=[('XGBoost',\n",
       "                 XGBRegressor(base_score=0.5, booster='gbtree',\n",
       "                              colsample_bylevel=1, colsample_bynode=1,\n",
       "                              colsample_bytree=1, enable_categorical=False,\n",
       "                              gamma=0, gpu_id=-1, importance_type=None,\n",
       "                              interaction_constraints='',\n",
       "                              learning_rate=0.300000012, max_delta_step=0,\n",
       "                              max_depth=6, min_child_weight=1, missing=nan,\n",
       "                              monotone_constraints='()', n_estimators=100,\n",
       "                              n_jobs=8, num_parallel_tree=1, predictor='auto',\n",
       "                              random_state=0, reg_alpha=0, reg_lambda=1,\n",
       "                              scale_pos_weight=1, subsample=1,\n",
       "                              tree_method='exact', validate_parameters=1,\n",
       "                              verbosity=None))])"
      ]
     },
     "execution_count": 81,
     "metadata": {},
     "output_type": "execute_result"
    }
   ],
   "source": [
    "# let's find features for some decent defaults\n",
    "estimator = XGBRegressor()\n",
    "xgb_training_pipe_init = Pipeline([\n",
    "    ('XGBoost', XGBRegressor())\n",
    "])\n",
    "xgb_training_pipe_init.fit(train_X, train_y)"
   ]
  },
  {
   "attachments": {},
   "cell_type": "markdown",
   "id": "bd6e6b8b-c895-4a46-a48c-6a9d5b1427e0",
   "metadata": {},
   "source": [
    "## Model tuning"
   ]
  },
  {
   "cell_type": "code",
   "execution_count": 82,
   "id": "f1228ba7-d37f-4fb6-ba77-7fa809438adb",
   "metadata": {},
   "outputs": [
    {
     "data": {
      "text/plain": [
       "<AxesSubplot:>"
      ]
     },
     "execution_count": 82,
     "metadata": {},
     "output_type": "execute_result"
    },
    {
     "data": {
      "image/png": "[encoded data removed]",
      "text/plain": [
       "<Figure size 640x480 with 1 Axes>"
      ]
     },
     "metadata": {},
     "output_type": "display_data"
    }
   ],
   "source": [
    "# Understanding the Feature Importance\n",
    "%matplotlib inline\n",
    "imp = pd.DataFrame({'importance': xgb_training_pipe_init['XGBoost'].feature_importances_})\n",
    "imp.index = train_X.columns\n",
    "imp.sort_values('importance',inplace=True)\n",
    "imp.plot(kind='barh')"
   ]
  },
  {
   "cell_type": "code",
   "execution_count": 83,
   "id": "bd806cbc-ce91-4ae0-be1d-00a93bdc69b6",
   "metadata": {},
   "outputs": [
    {
     "name": "stdout",
     "output_type": "stream",
     "text": [
      "Fitting 2 folds for each of 1 candidates, totalling 2 fits\n"
     ]
    },
    {
     "name": "stderr",
     "output_type": "stream",
     "text": [
      "/home/anil_tiger/miniconda3/envs/ta-lib-dev/lib/python3.9/site-packages/xgboost/compat.py:36: FutureWarning: pandas.Int64Index is deprecated and will be removed from pandas in a future version. Use pandas.Index with the appropriate dtype instead.\n",
      "  from pandas import MultiIndex, Int64Index\n",
      "/home/anil_tiger/miniconda3/envs/ta-lib-dev/lib/python3.9/site-packages/xgboost/compat.py:36: FutureWarning: pandas.Int64Index is deprecated and will be removed from pandas in a future version. Use pandas.Index with the appropriate dtype instead.\n",
      "  from pandas import MultiIndex, Int64Index\n",
      "/home/anil_tiger/miniconda3/envs/ta-lib-dev/lib/python3.9/site-packages/xgboost/data.py:262: FutureWarning: pandas.Int64Index is deprecated and will be removed from pandas in a future version. Use pandas.Index with the appropriate dtype instead.\n",
      "  elif isinstance(data.columns, (pd.Int64Index, pd.RangeIndex)):\n",
      "/home/anil_tiger/miniconda3/envs/ta-lib-dev/lib/python3.9/site-packages/xgboost/data.py:262: FutureWarning: pandas.Int64Index is deprecated and will be removed from pandas in a future version. Use pandas.Index with the appropriate dtype instead.\n",
      "  elif isinstance(data.columns, (pd.Int64Index, pd.RangeIndex)):\n"
     ]
    },
    {
     "name": "stdout",
     "output_type": "stream",
     "text": [
      "0.9898974470024743\n",
      "{'gamma': 0.03, 'learning_rate': 0.1, 'max_depth': 3, 'min_child_weight': 6, 'n_estimators': 500}\n",
      "CPU times: user 3.43 s, sys: 190 ms, total: 3.62 s\n",
      "Wall time: 39.9 s\n"
     ]
    }
   ],
   "source": [
    "%%time\n",
    "parameters = {\n",
    "   'gamma':[0.03],\n",
    "   'min_child_weight':[6],\n",
    "   'learning_rate':[0.1],\n",
    "   'max_depth':[3],\n",
    "   'n_estimators':[500], \n",
    "}\n",
    "est = XGBRegressor()\n",
    "xgb_grid = GridSearchCV(est,\n",
    "                        parameters,\n",
    "                        cv = 2,\n",
    "                        n_jobs = 4,\n",
    "                        verbose=True)\n",
    "\n",
    "xgb_grid.fit(train_X, train_y)\n",
    "\n",
    "print(xgb_grid.best_score_)\n",
    "print(xgb_grid.best_params_)"
   ]
  },
  {
   "cell_type": "code",
   "execution_count": 84,
   "id": "2ea61346-1f68-41d2-b9d7-8b2f882f5921",
   "metadata": {},
   "outputs": [],
   "source": [
    "imp_features = curated_columns"
   ]
  },
  {
   "cell_type": "code",
   "execution_count": 85,
   "id": "3baf8274-7f3a-4f34-a11e-7f295c470f9b",
   "metadata": {},
   "outputs": [
    {
     "data": {
      "text/html": [
       "<style>#sk-container-id-3 {color: black;background-color: white;}#sk-container-id-3 pre{padding: 0;}#sk-container-id-3 div.sk-toggleable {background-color: white;}#sk-container-id-3 label.sk-toggleable__label {cursor: pointer;display: block;width: 100%;margin-bottom: 0;padding: 0.3em;box-sizing: border-box;text-align: center;}#sk-container-id-3 label.sk-toggleable__label-arrow:before {content: \"▸\";float: left;margin-right: 0.25em;color: #696969;}#sk-container-id-3 label.sk-toggleable__label-arrow:hover:before {color: black;}#sk-container-id-3 div.sk-estimator:hover label.sk-toggleable__label-arrow:before {color: black;}#sk-container-id-3 div.sk-toggleable__content {max-height: 0;max-width: 0;overflow: hidden;text-align: left;background-color: #f0f8ff;}#sk-container-id-3 div.sk-toggleable__content pre {margin: 0.2em;color: black;border-radius: 0.25em;background-color: #f0f8ff;}#sk-container-id-3 input.sk-toggleable__control:checked~div.sk-toggleable__content {max-height: 200px;max-width: 100%;overflow: auto;}#sk-container-id-3 input.sk-toggleable__control:checked~label.sk-toggleable__label-arrow:before {content: \"▾\";}#sk-container-id-3 div.sk-estimator input.sk-toggleable__control:checked~label.sk-toggleable__label {background-color: #d4ebff;}#sk-container-id-3 div.sk-label input.sk-toggleable__control:checked~label.sk-toggleable__label {background-color: #d4ebff;}#sk-container-id-3 input.sk-hidden--visually {border: 0;clip: rect(1px 1px 1px 1px);clip: rect(1px, 1px, 1px, 1px);height: 1px;margin: -1px;overflow: hidden;padding: 0;position: absolute;width: 1px;}#sk-container-id-3 div.sk-estimator {font-family: monospace;background-color: #f0f8ff;border: 1px dotted black;border-radius: 0.25em;box-sizing: border-box;margin-bottom: 0.5em;}#sk-container-id-3 div.sk-estimator:hover {background-color: #d4ebff;}#sk-container-id-3 div.sk-parallel-item::after {content: \"\";width: 100%;border-bottom: 1px solid gray;flex-grow: 1;}#sk-container-id-3 div.sk-label:hover label.sk-toggleable__label {background-color: #d4ebff;}#sk-container-id-3 div.sk-serial::before {content: \"\";position: absolute;border-left: 1px solid gray;box-sizing: border-box;top: 0;bottom: 0;left: 50%;z-index: 0;}#sk-container-id-3 div.sk-serial {display: flex;flex-direction: column;align-items: center;background-color: white;padding-right: 0.2em;padding-left: 0.2em;position: relative;}#sk-container-id-3 div.sk-item {position: relative;z-index: 1;}#sk-container-id-3 div.sk-parallel {display: flex;align-items: stretch;justify-content: center;background-color: white;position: relative;}#sk-container-id-3 div.sk-item::before, #sk-container-id-3 div.sk-parallel-item::before {content: \"\";position: absolute;border-left: 1px solid gray;box-sizing: border-box;top: 0;bottom: 0;left: 50%;z-index: -1;}#sk-container-id-3 div.sk-parallel-item {display: flex;flex-direction: column;z-index: 1;position: relative;background-color: white;}#sk-container-id-3 div.sk-parallel-item:first-child::after {align-self: flex-end;width: 50%;}#sk-container-id-3 div.sk-parallel-item:last-child::after {align-self: flex-start;width: 50%;}#sk-container-id-3 div.sk-parallel-item:only-child::after {width: 0;}#sk-container-id-3 div.sk-dashed-wrapped {border: 1px dashed gray;margin: 0 0.4em 0.5em 0.4em;box-sizing: border-box;padding-bottom: 0.4em;background-color: white;}#sk-container-id-3 div.sk-label label {font-family: monospace;font-weight: bold;display: inline-block;line-height: 1.2em;}#sk-container-id-3 div.sk-label-container {text-align: center;}#sk-container-id-3 div.sk-container {/* jupyter's `normalize.less` sets `[hidden] { display: none; }` but bootstrap.min.css set `[hidden] { display: none !important; }` so we also need the `!important` here to be able to override the default hidden behavior on the sphinx rendered scikit-learn.org. See: https://github.com/scikit-learn/scikit-learn/issues/21755 */display: inline-block !important;position: relative;}#sk-container-id-3 div.sk-text-repr-fallback {display: none;}</style><div id=\"sk-container-id-3\" class=\"sk-top-container\"><div class=\"sk-text-repr-fallback\"><pre>Pipeline(steps=[(&#x27;&#x27;,\n",
       "                 FunctionTransformer(func=&lt;function _custom_data_transform at 0x7f2257901430&gt;,\n",
       "                                     kw_args={&#x27;cols2keep&#x27;: [&#x27;year&#x27;, &#x27;week&#x27;,\n",
       "                                                            &#x27;total_post&#x27;,\n",
       "                                                            &#x27;claim_id&#x27;,\n",
       "                                                            &#x27;search_volume&#x27;,\n",
       "                                                            &#x27;weight_per_unit&#x27;]})),\n",
       "                (&#x27;XGBoost&#x27;,\n",
       "                 XGBRegressor(base_score=0.5, booster=&#x27;gbtree&#x27;,\n",
       "                              colsample_bylevel=1, colsample_bynode=1,\n",
       "                              colsample_bytree=1, enable_categorical=False,\n",
       "                              gamma=0.03, gpu_id=-1, importance_type=None,\n",
       "                              interaction_constraints=&#x27;&#x27;, learning_rate=0.1,\n",
       "                              max_delta_step=0, max_depth=3, min_child_weight=6,\n",
       "                              missing=nan, monotone_constraints=&#x27;()&#x27;,\n",
       "                              n_estimators=500, n_jobs=8, num_parallel_tree=1,\n",
       "                              predictor=&#x27;auto&#x27;, random_state=0, reg_alpha=0,\n",
       "                              reg_lambda=1, scale_pos_weight=1, subsample=1,\n",
       "                              tree_method=&#x27;exact&#x27;, validate_parameters=1,\n",
       "                              verbosity=None))])</pre><b>In a Jupyter environment, please rerun this cell to show the HTML representation or trust the notebook. <br />On GitHub, the HTML representation is unable to render, please try loading this page with nbviewer.org.</b></div><div class=\"sk-container\" hidden><div class=\"sk-item sk-dashed-wrapped\"><div class=\"sk-label-container\"><div class=\"sk-label sk-toggleable\"><input class=\"sk-toggleable__control sk-hidden--visually\" id=\"sk-estimator-id-6\" type=\"checkbox\" ><label for=\"sk-estimator-id-6\" class=\"sk-toggleable__label sk-toggleable__label-arrow\">Pipeline</label><div class=\"sk-toggleable__content\"><pre>Pipeline(steps=[(&#x27;&#x27;,\n",
       "                 FunctionTransformer(func=&lt;function _custom_data_transform at 0x7f2257901430&gt;,\n",
       "                                     kw_args={&#x27;cols2keep&#x27;: [&#x27;year&#x27;, &#x27;week&#x27;,\n",
       "                                                            &#x27;total_post&#x27;,\n",
       "                                                            &#x27;claim_id&#x27;,\n",
       "                                                            &#x27;search_volume&#x27;,\n",
       "                                                            &#x27;weight_per_unit&#x27;]})),\n",
       "                (&#x27;XGBoost&#x27;,\n",
       "                 XGBRegressor(base_score=0.5, booster=&#x27;gbtree&#x27;,\n",
       "                              colsample_bylevel=1, colsample_bynode=1,\n",
       "                              colsample_bytree=1, enable_categorical=False,\n",
       "                              gamma=0.03, gpu_id=-1, importance_type=None,\n",
       "                              interaction_constraints=&#x27;&#x27;, learning_rate=0.1,\n",
       "                              max_delta_step=0, max_depth=3, min_child_weight=6,\n",
       "                              missing=nan, monotone_constraints=&#x27;()&#x27;,\n",
       "                              n_estimators=500, n_jobs=8, num_parallel_tree=1,\n",
       "                              predictor=&#x27;auto&#x27;, random_state=0, reg_alpha=0,\n",
       "                              reg_lambda=1, scale_pos_weight=1, subsample=1,\n",
       "                              tree_method=&#x27;exact&#x27;, validate_parameters=1,\n",
       "                              verbosity=None))])</pre></div></div></div><div class=\"sk-serial\"><div class=\"sk-item\"><div class=\"sk-estimator sk-toggleable\"><input class=\"sk-toggleable__control sk-hidden--visually\" id=\"sk-estimator-id-7\" type=\"checkbox\" ><label for=\"sk-estimator-id-7\" class=\"sk-toggleable__label sk-toggleable__label-arrow\">FunctionTransformer</label><div class=\"sk-toggleable__content\"><pre>FunctionTransformer(func=&lt;function _custom_data_transform at 0x7f2257901430&gt;,\n",
       "                    kw_args={&#x27;cols2keep&#x27;: [&#x27;year&#x27;, &#x27;week&#x27;, &#x27;total_post&#x27;,\n",
       "                                           &#x27;claim_id&#x27;, &#x27;search_volume&#x27;,\n",
       "                                           &#x27;weight_per_unit&#x27;]})</pre></div></div></div><div class=\"sk-item\"><div class=\"sk-estimator sk-toggleable\"><input class=\"sk-toggleable__control sk-hidden--visually\" id=\"sk-estimator-id-8\" type=\"checkbox\" ><label for=\"sk-estimator-id-8\" class=\"sk-toggleable__label sk-toggleable__label-arrow\">XGBRegressor</label><div class=\"sk-toggleable__content\"><pre>XGBRegressor(base_score=0.5, booster=&#x27;gbtree&#x27;, colsample_bylevel=1,\n",
       "             colsample_bynode=1, colsample_bytree=1, enable_categorical=False,\n",
       "             gamma=0.03, gpu_id=-1, importance_type=None,\n",
       "             interaction_constraints=&#x27;&#x27;, learning_rate=0.1, max_delta_step=0,\n",
       "             max_depth=3, min_child_weight=6, missing=nan,\n",
       "             monotone_constraints=&#x27;()&#x27;, n_estimators=500, n_jobs=8,\n",
       "             num_parallel_tree=1, predictor=&#x27;auto&#x27;, random_state=0, reg_alpha=0,\n",
       "             reg_lambda=1, scale_pos_weight=1, subsample=1, tree_method=&#x27;exact&#x27;,\n",
       "             validate_parameters=1, verbosity=None)</pre></div></div></div></div></div></div></div>"
      ],
      "text/plain": [
       "Pipeline(steps=[('',\n",
       "                 FunctionTransformer(func=<function _custom_data_transform at 0x7f2257901430>,\n",
       "                                     kw_args={'cols2keep': ['year', 'week',\n",
       "                                                            'total_post',\n",
       "                                                            'claim_id',\n",
       "                                                            'search_volume',\n",
       "                                                            'weight_per_unit']})),\n",
       "                ('XGBoost',\n",
       "                 XGBRegressor(base_score=0.5, booster='gbtree',\n",
       "                              colsample_bylevel=1, colsample_bynode=1,\n",
       "                              colsample_bytree=1, enable_categorical=False,\n",
       "                              gamma=0.03, gpu_id=-1, importance_type=None,\n",
       "                              interaction_constraints='', learning_rate=0.1,\n",
       "                              max_delta_step=0, max_depth=3, min_child_weight=6,\n",
       "                              missing=nan, monotone_constraints='()',\n",
       "                              n_estimators=500, n_jobs=8, num_parallel_tree=1,\n",
       "                              predictor='auto', random_state=0, reg_alpha=0,\n",
       "                              reg_lambda=1, scale_pos_weight=1, subsample=1,\n",
       "                              tree_method='exact', validate_parameters=1,\n",
       "                              verbosity=None))])"
      ]
     },
     "execution_count": 85,
     "metadata": {},
     "output_type": "execute_result"
    }
   ],
   "source": [
    "xgb_pipeline_final = Pipeline([\n",
    "    ('', FunctionTransformer(_custom_data_transform, kw_args={'cols2keep':imp_features})),\n",
    "    ('XGBoost', xgb_grid.best_estimator_)\n",
    "])\n",
    "xgb_pipeline_final.fit(train_X, train_y)"
   ]
  },
  {
   "cell_type": "code",
   "execution_count": 86,
   "id": "071dfd55-3ae1-4de9-961a-4b118ecd6416",
   "metadata": {},
   "outputs": [],
   "source": [
    "reg_tree_report = RegressionReport(model=xgb_pipeline_final, x_train=train_X, y_train=train_y, x_test= test_X, y_test= test_y)\n",
    "reg_tree_report.get_report(include_shap=False, file_path='regression_tree_model_report')"
   ]
  }
 ],
 "metadata": {
  "kernelspec": {
   "display_name": "Python 3 (ipykernel)",
   "language": "python",
   "name": "python3"
  },
  "language_info": {
   "codemirror_mode": {
    "name": "ipython",
    "version": 3
   },
   "file_extension": ".py",
   "mimetype": "text/x-python",
   "name": "python",
   "nbconvert_exporter": "python",
   "pygments_lexer": "ipython3",
   "version": "3.9.16"
  }
 },
 "nbformat": 4,
 "nbformat_minor": 5
}
