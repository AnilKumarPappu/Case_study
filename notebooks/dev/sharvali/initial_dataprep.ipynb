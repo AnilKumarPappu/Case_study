{
 "cells": [
  {
   "cell_type": "markdown",
   "id": "29b06365-0c07-4af8-bc16-74a1050f0c8c",
   "metadata": {},
   "source": [
    "# Initialization"
   ]
  },
  {
   "cell_type": "code",
   "execution_count": 14,
   "id": "b7ca4834-3dc2-41a9-baa6-46694786e021",
   "metadata": {},
   "outputs": [
    {
     "name": "stdout",
     "output_type": "stream",
     "text": [
      "The autoreload extension is already loaded. To reload it, use:\n",
      "  %reload_ext autoreload\n"
     ]
    }
   ],
   "source": [
    "%load_ext autoreload\n",
    "%autoreload 2"
   ]
  },
  {
   "cell_type": "code",
   "execution_count": 15,
   "id": "e49016c2-05ce-4b19-8f8a-2c9f1f8beaa7",
   "metadata": {},
   "outputs": [
    {
     "name": "stdout",
     "output_type": "stream",
     "text": [
      "CPU times: user 314 µs, sys: 119 µs, total: 433 µs\n",
      "Wall time: 443 µs\n"
     ]
    }
   ],
   "source": [
    "%%time\n",
    "\n",
    "# Third-party imports\n",
    "import os.path as op\n",
    "import pandas as pd\n",
    "import great_expectations as ge\n",
    "\n",
    "# Project imports\n",
    "from ta_lib.core.api import display_as_tabs, initialize_environment\n",
    "\n",
    "# Initialization\n",
    "initialize_environment(debug=False, hide_warnings=True)"
   ]
  },
  {
   "cell_type": "markdown",
   "id": "25a56672-a9ad-4ae4-ab38-95a530c772d3",
   "metadata": {},
   "source": [
    "# Data Overview"
   ]
  },
  {
   "cell_type": "code",
   "execution_count": 16,
   "id": "f1724359-d9af-4182-a53b-5d6637bf935f",
   "metadata": {},
   "outputs": [],
   "source": [
    "from ta_lib.core.api import create_context, list_datasets, load_dataset"
   ]
  },
  {
   "cell_type": "code",
   "execution_count": 17,
   "id": "1f7347d4-0045-4d4c-8910-d115d7f5f85a",
   "metadata": {},
   "outputs": [],
   "source": [
    "config_path = op.join('conf', 'config.yml')\n",
    "context = create_context(config_path)"
   ]
  },
  {
   "cell_type": "code",
   "execution_count": 18,
   "id": "a785cd31-a78f-443e-bb3f-8f1dcf174639",
   "metadata": {},
   "outputs": [
    {
     "data": {
      "text/plain": [
       "['/raw/google_search_data',\n",
       " '/raw/product_manufacturer_list',\n",
       " '/raw/sales_data',\n",
       " '/raw/social_media_data',\n",
       " '/raw/theme_list',\n",
       " '/raw/theme_product_list']"
      ]
     },
     "execution_count": 18,
     "metadata": {},
     "output_type": "execute_result"
    }
   ],
   "source": [
    "list_datasets(context)"
   ]
  },
  {
   "cell_type": "code",
   "execution_count": 19,
   "id": "ac40a775-6341-4163-bfb1-94908db38e9f",
   "metadata": {},
   "outputs": [],
   "source": [
    "g_search = load_dataset(context, 'raw/google_search_data')\n",
    "product = load_dataset(context, 'raw/product_manufacturer_list')\n",
    "sales = load_dataset(context, 'raw/sales_data')\n",
    "media = load_dataset(context, 'raw/social_media_data')\n",
    "themes = load_dataset(context, 'raw/theme_list')\n",
    "theme_product = load_dataset(context, 'raw/theme_product_list')"
   ]
  },
  {
   "cell_type": "markdown",
   "id": "6004a947-c495-4972-ab1d-58aa9f7a8472",
   "metadata": {},
   "source": [
    "# Exploratory Analysis"
   ]
  },
  {
   "cell_type": "code",
   "execution_count": 20,
   "id": "f39cd866-a049-4cfa-aa73-abbdce116d83",
   "metadata": {},
   "outputs": [],
   "source": [
    "import ta_lib.eda.api as eda"
   ]
  },
  {
   "cell_type": "code",
   "execution_count": 26,
   "id": "d7c5aead-6331-4843-a250-fa187aa6b48a",
   "metadata": {},
   "outputs": [
    {
     "data": {},
     "metadata": {},
     "output_type": "display_data"
    },
    {
     "data": {
      "application/vnd.holoviews_exec.v0+json": "",
      "text/html": [
       "<div id='1032'>\n",
       "  <div class=\"bk-root\" id=\"6ebf980a-18a9-4b15-8ed1-2663f7a78be8\" data-root-id=\"1032\"></div>\n",
       "</div>\n",
       "<script type=\"application/javascript\">(function(root) {\n",
       "  function embed_document(root) {\n",
       "    var docs_json = {\"1088aace-35fc-4629-b415-69f5b6683baf\":{\"defs\":[{\"extends\":null,\"module\":null,\"name\":\"ReactiveHTML1\",\"overrides\":[],\"properties\":[]},{\"extends\":null,\"module\":null,\"name\":\"FlexBox1\",\"overrides\":[],\"properties\":[{\"default\":\"flex-start\",\"kind\":null,\"name\":\"align_content\"},{\"default\":\"flex-start\",\"kind\":null,\"name\":\"align_items\"},{\"default\":\"row\",\"kind\":null,\"name\":\"flex_direction\"},{\"default\":\"wrap\",\"kind\":null,\"name\":\"flex_wrap\"},{\"default\":\"flex-start\",\"kind\":null,\"name\":\"justify_content\"}]},{\"extends\":null,\"module\":null,\"name\":\"GridStack1\",\"overrides\":[],\"properties\":[{\"default\":\"warn\",\"kind\":null,\"name\":\"mode\"},{\"default\":null,\"kind\":null,\"name\":\"ncols\"},{\"default\":null,\"kind\":null,\"name\":\"nrows\"},{\"default\":true,\"kind\":null,\"name\":\"allow_resize\"},{\"default\":true,\"kind\":null,\"name\":\"allow_drag\"},{\"default\":[],\"kind\":null,\"name\":\"state\"}]},{\"extends\":null,\"module\":null,\"name\":\"click1\",\"overrides\":[],\"properties\":[{\"default\":\"\",\"kind\":null,\"name\":\"terminal_output\"},{\"default\":\"\",\"kind\":null,\"name\":\"debug_name\"},{\"default\":0,\"kind\":null,\"name\":\"clears\"}]},{\"extends\":null,\"module\":null,\"name\":\"NotificationAreaBase1\",\"overrides\":[],\"properties\":[{\"default\":\"bottom-right\",\"kind\":null,\"name\":\"position\"},{\"default\":0,\"kind\":null,\"name\":\"_clear\"}]},{\"extends\":null,\"module\":null,\"name\":\"NotificationArea1\",\"overrides\":[],\"properties\":[{\"default\":[],\"kind\":null,\"name\":\"notifications\"},{\"default\":\"bottom-right\",\"kind\":null,\"name\":\"position\"},{\"default\":0,\"kind\":null,\"name\":\"_clear\"},{\"default\":[{\"background\":\"#ffc107\",\"icon\":{\"className\":\"fas fa-exclamation-triangle\",\"color\":\"white\",\"tagName\":\"i\"},\"type\":\"warning\"},{\"background\":\"#007bff\",\"icon\":{\"className\":\"fas fa-info-circle\",\"color\":\"white\",\"tagName\":\"i\"},\"type\":\"info\"}],\"kind\":null,\"name\":\"types\"}]},{\"extends\":null,\"module\":null,\"name\":\"Notification\",\"overrides\":[],\"properties\":[{\"default\":null,\"kind\":null,\"name\":\"background\"},{\"default\":3000,\"kind\":null,\"name\":\"duration\"},{\"default\":null,\"kind\":null,\"name\":\"icon\"},{\"default\":\"\",\"kind\":null,\"name\":\"message\"},{\"default\":null,\"kind\":null,\"name\":\"notification_type\"},{\"default\":false,\"kind\":null,\"name\":\"_destroyed\"}]},{\"extends\":null,\"module\":null,\"name\":\"TemplateActions1\",\"overrides\":[],\"properties\":[{\"default\":0,\"kind\":null,\"name\":\"open_modal\"},{\"default\":0,\"kind\":null,\"name\":\"close_modal\"}]},{\"extends\":null,\"module\":null,\"name\":\"MaterialTemplateActions1\",\"overrides\":[],\"properties\":[{\"default\":0,\"kind\":null,\"name\":\"open_modal\"},{\"default\":0,\"kind\":null,\"name\":\"close_modal\"}]}],\"roots\":{\"references\":[{\"attributes\":{\"child\":{\"id\":\"1043\"},\"name\":\"theme_product_list\",\"title\":\"theme_product_list\"},\"id\":\"1044\",\"type\":\"Panel\"},{\"attributes\":{\"margin\":[5,5,5,5],\"name\":\"sales_data\",\"text\":\"&lt;pre&gt;(4526182, 5)&lt;/pre&gt;\"},\"id\":\"1037\",\"type\":\"panel.models.markup.HTML\"},{\"attributes\":{\"margin\":[5,5,5,5],\"name\":\"theme_list\",\"text\":\"&lt;pre&gt;(208, 2)&lt;/pre&gt;\"},\"id\":\"1041\",\"type\":\"panel.models.markup.HTML\"},{\"attributes\":{\"margin\":[0,0,0,0],\"tabs\":[{\"id\":\"1034\"},{\"id\":\"1036\"},{\"id\":\"1038\"},{\"id\":\"1040\"},{\"id\":\"1042\"},{\"id\":\"1044\"}]},\"id\":\"1032\",\"type\":\"panel.models.tabs.Tabs\"},{\"attributes\":{\"margin\":[5,5,5,5],\"name\":\"theme_product_list\",\"text\":\"&lt;pre&gt;(91485, 2)&lt;/pre&gt;\"},\"id\":\"1043\",\"type\":\"panel.models.markup.HTML\"},{\"attributes\":{\"client_comm_id\":\"9ab076fb58124b879912b8295b75424b\",\"comm_id\":\"4e5924e17e1946e6b0ab5042cf85068d\",\"plot_id\":\"1032\"},\"id\":\"1045\",\"type\":\"panel.models.comm_manager.CommManager\"},{\"attributes\":{\"child\":{\"id\":\"1033\"},\"name\":\"google_search\",\"title\":\"google_search\"},\"id\":\"1034\",\"type\":\"Panel\"},{\"attributes\":{\"margin\":[5,5,5,5],\"name\":\"product_manufacturer_list\",\"text\":\"&lt;pre&gt;(67175, 7)&lt;/pre&gt;\"},\"id\":\"1035\",\"type\":\"panel.models.markup.HTML\"},{\"attributes\":{\"child\":{\"id\":\"1041\"},\"name\":\"theme_list\",\"title\":\"theme_list\"},\"id\":\"1042\",\"type\":\"Panel\"},{\"attributes\":{\"child\":{\"id\":\"1039\"},\"name\":\"social_media\",\"title\":\"social_media\"},\"id\":\"1040\",\"type\":\"Panel\"},{\"attributes\":{\"margin\":[5,5,5,5],\"name\":\"google_search\",\"text\":\"&lt;pre&gt;(181565, 6)&lt;/pre&gt;\"},\"id\":\"1033\",\"type\":\"panel.models.markup.HTML\"},{\"attributes\":{\"child\":{\"id\":\"1035\"},\"name\":\"product_manufacturer_list\",\"title\":\"product_manufacturer_list\"},\"id\":\"1036\",\"type\":\"Panel\"},{\"attributes\":{\"child\":{\"id\":\"1037\"},\"name\":\"sales_data\",\"title\":\"sales_data\"},\"id\":\"1038\",\"type\":\"Panel\"},{\"attributes\":{\"reload\":false},\"id\":\"1046\",\"type\":\"panel.models.location.Location\"},{\"attributes\":{\"margin\":[5,5,5,5],\"name\":\"social_media\",\"text\":\"&lt;pre&gt;(533390, 3)&lt;/pre&gt;\"},\"id\":\"1039\",\"type\":\"panel.models.markup.HTML\"}],\"root_ids\":[\"1032\",\"1045\",\"1046\"]},\"title\":\"Bokeh Application\",\"version\":\"2.4.3\"}};\n",
       "    var render_items = [{\"docid\":\"1088aace-35fc-4629-b415-69f5b6683baf\",\"root_ids\":[\"1032\"],\"roots\":{\"1032\":\"6ebf980a-18a9-4b15-8ed1-2663f7a78be8\"}}];\n",
       "    root.Bokeh.embed.embed_items_notebook(docs_json, render_items);\n",
       "  }\n",
       "  if (root.Bokeh !== undefined && root.Bokeh.Panel !== undefined) {\n",
       "    embed_document(root);\n",
       "  } else {\n",
       "    var attempts = 0;\n",
       "    var timer = setInterval(function(root) {\n",
       "      if (root.Bokeh !== undefined && root.Bokeh.Panel !== undefined) {\n",
       "        clearInterval(timer);\n",
       "        embed_document(root);\n",
       "      } else if (document.readyState == \"complete\") {\n",
       "        attempts++;\n",
       "        if (attempts > 200) {\n",
       "          clearInterval(timer);\n",
       "          console.log(\"Bokeh: ERROR: Unable to run BokehJS code because BokehJS library is missing\");\n",
       "        }\n",
       "      }\n",
       "    }, 25, root)\n",
       "  }\n",
       "})(window);</script>"
      ],
      "text/plain": [
       "Tabs\n",
       "    [0] Str(tuple, name='google_search')\n",
       "    [1] Str(tuple, name='product_manufacturer_list...)\n",
       "    [2] Str(tuple, name='sales_data')\n",
       "    [3] Str(tuple, name='social_media')\n",
       "    [4] Str(tuple, name='theme_list')\n",
       "    [5] Str(tuple, name='theme_product_list')"
      ]
     },
     "execution_count": 26,
     "metadata": {
      "application/vnd.holoviews_exec.v0+json": {
       "id": "1032"
      }
     },
     "output_type": "execute_result"
    }
   ],
   "source": [
    "display_as_tabs([('google_search', g_search.shape), ('product_manufacturer_list', product.shape),\n",
    "                 ('sales_data', sales.shape), ('social_media', media.shape),\n",
    "                 ('theme_list', themes.shape), ('theme_product_list', theme_product.shape)])"
   ]
  },
  {
   "cell_type": "code",
   "execution_count": null,
   "id": "7cc47408-6fa2-4639-8ebf-dae157cce146",
   "metadata": {},
   "outputs": [],
   "source": [
    "sum1 = eda.get_variable_summary(orders_df)\n",
    "sum2 = eda.get_variable_summary(prod_df)\n",
    "sum3 = eda.get_variable_summary(prod_df)\n",
    "sum4 = eda.get_variable_summary(prod_df)\n",
    "sum5 = eda.get_variable_summary(prod_df)\n",
    "sum6 = eda.get_variable_summary(prod_df)\n",
    "\n",
    "display_as_tabs([('orders', sum1), ('product', sum2)])"
   ]
  }
 ],
 "metadata": {
  "kernelspec": {
   "display_name": "Python 3 (ipykernel)",
   "language": "python",
   "name": "python3"
  },
  "language_info": {
   "codemirror_mode": {
    "name": "ipython",
    "version": 3
   },
   "file_extension": ".py",
   "mimetype": "text/x-python",
   "name": "python",
   "nbconvert_exporter": "python",
   "pygments_lexer": "ipython3",
   "version": "3.9.16"
  }
 },
 "nbformat": 4,
 "nbformat_minor": 5
}
