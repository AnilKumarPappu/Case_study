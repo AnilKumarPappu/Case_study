{
 "cells": [
  {
   "attachments": {},
   "cell_type": "markdown",
   "id": "55eb47e1-8dc0-4eab-a33f-2c74619576b4",
   "metadata": {},
   "source": [
    "# Purpose \n",
    "\n",
    "This notebook creates the final dataset with proper filtering and merging of previosuly cleaned datasets. The final dataset is alsso spilt into train and test sets for modelling."
   ]
  },
  {
   "attachments": {},
   "cell_type": "markdown",
   "id": "a8a9c9b6-a98b-4b63-b2eb-b579591268f0",
   "metadata": {},
   "source": [
    "# Imports"
   ]
  },
  {
   "cell_type": "code",
   "execution_count": 9,
   "id": "3f91c3a5-e4bc-40d0-9917-a3dbf4f1b707",
   "metadata": {},
   "outputs": [],
   "source": [
    "from pprint import pprint\n",
    "import os\n",
    "import os.path as op\n",
    "import shutil\n",
    "\n",
    "# standard third party imports\n",
    "import numpy as np\n",
    "import pandas as pd\n",
    "import random\n",
    "import datetime\n",
    "\n",
    "import matplotlib.pyplot as plt \n",
    "%matplotlib inline\n",
    "\n",
    "import seaborn as sns\n",
    "sns.set_style('darkgrid')\n",
    "sns.set_palette('viridis')\n",
    "from sklearn.model_selection import train_test_split\n",
    "pd.options.mode.use_inf_as_na = True"
   ]
  },
  {
   "cell_type": "code",
   "execution_count": 10,
   "id": "91743546-2956-46e3-b56c-f7c12307564e",
   "metadata": {},
   "outputs": [
    {
     "name": "stdout",
     "output_type": "stream",
     "text": [
      "The autoreload extension is already loaded. To reload it, use:\n",
      "  %reload_ext autoreload\n"
     ]
    }
   ],
   "source": [
    "%load_ext autoreload\n",
    "%autoreload 2"
   ]
  },
  {
   "cell_type": "code",
   "execution_count": 11,
   "id": "517fcb0d-54c5-4bf9-90ef-46eb91fa0226",
   "metadata": {},
   "outputs": [],
   "source": [
    "import warnings\n",
    "\n",
    "warnings.filterwarnings('ignore', message=\"The default value of regex will change from True to False in a future version.\", \n",
    "                        category=FutureWarning)"
   ]
  },
  {
   "cell_type": "code",
   "execution_count": 12,
   "id": "2d3bd098-a7fb-42e3-a764-5500c9b9c9e5",
   "metadata": {
    "scrolled": true
   },
   "outputs": [],
   "source": [
    "# standard code-template imports\n",
    "from ta_lib.core.api import (\n",
    "    create_context, get_dataframe, get_feature_names_from_column_transformer, get_package_path,\n",
    "    display_as_tabs, string_cleaning, merge_info, initialize_environment,\n",
    "    list_datasets, load_dataset, save_dataset\n",
    ")\n",
    "import ta_lib.eda.api as eda"
   ]
  },
  {
   "attachments": {},
   "cell_type": "markdown",
   "id": "f71fb14d-40a5-4560-89a5-e0377ed398f6",
   "metadata": {},
   "source": [
    "# Initialisation"
   ]
  },
  {
   "cell_type": "code",
   "execution_count": 13,
   "id": "5f077d6f-93bd-4982-a9dc-10b14646674d",
   "metadata": {},
   "outputs": [
    {
     "name": "stdout",
     "output_type": "stream",
     "text": [
      "['/raw/google_search_data',\n",
      " '/raw/product_manufacturer_list',\n",
      " '/raw/sales_data',\n",
      " '/raw/social_media_data',\n",
      " '/raw/theme_list',\n",
      " '/raw/theme_product_list',\n",
      " '/cleaned/google_search_data',\n",
      " '/cleaned/product_manufacturer_list',\n",
      " '/cleaned/sales_data',\n",
      " '/cleaned/social_media_data',\n",
      " '/cleaned/theme_list',\n",
      " '/cleaned/theme_product_list',\n",
      " '/train/features',\n",
      " '/train/target',\n",
      " '/test/features',\n",
      " '/test/target']\n"
     ]
    }
   ],
   "source": [
    "config_path = op.join('conf', 'config.yml')\n",
    "context = create_context(config_path)\n",
    "pprint(list_datasets(context))"
   ]
  },
  {
   "cell_type": "code",
   "execution_count": 14,
   "id": "688950f2-db26-45d1-bfce-271e005e47a6",
   "metadata": {},
   "outputs": [],
   "source": [
    "g_search = load_dataset(context, 'cleaned/google_search_data')\n",
    "product = load_dataset(context, 'cleaned/product_manufacturer_list')\n",
    "sales = load_dataset(context, 'cleaned/sales_data')\n",
    "media = load_dataset(context, 'cleaned/social_media_data')\n",
    "themes = load_dataset(context, 'cleaned/theme_list')\n",
    "theme_product = load_dataset(context, 'cleaned/theme_product_list')"
   ]
  },
  {
   "attachments": {},
   "cell_type": "markdown",
   "id": "acb3f9bd-1692-439b-bce6-25a2350b367b",
   "metadata": {},
   "source": [
    "# Dataset prep\n",
    "\n",
    "All the datasets need to be filtered by the following criteria:\n",
    "\n",
    "* Filter by 30 common themes\n",
    "* Filter excess time data from google\n",
    "* Filter by vendor"
   ]
  },
  {
   "attachments": {},
   "cell_type": "markdown",
   "id": "86709d68-3dd8-4709-a1dd-c3cd2d765614",
   "metadata": {},
   "source": [
    "**To-do list**\n",
    "\n",
    "* fix the date columns format in social media(✅) and google search(✅)\n",
    "* filter by 30 common themes ✅\n",
    "* filter by date (remove 2014 data from google search) ✅\n",
    "* vendor"
   ]
  },
  {
   "cell_type": "code",
   "execution_count": 15,
   "id": "672916e6-0875-4584-afef-93eda48cfa71",
   "metadata": {},
   "outputs": [
    {
     "data": {
      "text/plain": [
       "min   2015-05-21\n",
       "max   2019-10-31\n",
       "Name: published_date, dtype: datetime64[ns]"
      ]
     },
     "execution_count": 15,
     "metadata": {},
     "output_type": "execute_result"
    }
   ],
   "source": [
    "# get time span for social media data\n",
    "media['published_date'].agg(['min', 'max'])"
   ]
  },
  {
   "cell_type": "code",
   "execution_count": 16,
   "id": "98774a4c-f3c3-4755-8762-864ea72f1187",
   "metadata": {},
   "outputs": [
    {
     "data": {
      "text/plain": [
       "min   2014-01-01\n",
       "max   2019-10-01\n",
       "Name: date, dtype: datetime64[ns]"
      ]
     },
     "execution_count": 16,
     "metadata": {},
     "output_type": "execute_result"
    }
   ],
   "source": [
    "# get time span for google search data\n",
    "g_search['date'].agg(['min', 'max'])"
   ]
  },
  {
   "cell_type": "code",
   "execution_count": 17,
   "id": "88c092ba-f4c6-40a3-b3b0-42be49895bbd",
   "metadata": {},
   "outputs": [
    {
     "data": {
      "text/plain": [
       "min   2016-01-09\n",
       "max   2019-10-05\n",
       "Name: calender_key, dtype: datetime64[ns]"
      ]
     },
     "execution_count": 17,
     "metadata": {},
     "output_type": "execute_result"
    }
   ],
   "source": [
    "# get time span for sales data\n",
    "sales['calender_key'].agg(['min', 'max'])"
   ]
  },
  {
   "attachments": {},
   "cell_type": "markdown",
   "id": "b3f094f5-0b80-49e4-9118-ab6f8d0c4815",
   "metadata": {},
   "source": [
    "## Get Common themes list"
   ]
  },
  {
   "cell_type": "code",
   "execution_count": 18,
   "id": "7f998932-bc3e-462c-9492-cd31ff4dacce",
   "metadata": {},
   "outputs": [
    {
     "name": "stdout",
     "output_type": "stream",
     "text": [
      "Social Media data merged with themes:\n"
     ]
    },
    {
     "data": {
      "text/html": [
       "<div>\n",
       "<style scoped>\n",
       "    .dataframe tbody tr th:only-of-type {\n",
       "        vertical-align: middle;\n",
       "    }\n",
       "\n",
       "    .dataframe tbody tr th {\n",
       "        vertical-align: top;\n",
       "    }\n",
       "\n",
       "    .dataframe thead th {\n",
       "        text-align: right;\n",
       "    }\n",
       "</style>\n",
       "<table border=\"1\" class=\"dataframe\">\n",
       "  <thead>\n",
       "    <tr style=\"text-align: right;\">\n",
       "      <th></th>\n",
       "      <th>theme_id</th>\n",
       "      <th>published_date</th>\n",
       "      <th>total_post</th>\n",
       "      <th>claim_id</th>\n",
       "      <th>claim_name</th>\n",
       "    </tr>\n",
       "  </thead>\n",
       "  <tbody>\n",
       "    <tr>\n",
       "      <th>0</th>\n",
       "      <td>8</td>\n",
       "      <td>2015-05-21</td>\n",
       "      <td>104</td>\n",
       "      <td>8.0</td>\n",
       "      <td>low carb</td>\n",
       "    </tr>\n",
       "    <tr>\n",
       "      <th>1</th>\n",
       "      <td>8</td>\n",
       "      <td>2015-05-22</td>\n",
       "      <td>92</td>\n",
       "      <td>8.0</td>\n",
       "      <td>low carb</td>\n",
       "    </tr>\n",
       "    <tr>\n",
       "      <th>2</th>\n",
       "      <td>8</td>\n",
       "      <td>2015-05-23</td>\n",
       "      <td>111</td>\n",
       "      <td>8.0</td>\n",
       "      <td>low carb</td>\n",
       "    </tr>\n",
       "    <tr>\n",
       "      <th>3</th>\n",
       "      <td>8</td>\n",
       "      <td>2015-05-24</td>\n",
       "      <td>105</td>\n",
       "      <td>8.0</td>\n",
       "      <td>low carb</td>\n",
       "    </tr>\n",
       "    <tr>\n",
       "      <th>4</th>\n",
       "      <td>8</td>\n",
       "      <td>2015-05-25</td>\n",
       "      <td>106</td>\n",
       "      <td>8.0</td>\n",
       "      <td>low carb</td>\n",
       "    </tr>\n",
       "  </tbody>\n",
       "</table>\n",
       "</div>"
      ],
      "text/plain": [
       "   theme_id published_date  total_post  claim_id claim_name\n",
       "0         8     2015-05-21         104       8.0   low carb\n",
       "1         8     2015-05-22          92       8.0   low carb\n",
       "2         8     2015-05-23         111       8.0   low carb\n",
       "3         8     2015-05-24         105       8.0   low carb\n",
       "4         8     2015-05-25         106       8.0   low carb"
      ]
     },
     "execution_count": 18,
     "metadata": {},
     "output_type": "execute_result"
    }
   ],
   "source": [
    "# merge social media data with themes data\n",
    "media_merged = pd.merge(media, themes, how='left', left_on='theme_id', right_on='claim_id')\n",
    "\n",
    "print('Social Media data merged with themes:')\n",
    "media_merged.head()"
   ]
  },
  {
   "cell_type": "code",
   "execution_count": 19,
   "id": "59e66f48-8e3a-4e6b-b22b-abc9776eae08",
   "metadata": {},
   "outputs": [
    {
     "name": "stdout",
     "output_type": "stream",
     "text": [
      "Google Search data merged with themes:\n"
     ]
    },
    {
     "data": {
      "text/html": [
       "<div>\n",
       "<style scoped>\n",
       "    .dataframe tbody tr th:only-of-type {\n",
       "        vertical-align: middle;\n",
       "    }\n",
       "\n",
       "    .dataframe tbody tr th {\n",
       "        vertical-align: top;\n",
       "    }\n",
       "\n",
       "    .dataframe thead th {\n",
       "        text-align: right;\n",
       "    }\n",
       "</style>\n",
       "<table border=\"1\" class=\"dataframe\">\n",
       "  <thead>\n",
       "    <tr style=\"text-align: right;\">\n",
       "      <th></th>\n",
       "      <th>date</th>\n",
       "      <th>claim_id</th>\n",
       "      <th>platform</th>\n",
       "      <th>year_new</th>\n",
       "      <th>week_number</th>\n",
       "      <th>search_volume</th>\n",
       "      <th>claim_name</th>\n",
       "    </tr>\n",
       "  </thead>\n",
       "  <tbody>\n",
       "    <tr>\n",
       "      <th>0</th>\n",
       "      <td>2014-01-01</td>\n",
       "      <td>8</td>\n",
       "      <td>google</td>\n",
       "      <td>2014</td>\n",
       "      <td>1</td>\n",
       "      <td>6613</td>\n",
       "      <td>low carb</td>\n",
       "    </tr>\n",
       "    <tr>\n",
       "      <th>1</th>\n",
       "      <td>2014-01-01</td>\n",
       "      <td>39</td>\n",
       "      <td>google</td>\n",
       "      <td>2014</td>\n",
       "      <td>1</td>\n",
       "      <td>181</td>\n",
       "      <td>highsource of protein</td>\n",
       "    </tr>\n",
       "    <tr>\n",
       "      <th>2</th>\n",
       "      <td>2014-01-01</td>\n",
       "      <td>75</td>\n",
       "      <td>google</td>\n",
       "      <td>2014</td>\n",
       "      <td>1</td>\n",
       "      <td>135</td>\n",
       "      <td>french bisque</td>\n",
       "    </tr>\n",
       "    <tr>\n",
       "      <th>3</th>\n",
       "      <td>2014-01-01</td>\n",
       "      <td>81</td>\n",
       "      <td>google</td>\n",
       "      <td>2014</td>\n",
       "      <td>1</td>\n",
       "      <td>1257</td>\n",
       "      <td>gmo free</td>\n",
       "    </tr>\n",
       "    <tr>\n",
       "      <th>4</th>\n",
       "      <td>2014-01-01</td>\n",
       "      <td>100</td>\n",
       "      <td>google</td>\n",
       "      <td>2014</td>\n",
       "      <td>1</td>\n",
       "      <td>2636</td>\n",
       "      <td>low calorie</td>\n",
       "    </tr>\n",
       "  </tbody>\n",
       "</table>\n",
       "</div>"
      ],
      "text/plain": [
       "        date  claim_id platform  year_new  week_number  search_volume  \\\n",
       "0 2014-01-01         8   google      2014            1           6613   \n",
       "1 2014-01-01        39   google      2014            1            181   \n",
       "2 2014-01-01        75   google      2014            1            135   \n",
       "3 2014-01-01        81   google      2014            1           1257   \n",
       "4 2014-01-01       100   google      2014            1           2636   \n",
       "\n",
       "              claim_name  \n",
       "0               low carb  \n",
       "1  highsource of protein  \n",
       "2          french bisque  \n",
       "3               gmo free  \n",
       "4            low calorie  "
      ]
     },
     "execution_count": 19,
     "metadata": {},
     "output_type": "execute_result"
    }
   ],
   "source": [
    "# merge google search data with themes data\n",
    "g_search_merged = pd.merge(g_search,themes, how = 'left', on='claim_id')\n",
    "\n",
    "print('Google Search data merged with themes:')\n",
    "g_search_merged.head()"
   ]
  },
  {
   "cell_type": "code",
   "execution_count": 20,
   "id": "7846a400-e144-416a-9602-2038d9e5cb5f",
   "metadata": {},
   "outputs": [
    {
     "name": "stdout",
     "output_type": "stream",
     "text": [
      "Sales data merged with themes:\n"
     ]
    },
    {
     "data": {
      "text/html": [
       "<div>\n",
       "<style scoped>\n",
       "    .dataframe tbody tr th:only-of-type {\n",
       "        vertical-align: middle;\n",
       "    }\n",
       "\n",
       "    .dataframe tbody tr th {\n",
       "        vertical-align: top;\n",
       "    }\n",
       "\n",
       "    .dataframe thead th {\n",
       "        text-align: right;\n",
       "    }\n",
       "</style>\n",
       "<table border=\"1\" class=\"dataframe\">\n",
       "  <thead>\n",
       "    <tr style=\"text-align: right;\">\n",
       "      <th></th>\n",
       "      <th>calender_key</th>\n",
       "      <th>product_id</th>\n",
       "      <th>sales_dollars_value</th>\n",
       "      <th>sales_units_value</th>\n",
       "      <th>sales_lbs_value</th>\n",
       "      <th>claim_id</th>\n",
       "      <th>claim_name</th>\n",
       "    </tr>\n",
       "  </thead>\n",
       "  <tbody>\n",
       "    <tr>\n",
       "      <th>0</th>\n",
       "      <td>2016-01-09</td>\n",
       "      <td>1</td>\n",
       "      <td>13927</td>\n",
       "      <td>934</td>\n",
       "      <td>18680</td>\n",
       "      <td>0</td>\n",
       "      <td>No Claim</td>\n",
       "    </tr>\n",
       "    <tr>\n",
       "      <th>1</th>\n",
       "      <td>2016-01-09</td>\n",
       "      <td>3</td>\n",
       "      <td>10289</td>\n",
       "      <td>1592</td>\n",
       "      <td>28646</td>\n",
       "      <td>0</td>\n",
       "      <td>No Claim</td>\n",
       "    </tr>\n",
       "    <tr>\n",
       "      <th>2</th>\n",
       "      <td>2016-01-09</td>\n",
       "      <td>4</td>\n",
       "      <td>357</td>\n",
       "      <td>22</td>\n",
       "      <td>440</td>\n",
       "      <td>0</td>\n",
       "      <td>No Claim</td>\n",
       "    </tr>\n",
       "    <tr>\n",
       "      <th>3</th>\n",
       "      <td>2016-01-09</td>\n",
       "      <td>6</td>\n",
       "      <td>23113</td>\n",
       "      <td>2027</td>\n",
       "      <td>81088</td>\n",
       "      <td>0</td>\n",
       "      <td>No Claim</td>\n",
       "    </tr>\n",
       "    <tr>\n",
       "      <th>4</th>\n",
       "      <td>2016-01-09</td>\n",
       "      <td>7</td>\n",
       "      <td>23177</td>\n",
       "      <td>3231</td>\n",
       "      <td>58164</td>\n",
       "      <td>0</td>\n",
       "      <td>No Claim</td>\n",
       "    </tr>\n",
       "  </tbody>\n",
       "</table>\n",
       "</div>"
      ],
      "text/plain": [
       "  calender_key  product_id  sales_dollars_value  sales_units_value  \\\n",
       "0   2016-01-09           1                13927                934   \n",
       "1   2016-01-09           3                10289               1592   \n",
       "2   2016-01-09           4                  357                 22   \n",
       "3   2016-01-09           6                23113               2027   \n",
       "4   2016-01-09           7                23177               3231   \n",
       "\n",
       "   sales_lbs_value  claim_id claim_name  \n",
       "0            18680         0   No Claim  \n",
       "1            28646         0   No Claim  \n",
       "2              440         0   No Claim  \n",
       "3            81088         0   No Claim  \n",
       "4            58164         0   No Claim  "
      ]
     },
     "execution_count": 20,
     "metadata": {},
     "output_type": "execute_result"
    }
   ],
   "source": [
    "# merge sales data with themes data\n",
    "sales_merged = pd.merge(sales, theme_product, how='left', on='product_id')\n",
    "sales_merged = pd.merge(sales_merged, themes, how='left', on='claim_id')\n",
    "\n",
    "print('Sales data merged with themes:')\n",
    "sales_merged.head()"
   ]
  },
  {
   "cell_type": "code",
   "execution_count": 21,
   "id": "e5989948-5280-4fae-ae61-8cc84437ba54",
   "metadata": {},
   "outputs": [
    {
     "name": "stdout",
     "output_type": "stream",
     "text": [
      "Common themes across all datasets:\n"
     ]
    },
    {
     "data": {
      "text/plain": [
       "{'beef hamburger',\n",
       " 'blueberry',\n",
       " 'bone health',\n",
       " 'chicken',\n",
       " 'convenience easytoprepare',\n",
       " 'crab',\n",
       " 'energyalertness',\n",
       " 'ethical not specific',\n",
       " 'ethical packaging',\n",
       " 'ethnic & exotic',\n",
       " 'french bisque',\n",
       " 'gingerbread',\n",
       " 'gmo free',\n",
       " 'halal',\n",
       " 'highsource of protein',\n",
       " 'low calorie',\n",
       " 'low carb',\n",
       " 'low sodium',\n",
       " 'low sugar',\n",
       " 'mackerel',\n",
       " 'no additivespreservatives',\n",
       " 'nuts',\n",
       " 'peach',\n",
       " 'poultry',\n",
       " 'prebiotic',\n",
       " 'salmon',\n",
       " 'sea salt',\n",
       " 'soy foods',\n",
       " 'tuna',\n",
       " 'vegetarian'}"
      ]
     },
     "execution_count": 21,
     "metadata": {},
     "output_type": "execute_result"
    }
   ],
   "source": [
    "# get common themes for all datasets\n",
    "common_themes = set(media_merged['claim_name']) & set(g_search_merged['claim_name']) & set(sales_merged['claim_name'])\n",
    "\n",
    "print('Common themes across all datasets:')\n",
    "common_themes"
   ]
  },
  {
   "attachments": {},
   "cell_type": "markdown",
   "id": "ebaa3a8f-d9e8-4de9-8079-a778009e7194",
   "metadata": {},
   "source": [
    "## Data filtering by common themes"
   ]
  },
  {
   "cell_type": "code",
   "execution_count": 22,
   "id": "ace415c5-119f-44c0-bda1-fa00d006f2e8",
   "metadata": {},
   "outputs": [
    {
     "name": "stdout",
     "output_type": "stream",
     "text": [
      "Social media data filtered by common themes:\n"
     ]
    },
    {
     "data": {
      "text/html": [
       "<div>\n",
       "<style scoped>\n",
       "    .dataframe tbody tr th:only-of-type {\n",
       "        vertical-align: middle;\n",
       "    }\n",
       "\n",
       "    .dataframe tbody tr th {\n",
       "        vertical-align: top;\n",
       "    }\n",
       "\n",
       "    .dataframe thead th {\n",
       "        text-align: right;\n",
       "    }\n",
       "</style>\n",
       "<table border=\"1\" class=\"dataframe\">\n",
       "  <thead>\n",
       "    <tr style=\"text-align: right;\">\n",
       "      <th></th>\n",
       "      <th>theme_id</th>\n",
       "      <th>published_date</th>\n",
       "      <th>total_post</th>\n",
       "      <th>claim_id</th>\n",
       "      <th>claim_name</th>\n",
       "    </tr>\n",
       "  </thead>\n",
       "  <tbody>\n",
       "    <tr>\n",
       "      <th>0</th>\n",
       "      <td>8</td>\n",
       "      <td>2015-05-21</td>\n",
       "      <td>104</td>\n",
       "      <td>8.0</td>\n",
       "      <td>low carb</td>\n",
       "    </tr>\n",
       "    <tr>\n",
       "      <th>1</th>\n",
       "      <td>8</td>\n",
       "      <td>2015-05-22</td>\n",
       "      <td>92</td>\n",
       "      <td>8.0</td>\n",
       "      <td>low carb</td>\n",
       "    </tr>\n",
       "    <tr>\n",
       "      <th>2</th>\n",
       "      <td>8</td>\n",
       "      <td>2015-05-23</td>\n",
       "      <td>111</td>\n",
       "      <td>8.0</td>\n",
       "      <td>low carb</td>\n",
       "    </tr>\n",
       "    <tr>\n",
       "      <th>3</th>\n",
       "      <td>8</td>\n",
       "      <td>2015-05-24</td>\n",
       "      <td>105</td>\n",
       "      <td>8.0</td>\n",
       "      <td>low carb</td>\n",
       "    </tr>\n",
       "    <tr>\n",
       "      <th>4</th>\n",
       "      <td>8</td>\n",
       "      <td>2015-05-25</td>\n",
       "      <td>106</td>\n",
       "      <td>8.0</td>\n",
       "      <td>low carb</td>\n",
       "    </tr>\n",
       "  </tbody>\n",
       "</table>\n",
       "</div>"
      ],
      "text/plain": [
       "   theme_id published_date  total_post  claim_id claim_name\n",
       "0         8     2015-05-21         104       8.0   low carb\n",
       "1         8     2015-05-22          92       8.0   low carb\n",
       "2         8     2015-05-23         111       8.0   low carb\n",
       "3         8     2015-05-24         105       8.0   low carb\n",
       "4         8     2015-05-25         106       8.0   low carb"
      ]
     },
     "execution_count": 22,
     "metadata": {},
     "output_type": "execute_result"
    }
   ],
   "source": [
    "# filtering social media data by common themes\n",
    "media_filtered = media_merged[media_merged['claim_name'].isin(common_themes)]\n",
    "\n",
    "print('Social media data filtered by common themes:')\n",
    "media_filtered.head()"
   ]
  },
  {
   "cell_type": "code",
   "execution_count": 23,
   "id": "26beab1e-115a-4813-924c-f28829dd2b28",
   "metadata": {},
   "outputs": [
    {
     "data": {
      "text/plain": [
       "(48399, 5)"
      ]
     },
     "execution_count": 23,
     "metadata": {},
     "output_type": "execute_result"
    }
   ],
   "source": [
    "media_filtered.shape"
   ]
  },
  {
   "cell_type": "code",
   "execution_count": 24,
   "id": "4b49c924-aba4-4f75-adf9-b95cc8ce214e",
   "metadata": {},
   "outputs": [
    {
     "name": "stdout",
     "output_type": "stream",
     "text": [
      "Google search data filtered by common themes:\n"
     ]
    },
    {
     "data": {
      "text/html": [
       "<div>\n",
       "<style scoped>\n",
       "    .dataframe tbody tr th:only-of-type {\n",
       "        vertical-align: middle;\n",
       "    }\n",
       "\n",
       "    .dataframe tbody tr th {\n",
       "        vertical-align: top;\n",
       "    }\n",
       "\n",
       "    .dataframe thead th {\n",
       "        text-align: right;\n",
       "    }\n",
       "</style>\n",
       "<table border=\"1\" class=\"dataframe\">\n",
       "  <thead>\n",
       "    <tr style=\"text-align: right;\">\n",
       "      <th></th>\n",
       "      <th>date</th>\n",
       "      <th>claim_id</th>\n",
       "      <th>platform</th>\n",
       "      <th>year_new</th>\n",
       "      <th>week_number</th>\n",
       "      <th>search_volume</th>\n",
       "      <th>claim_name</th>\n",
       "    </tr>\n",
       "  </thead>\n",
       "  <tbody>\n",
       "    <tr>\n",
       "      <th>28531</th>\n",
       "      <td>2015-05-21</td>\n",
       "      <td>8</td>\n",
       "      <td>google</td>\n",
       "      <td>2015</td>\n",
       "      <td>21</td>\n",
       "      <td>10046</td>\n",
       "      <td>low carb</td>\n",
       "    </tr>\n",
       "    <tr>\n",
       "      <th>28532</th>\n",
       "      <td>2015-05-21</td>\n",
       "      <td>39</td>\n",
       "      <td>google</td>\n",
       "      <td>2015</td>\n",
       "      <td>21</td>\n",
       "      <td>181</td>\n",
       "      <td>highsource of protein</td>\n",
       "    </tr>\n",
       "    <tr>\n",
       "      <th>28533</th>\n",
       "      <td>2015-05-21</td>\n",
       "      <td>75</td>\n",
       "      <td>google</td>\n",
       "      <td>2015</td>\n",
       "      <td>21</td>\n",
       "      <td>1213</td>\n",
       "      <td>french bisque</td>\n",
       "    </tr>\n",
       "    <tr>\n",
       "      <th>28534</th>\n",
       "      <td>2015-05-21</td>\n",
       "      <td>81</td>\n",
       "      <td>google</td>\n",
       "      <td>2015</td>\n",
       "      <td>21</td>\n",
       "      <td>539</td>\n",
       "      <td>gmo free</td>\n",
       "    </tr>\n",
       "    <tr>\n",
       "      <th>28535</th>\n",
       "      <td>2015-05-21</td>\n",
       "      <td>100</td>\n",
       "      <td>google</td>\n",
       "      <td>2015</td>\n",
       "      <td>21</td>\n",
       "      <td>659</td>\n",
       "      <td>low calorie</td>\n",
       "    </tr>\n",
       "  </tbody>\n",
       "</table>\n",
       "</div>"
      ],
      "text/plain": [
       "            date  claim_id platform  year_new  week_number  search_volume  \\\n",
       "28531 2015-05-21         8   google      2015           21          10046   \n",
       "28532 2015-05-21        39   google      2015           21            181   \n",
       "28533 2015-05-21        75   google      2015           21           1213   \n",
       "28534 2015-05-21        81   google      2015           21            539   \n",
       "28535 2015-05-21       100   google      2015           21            659   \n",
       "\n",
       "                  claim_name  \n",
       "28531               low carb  \n",
       "28532  highsource of protein  \n",
       "28533          french bisque  \n",
       "28534               gmo free  \n",
       "28535            low calorie  "
      ]
     },
     "execution_count": 24,
     "metadata": {},
     "output_type": "execute_result"
    }
   ],
   "source": [
    "# filtering google search data by common themes\n",
    "g_search_filtered = g_search_merged[g_search_merged['date'] >= media_filtered['published_date'].min()]\n",
    "g_search_filtered = g_search_filtered[g_search_filtered['claim_name'].isin(common_themes)] \n",
    "\n",
    "print('Google search data filtered by common themes:')\n",
    "g_search_filtered.head()"
   ]
  },
  {
   "cell_type": "code",
   "execution_count": 25,
   "id": "33ee2890-ae8e-4990-bf8d-99c756c138cb",
   "metadata": {},
   "outputs": [
    {
     "data": {
      "text/plain": [
       "(33195, 7)"
      ]
     },
     "execution_count": 25,
     "metadata": {},
     "output_type": "execute_result"
    }
   ],
   "source": [
    "g_search_filtered.shape"
   ]
  },
  {
   "cell_type": "code",
   "execution_count": 26,
   "id": "d07e2ff0-d398-4bc5-8d6a-de8c61074967",
   "metadata": {},
   "outputs": [
    {
     "name": "stdout",
     "output_type": "stream",
     "text": [
      "Sales data filtered by common themes:\n"
     ]
    },
    {
     "data": {
      "text/html": [
       "<div>\n",
       "<style scoped>\n",
       "    .dataframe tbody tr th:only-of-type {\n",
       "        vertical-align: middle;\n",
       "    }\n",
       "\n",
       "    .dataframe tbody tr th {\n",
       "        vertical-align: top;\n",
       "    }\n",
       "\n",
       "    .dataframe thead th {\n",
       "        text-align: right;\n",
       "    }\n",
       "</style>\n",
       "<table border=\"1\" class=\"dataframe\">\n",
       "  <thead>\n",
       "    <tr style=\"text-align: right;\">\n",
       "      <th></th>\n",
       "      <th>calender_key</th>\n",
       "      <th>product_id</th>\n",
       "      <th>sales_dollars_value</th>\n",
       "      <th>sales_units_value</th>\n",
       "      <th>sales_lbs_value</th>\n",
       "      <th>claim_id</th>\n",
       "      <th>claim_name</th>\n",
       "    </tr>\n",
       "  </thead>\n",
       "  <tbody>\n",
       "    <tr>\n",
       "      <th>22</th>\n",
       "      <td>2016-01-09</td>\n",
       "      <td>37</td>\n",
       "      <td>1101</td>\n",
       "      <td>159</td>\n",
       "      <td>105</td>\n",
       "      <td>158</td>\n",
       "      <td>chicken</td>\n",
       "    </tr>\n",
       "    <tr>\n",
       "      <th>24</th>\n",
       "      <td>2016-01-09</td>\n",
       "      <td>75</td>\n",
       "      <td>362</td>\n",
       "      <td>58</td>\n",
       "      <td>29</td>\n",
       "      <td>227</td>\n",
       "      <td>salmon</td>\n",
       "    </tr>\n",
       "    <tr>\n",
       "      <th>91</th>\n",
       "      <td>2016-01-09</td>\n",
       "      <td>11323</td>\n",
       "      <td>16668</td>\n",
       "      <td>516</td>\n",
       "      <td>8252</td>\n",
       "      <td>430</td>\n",
       "      <td>soy foods</td>\n",
       "    </tr>\n",
       "    <tr>\n",
       "      <th>96</th>\n",
       "      <td>2016-01-09</td>\n",
       "      <td>11324</td>\n",
       "      <td>6926</td>\n",
       "      <td>575</td>\n",
       "      <td>2013</td>\n",
       "      <td>187</td>\n",
       "      <td>blueberry</td>\n",
       "    </tr>\n",
       "    <tr>\n",
       "      <th>103</th>\n",
       "      <td>2016-01-09</td>\n",
       "      <td>11325</td>\n",
       "      <td>17710</td>\n",
       "      <td>537</td>\n",
       "      <td>8592</td>\n",
       "      <td>187</td>\n",
       "      <td>blueberry</td>\n",
       "    </tr>\n",
       "  </tbody>\n",
       "</table>\n",
       "</div>"
      ],
      "text/plain": [
       "    calender_key  product_id  sales_dollars_value  sales_units_value  \\\n",
       "22    2016-01-09          37                 1101                159   \n",
       "24    2016-01-09          75                  362                 58   \n",
       "91    2016-01-09       11323                16668                516   \n",
       "96    2016-01-09       11324                 6926                575   \n",
       "103   2016-01-09       11325                17710                537   \n",
       "\n",
       "     sales_lbs_value  claim_id claim_name  \n",
       "22               105       158    chicken  \n",
       "24                29       227     salmon  \n",
       "91              8252       430  soy foods  \n",
       "96              2013       187  blueberry  \n",
       "103             8592       187  blueberry  "
      ]
     },
     "execution_count": 26,
     "metadata": {},
     "output_type": "execute_result"
    }
   ],
   "source": [
    "# filtering sales data by common themes\n",
    "sales_filtered = sales_merged[sales_merged['claim_name'].isin(common_themes)]\n",
    "\n",
    "print('Sales data filtered by common themes:')\n",
    "sales_filtered.head()"
   ]
  },
  {
   "cell_type": "code",
   "execution_count": 27,
   "id": "be9c64a2-1ef7-4c3d-bdc4-1a09bb353fb2",
   "metadata": {},
   "outputs": [
    {
     "data": {
      "text/plain": [
       "(3648793, 7)"
      ]
     },
     "execution_count": 27,
     "metadata": {},
     "output_type": "execute_result"
    }
   ],
   "source": [
    "sales_filtered.shape"
   ]
  },
  {
   "cell_type": "code",
   "execution_count": 28,
   "id": "29b425a1-6a2f-47b7-a6bb-27ea7a7dda1a",
   "metadata": {},
   "outputs": [
    {
     "data": {
      "text/plain": [
       "(7767420, 7)"
      ]
     },
     "execution_count": 28,
     "metadata": {},
     "output_type": "execute_result"
    }
   ],
   "source": [
    "sales_merged.shape"
   ]
  },
  {
   "cell_type": "code",
   "execution_count": 29,
   "id": "80e2e98d-2b02-47bd-a137-4118149a4385",
   "metadata": {},
   "outputs": [
    {
     "data": {
      "text/plain": [
       "(4526182, 5)"
      ]
     },
     "execution_count": 29,
     "metadata": {},
     "output_type": "execute_result"
    }
   ],
   "source": [
    "sales.shape"
   ]
  },
  {
   "attachments": {},
   "cell_type": "markdown",
   "id": "1631258a-5072-458f-985c-a90a6611812b",
   "metadata": {},
   "source": [
    "## Resample the datasets by weekly granularity \n",
    "\n",
    "Set index as dates for all of the datasets and offset dates for google_search by 1 week and sales by 2 weeks considering latency"
   ]
  },
  {
   "attachments": {},
   "cell_type": "markdown",
   "id": "333c275e-6f3e-4dec-9e2e-44c9458a3307",
   "metadata": {},
   "source": [
    "### 1. Social Media"
   ]
  },
  {
   "cell_type": "code",
   "execution_count": 30,
   "id": "07328c8c-f9e0-49a3-85ef-af54563f899d",
   "metadata": {},
   "outputs": [
    {
     "data": {
      "text/html": [
       "<div>\n",
       "<style scoped>\n",
       "    .dataframe tbody tr th:only-of-type {\n",
       "        vertical-align: middle;\n",
       "    }\n",
       "\n",
       "    .dataframe tbody tr th {\n",
       "        vertical-align: top;\n",
       "    }\n",
       "\n",
       "    .dataframe thead th {\n",
       "        text-align: right;\n",
       "    }\n",
       "</style>\n",
       "<table border=\"1\" class=\"dataframe\">\n",
       "  <thead>\n",
       "    <tr style=\"text-align: right;\">\n",
       "      <th></th>\n",
       "      <th>theme_id</th>\n",
       "      <th>year</th>\n",
       "      <th>week</th>\n",
       "      <th>total_post</th>\n",
       "    </tr>\n",
       "  </thead>\n",
       "  <tbody>\n",
       "    <tr>\n",
       "      <th>0</th>\n",
       "      <td>8</td>\n",
       "      <td>2015</td>\n",
       "      <td>24</td>\n",
       "      <td>412</td>\n",
       "    </tr>\n",
       "    <tr>\n",
       "      <th>1</th>\n",
       "      <td>8</td>\n",
       "      <td>2015</td>\n",
       "      <td>25</td>\n",
       "      <td>974</td>\n",
       "    </tr>\n",
       "    <tr>\n",
       "      <th>2</th>\n",
       "      <td>8</td>\n",
       "      <td>2015</td>\n",
       "      <td>26</td>\n",
       "      <td>1710</td>\n",
       "    </tr>\n",
       "    <tr>\n",
       "      <th>3</th>\n",
       "      <td>8</td>\n",
       "      <td>2015</td>\n",
       "      <td>27</td>\n",
       "      <td>1095</td>\n",
       "    </tr>\n",
       "    <tr>\n",
       "      <th>4</th>\n",
       "      <td>8</td>\n",
       "      <td>2015</td>\n",
       "      <td>28</td>\n",
       "      <td>899</td>\n",
       "    </tr>\n",
       "  </tbody>\n",
       "</table>\n",
       "</div>"
      ],
      "text/plain": [
       "   theme_id  year  week  total_post\n",
       "0         8  2015    24         412\n",
       "1         8  2015    25         974\n",
       "2         8  2015    26        1710\n",
       "3         8  2015    27        1095\n",
       "4         8  2015    28         899"
      ]
     },
     "execution_count": 30,
     "metadata": {},
     "output_type": "execute_result"
    }
   ],
   "source": [
    "# add 3 weeks to social media date \n",
    "media_filtered['published_date'] = media_filtered['published_date'] + datetime.timedelta(days=21)\n",
    "\n",
    "# generate year and week features with delayed dates \n",
    "media_filtered['week'] = media_filtered['published_date'].apply(lambda x : x.isocalendar()[1])\n",
    "media_filtered['year'] = media_filtered['published_date'].dt.year\n",
    "\n",
    "# groupby to obtain weekly granularity\n",
    "media_weekly = media_filtered.groupby(['theme_id','year','week'],as_index = False).agg(\n",
    "    total_post = ('total_post','sum') )\n",
    "\n",
    "media_weekly.head()"
   ]
  },
  {
   "attachments": {},
   "cell_type": "markdown",
   "id": "6d4d59f4-6fc5-45e8-b679-e4a73e30c5e8",
   "metadata": {},
   "source": [
    "### 2. Google search"
   ]
  },
  {
   "cell_type": "code",
   "execution_count": 31,
   "id": "ffb64c99-3c42-4b55-b96d-f01042681257",
   "metadata": {},
   "outputs": [
    {
     "data": {
      "text/html": [
       "<div>\n",
       "<style scoped>\n",
       "    .dataframe tbody tr th:only-of-type {\n",
       "        vertical-align: middle;\n",
       "    }\n",
       "\n",
       "    .dataframe tbody tr th {\n",
       "        vertical-align: top;\n",
       "    }\n",
       "\n",
       "    .dataframe thead th {\n",
       "        text-align: right;\n",
       "    }\n",
       "</style>\n",
       "<table border=\"1\" class=\"dataframe\">\n",
       "  <thead>\n",
       "    <tr style=\"text-align: right;\">\n",
       "      <th></th>\n",
       "      <th>claim_id</th>\n",
       "      <th>year</th>\n",
       "      <th>week</th>\n",
       "      <th>search_volume</th>\n",
       "    </tr>\n",
       "  </thead>\n",
       "  <tbody>\n",
       "    <tr>\n",
       "      <th>0</th>\n",
       "      <td>8</td>\n",
       "      <td>2015</td>\n",
       "      <td>22</td>\n",
       "      <td>29630</td>\n",
       "    </tr>\n",
       "    <tr>\n",
       "      <th>1</th>\n",
       "      <td>8</td>\n",
       "      <td>2015</td>\n",
       "      <td>23</td>\n",
       "      <td>41710</td>\n",
       "    </tr>\n",
       "    <tr>\n",
       "      <th>2</th>\n",
       "      <td>8</td>\n",
       "      <td>2015</td>\n",
       "      <td>24</td>\n",
       "      <td>55698</td>\n",
       "    </tr>\n",
       "    <tr>\n",
       "      <th>3</th>\n",
       "      <td>8</td>\n",
       "      <td>2015</td>\n",
       "      <td>25</td>\n",
       "      <td>43872</td>\n",
       "    </tr>\n",
       "    <tr>\n",
       "      <th>4</th>\n",
       "      <td>8</td>\n",
       "      <td>2015</td>\n",
       "      <td>26</td>\n",
       "      <td>56971</td>\n",
       "    </tr>\n",
       "  </tbody>\n",
       "</table>\n",
       "</div>"
      ],
      "text/plain": [
       "   claim_id  year  week  search_volume\n",
       "0         8  2015    22          29630\n",
       "1         8  2015    23          41710\n",
       "2         8  2015    24          55698\n",
       "3         8  2015    25          43872\n",
       "4         8  2015    26          56971"
      ]
     },
     "execution_count": 31,
     "metadata": {},
     "output_type": "execute_result"
    }
   ],
   "source": [
    "# add 1 week to google search dates\n",
    "g_search_filtered['date'] = g_search_filtered['date']  + datetime.timedelta(days=7)\n",
    "\n",
    "# generate year and week features with delayed dates \n",
    "g_search_filtered['week'] = g_search_filtered['date'].apply(lambda x : x.isocalendar()[1])\n",
    "g_search_filtered['year'] = g_search_filtered['date'].dt.year\n",
    "\n",
    "# groupby to obtain weekly granularity\n",
    "g_search_weekly = g_search_filtered.groupby(['claim_id','year','week'],as_index = False).agg(\n",
    "    search_volume = ('search_volume','sum') )\n",
    "\n",
    "g_search_weekly.head()"
   ]
  },
  {
   "attachments": {},
   "cell_type": "markdown",
   "id": "4b089aad-aced-4a62-8b4b-94e8ae081668",
   "metadata": {},
   "source": [
    "### 3. Sales\n",
    "\n",
    "This will need extra filtering as it is required to create a dependent variable by aggregating sales of our client (vendor A) "
   ]
  },
  {
   "cell_type": "code",
   "execution_count": 32,
   "id": "be9b97fc-d3c8-4d27-b4ad-29c1c79521ae",
   "metadata": {},
   "outputs": [
    {
     "data": {
      "text/html": [
       "<div>\n",
       "<style scoped>\n",
       "    .dataframe tbody tr th:only-of-type {\n",
       "        vertical-align: middle;\n",
       "    }\n",
       "\n",
       "    .dataframe tbody tr th {\n",
       "        vertical-align: top;\n",
       "    }\n",
       "\n",
       "    .dataframe thead th {\n",
       "        text-align: right;\n",
       "    }\n",
       "</style>\n",
       "<table border=\"1\" class=\"dataframe\">\n",
       "  <thead>\n",
       "    <tr style=\"text-align: right;\">\n",
       "      <th></th>\n",
       "      <th>calender_key</th>\n",
       "      <th>product_id</th>\n",
       "      <th>sales_dollars_value</th>\n",
       "      <th>sales_units_value</th>\n",
       "      <th>sales_lbs_value</th>\n",
       "      <th>claim_id</th>\n",
       "      <th>claim_name</th>\n",
       "      <th>vendor</th>\n",
       "    </tr>\n",
       "  </thead>\n",
       "  <tbody>\n",
       "    <tr>\n",
       "      <th>209</th>\n",
       "      <td>2016-01-09</td>\n",
       "      <td>11323</td>\n",
       "      <td>16668</td>\n",
       "      <td>516</td>\n",
       "      <td>8252</td>\n",
       "      <td>430</td>\n",
       "      <td>soy foods</td>\n",
       "      <td>A</td>\n",
       "    </tr>\n",
       "    <tr>\n",
       "      <th>210</th>\n",
       "      <td>2016-01-16</td>\n",
       "      <td>11323</td>\n",
       "      <td>16313</td>\n",
       "      <td>510</td>\n",
       "      <td>8160</td>\n",
       "      <td>430</td>\n",
       "      <td>soy foods</td>\n",
       "      <td>A</td>\n",
       "    </tr>\n",
       "    <tr>\n",
       "      <th>211</th>\n",
       "      <td>2016-01-23</td>\n",
       "      <td>11323</td>\n",
       "      <td>15627</td>\n",
       "      <td>488</td>\n",
       "      <td>7808</td>\n",
       "      <td>430</td>\n",
       "      <td>soy foods</td>\n",
       "      <td>A</td>\n",
       "    </tr>\n",
       "    <tr>\n",
       "      <th>212</th>\n",
       "      <td>2016-01-30</td>\n",
       "      <td>11323</td>\n",
       "      <td>16522</td>\n",
       "      <td>518</td>\n",
       "      <td>8288</td>\n",
       "      <td>430</td>\n",
       "      <td>soy foods</td>\n",
       "      <td>A</td>\n",
       "    </tr>\n",
       "    <tr>\n",
       "      <th>213</th>\n",
       "      <td>2016-02-06</td>\n",
       "      <td>11323</td>\n",
       "      <td>13164</td>\n",
       "      <td>349</td>\n",
       "      <td>5581</td>\n",
       "      <td>430</td>\n",
       "      <td>soy foods</td>\n",
       "      <td>A</td>\n",
       "    </tr>\n",
       "  </tbody>\n",
       "</table>\n",
       "</div>"
      ],
      "text/plain": [
       "    calender_key  product_id  sales_dollars_value  sales_units_value  \\\n",
       "209   2016-01-09       11323                16668                516   \n",
       "210   2016-01-16       11323                16313                510   \n",
       "211   2016-01-23       11323                15627                488   \n",
       "212   2016-01-30       11323                16522                518   \n",
       "213   2016-02-06       11323                13164                349   \n",
       "\n",
       "     sales_lbs_value  claim_id claim_name vendor  \n",
       "209             8252       430  soy foods      A  \n",
       "210             8160       430  soy foods      A  \n",
       "211             7808       430  soy foods      A  \n",
       "212             8288       430  soy foods      A  \n",
       "213             5581       430  soy foods      A  "
      ]
     },
     "execution_count": 32,
     "metadata": {},
     "output_type": "execute_result"
    }
   ],
   "source": [
    "# merge with product dataset to get the vendor column\n",
    "sales_filtered = pd.merge(sales_filtered, product, on = 'product_id',  how='inner', validate='m:1')\n",
    "\n",
    "# filter to obtain only the client data (vendor A)\n",
    "sales_filtered_A = sales_filtered[ sales_filtered['vendor'] == 'A']\n",
    "sales_filtered_A.head()"
   ]
  },
  {
   "cell_type": "code",
   "execution_count": 33,
   "id": "5cfeb609-2d95-45ba-8d2e-208ff1a420de",
   "metadata": {},
   "outputs": [],
   "source": [
    "# generate year and week features\n",
    "sales_filtered_A['week'] = sales_filtered_A['calender_key'].apply(lambda x : x.isocalendar()[1])\n",
    "sales_filtered_A['year'] = sales_filtered_A['calender_key'].dt.year"
   ]
  },
  {
   "cell_type": "code",
   "execution_count": 34,
   "id": "103fda96-c263-409a-912b-06a0d1ac1add",
   "metadata": {},
   "outputs": [
    {
     "data": {
      "text/html": [
       "<div>\n",
       "<style scoped>\n",
       "    .dataframe tbody tr th:only-of-type {\n",
       "        vertical-align: middle;\n",
       "    }\n",
       "\n",
       "    .dataframe tbody tr th {\n",
       "        vertical-align: top;\n",
       "    }\n",
       "\n",
       "    .dataframe thead th {\n",
       "        text-align: right;\n",
       "    }\n",
       "</style>\n",
       "<table border=\"1\" class=\"dataframe\">\n",
       "  <thead>\n",
       "    <tr style=\"text-align: right;\">\n",
       "      <th></th>\n",
       "      <th>claim_id</th>\n",
       "      <th>year</th>\n",
       "      <th>week</th>\n",
       "      <th>sales_dollars_value</th>\n",
       "      <th>sales_units_value</th>\n",
       "      <th>sales_lbs_value</th>\n",
       "    </tr>\n",
       "  </thead>\n",
       "  <tbody>\n",
       "    <tr>\n",
       "      <th>0</th>\n",
       "      <td>8</td>\n",
       "      <td>2016</td>\n",
       "      <td>1</td>\n",
       "      <td>8853853</td>\n",
       "      <td>1952575</td>\n",
       "      <td>2947044</td>\n",
       "    </tr>\n",
       "    <tr>\n",
       "      <th>1</th>\n",
       "      <td>8</td>\n",
       "      <td>2016</td>\n",
       "      <td>2</td>\n",
       "      <td>8705721</td>\n",
       "      <td>1921171</td>\n",
       "      <td>2901409</td>\n",
       "    </tr>\n",
       "    <tr>\n",
       "      <th>2</th>\n",
       "      <td>8</td>\n",
       "      <td>2016</td>\n",
       "      <td>3</td>\n",
       "      <td>8839233</td>\n",
       "      <td>1968251</td>\n",
       "      <td>2954048</td>\n",
       "    </tr>\n",
       "    <tr>\n",
       "      <th>3</th>\n",
       "      <td>8</td>\n",
       "      <td>2016</td>\n",
       "      <td>4</td>\n",
       "      <td>8872568</td>\n",
       "      <td>1974980</td>\n",
       "      <td>2941180</td>\n",
       "    </tr>\n",
       "    <tr>\n",
       "      <th>4</th>\n",
       "      <td>8</td>\n",
       "      <td>2016</td>\n",
       "      <td>5</td>\n",
       "      <td>9166248</td>\n",
       "      <td>2092314</td>\n",
       "      <td>3012709</td>\n",
       "    </tr>\n",
       "  </tbody>\n",
       "</table>\n",
       "</div>"
      ],
      "text/plain": [
       "   claim_id  year  week  sales_dollars_value  sales_units_value  \\\n",
       "0         8  2016     1              8853853            1952575   \n",
       "1         8  2016     2              8705721            1921171   \n",
       "2         8  2016     3              8839233            1968251   \n",
       "3         8  2016     4              8872568            1974980   \n",
       "4         8  2016     5              9166248            2092314   \n",
       "\n",
       "   sales_lbs_value  \n",
       "0          2947044  \n",
       "1          2901409  \n",
       "2          2954048  \n",
       "3          2941180  \n",
       "4          3012709  "
      ]
     },
     "execution_count": 34,
     "metadata": {},
     "output_type": "execute_result"
    }
   ],
   "source": [
    "# groupby to obtain weekly granularity\n",
    "sales_weekly = sales_filtered_A.groupby(['claim_id','year','week'],as_index = False).agg(sales_dollars_value = ('sales_dollars_value','sum'),\n",
    "                                                                                         sales_units_value = ('sales_units_value','sum'),\n",
    "                                                                                         sales_lbs_value = ('sales_lbs_value','sum') )\n",
    "\n",
    "sales_weekly.head()"
   ]
  },
  {
   "attachments": {},
   "cell_type": "markdown",
   "id": "60692b91-1648-46c4-80f6-b34e7699a27b",
   "metadata": {},
   "source": [
    "# Data Merging"
   ]
  },
  {
   "cell_type": "code",
   "execution_count": 35,
   "id": "7f68ce72-275e-4b70-9bcb-eeff2d80b3ed",
   "metadata": {},
   "outputs": [
    {
     "data": {
      "text/html": [
       "<div>\n",
       "<style scoped>\n",
       "    .dataframe tbody tr th:only-of-type {\n",
       "        vertical-align: middle;\n",
       "    }\n",
       "\n",
       "    .dataframe tbody tr th {\n",
       "        vertical-align: top;\n",
       "    }\n",
       "\n",
       "    .dataframe thead th {\n",
       "        text-align: right;\n",
       "    }\n",
       "</style>\n",
       "<table border=\"1\" class=\"dataframe\">\n",
       "  <thead>\n",
       "    <tr style=\"text-align: right;\">\n",
       "      <th></th>\n",
       "      <th>year</th>\n",
       "      <th>week</th>\n",
       "      <th>total_post</th>\n",
       "      <th>claim_id</th>\n",
       "      <th>search_volume</th>\n",
       "    </tr>\n",
       "  </thead>\n",
       "  <tbody>\n",
       "    <tr>\n",
       "      <th>0</th>\n",
       "      <td>2015</td>\n",
       "      <td>24</td>\n",
       "      <td>412</td>\n",
       "      <td>8</td>\n",
       "      <td>55698</td>\n",
       "    </tr>\n",
       "    <tr>\n",
       "      <th>1</th>\n",
       "      <td>2015</td>\n",
       "      <td>25</td>\n",
       "      <td>974</td>\n",
       "      <td>8</td>\n",
       "      <td>43872</td>\n",
       "    </tr>\n",
       "    <tr>\n",
       "      <th>2</th>\n",
       "      <td>2015</td>\n",
       "      <td>26</td>\n",
       "      <td>1710</td>\n",
       "      <td>8</td>\n",
       "      <td>56971</td>\n",
       "    </tr>\n",
       "    <tr>\n",
       "      <th>3</th>\n",
       "      <td>2015</td>\n",
       "      <td>27</td>\n",
       "      <td>1095</td>\n",
       "      <td>8</td>\n",
       "      <td>45272</td>\n",
       "    </tr>\n",
       "    <tr>\n",
       "      <th>4</th>\n",
       "      <td>2015</td>\n",
       "      <td>28</td>\n",
       "      <td>899</td>\n",
       "      <td>8</td>\n",
       "      <td>47687</td>\n",
       "    </tr>\n",
       "  </tbody>\n",
       "</table>\n",
       "</div>"
      ],
      "text/plain": [
       "   year  week  total_post  claim_id  search_volume\n",
       "0  2015    24         412         8          55698\n",
       "1  2015    25         974         8          43872\n",
       "2  2015    26        1710         8          56971\n",
       "3  2015    27        1095         8          45272\n",
       "4  2015    28         899         8          47687"
      ]
     },
     "execution_count": 35,
     "metadata": {},
     "output_type": "execute_result"
    }
   ],
   "source": [
    "# merging social media and google search data\n",
    "social_google = pd.merge(media_weekly, g_search_weekly, how='inner', \n",
    "                         left_on=['theme_id','year','week'],\n",
    "                         right_on=['claim_id','year','week'], validate='1:1')\n",
    "\n",
    "# remove extra column\n",
    "social_google.drop(['theme_id'], axis = 1, inplace = True)\n",
    "social_google.head()"
   ]
  },
  {
   "cell_type": "code",
   "execution_count": 36,
   "id": "62b9d7e7-0c19-48ae-9687-c048e19271cc",
   "metadata": {},
   "outputs": [],
   "source": [
    "social_google_sales = pd.merge(social_google,sales_weekly, how='inner', \n",
    "                               on=['claim_id','year','week'], validate='1:1')"
   ]
  },
  {
   "cell_type": "code",
   "execution_count": 37,
   "id": "fd78edf4-c8bf-4ac2-a106-f7965ae6dc47",
   "metadata": {},
   "outputs": [
    {
     "name": "stdout",
     "output_type": "stream",
     "text": [
      "Final Data after merging:\n"
     ]
    },
    {
     "data": {
      "text/html": [
       "<div>\n",
       "<style scoped>\n",
       "    .dataframe tbody tr th:only-of-type {\n",
       "        vertical-align: middle;\n",
       "    }\n",
       "\n",
       "    .dataframe tbody tr th {\n",
       "        vertical-align: top;\n",
       "    }\n",
       "\n",
       "    .dataframe thead th {\n",
       "        text-align: right;\n",
       "    }\n",
       "</style>\n",
       "<table border=\"1\" class=\"dataframe\">\n",
       "  <thead>\n",
       "    <tr style=\"text-align: right;\">\n",
       "      <th></th>\n",
       "      <th>year</th>\n",
       "      <th>week</th>\n",
       "      <th>total_post</th>\n",
       "      <th>claim_id</th>\n",
       "      <th>search_volume</th>\n",
       "      <th>sales_dollars_value</th>\n",
       "      <th>sales_units_value</th>\n",
       "      <th>sales_lbs_value</th>\n",
       "    </tr>\n",
       "  </thead>\n",
       "  <tbody>\n",
       "    <tr>\n",
       "      <th>0</th>\n",
       "      <td>2016</td>\n",
       "      <td>1</td>\n",
       "      <td>983</td>\n",
       "      <td>8</td>\n",
       "      <td>51883</td>\n",
       "      <td>8853853</td>\n",
       "      <td>1952575</td>\n",
       "      <td>2947044</td>\n",
       "    </tr>\n",
       "    <tr>\n",
       "      <th>1</th>\n",
       "      <td>2016</td>\n",
       "      <td>2</td>\n",
       "      <td>726</td>\n",
       "      <td>8</td>\n",
       "      <td>51122</td>\n",
       "      <td>8705721</td>\n",
       "      <td>1921171</td>\n",
       "      <td>2901409</td>\n",
       "    </tr>\n",
       "    <tr>\n",
       "      <th>2</th>\n",
       "      <td>2016</td>\n",
       "      <td>3</td>\n",
       "      <td>873</td>\n",
       "      <td>8</td>\n",
       "      <td>46415</td>\n",
       "      <td>8839233</td>\n",
       "      <td>1968251</td>\n",
       "      <td>2954048</td>\n",
       "    </tr>\n",
       "    <tr>\n",
       "      <th>3</th>\n",
       "      <td>2016</td>\n",
       "      <td>4</td>\n",
       "      <td>1123</td>\n",
       "      <td>8</td>\n",
       "      <td>53664</td>\n",
       "      <td>8872568</td>\n",
       "      <td>1974980</td>\n",
       "      <td>2941180</td>\n",
       "    </tr>\n",
       "    <tr>\n",
       "      <th>4</th>\n",
       "      <td>2016</td>\n",
       "      <td>5</td>\n",
       "      <td>1509</td>\n",
       "      <td>8</td>\n",
       "      <td>47560</td>\n",
       "      <td>9166248</td>\n",
       "      <td>2092314</td>\n",
       "      <td>3012709</td>\n",
       "    </tr>\n",
       "  </tbody>\n",
       "</table>\n",
       "</div>"
      ],
      "text/plain": [
       "   year  week  total_post  claim_id  search_volume  sales_dollars_value  \\\n",
       "0  2016     1         983         8          51883              8853853   \n",
       "1  2016     2         726         8          51122              8705721   \n",
       "2  2016     3         873         8          46415              8839233   \n",
       "3  2016     4        1123         8          53664              8872568   \n",
       "4  2016     5        1509         8          47560              9166248   \n",
       "\n",
       "   sales_units_value  sales_lbs_value  \n",
       "0            1952575          2947044  \n",
       "1            1921171          2901409  \n",
       "2            1968251          2954048  \n",
       "3            1974980          2941180  \n",
       "4            2092314          3012709  "
      ]
     },
     "execution_count": 37,
     "metadata": {},
     "output_type": "execute_result"
    }
   ],
   "source": [
    "print('Final Data after merging:')\n",
    "social_google_sales.head()"
   ]
  },
  {
   "attachments": {},
   "cell_type": "markdown",
   "id": "e9f8f014-f7cf-4ca4-9753-c304f121a923",
   "metadata": {},
   "source": [
    "# Feature Engineering"
   ]
  },
  {
   "cell_type": "code",
   "execution_count": 38,
   "id": "0f3c854a-9c11-4192-b73a-9a9438afe780",
   "metadata": {},
   "outputs": [
    {
     "data": {
      "text/html": [
       "<div>\n",
       "<style scoped>\n",
       "    .dataframe tbody tr th:only-of-type {\n",
       "        vertical-align: middle;\n",
       "    }\n",
       "\n",
       "    .dataframe tbody tr th {\n",
       "        vertical-align: top;\n",
       "    }\n",
       "\n",
       "    .dataframe thead th {\n",
       "        text-align: right;\n",
       "    }\n",
       "</style>\n",
       "<table border=\"1\" class=\"dataframe\">\n",
       "  <thead>\n",
       "    <tr style=\"text-align: right;\">\n",
       "      <th></th>\n",
       "      <th>year</th>\n",
       "      <th>week</th>\n",
       "      <th>total_post</th>\n",
       "      <th>claim_id</th>\n",
       "      <th>search_volume</th>\n",
       "      <th>sales_dollars_value</th>\n",
       "      <th>weight_per_unit</th>\n",
       "    </tr>\n",
       "  </thead>\n",
       "  <tbody>\n",
       "    <tr>\n",
       "      <th>0</th>\n",
       "      <td>2016</td>\n",
       "      <td>1</td>\n",
       "      <td>983</td>\n",
       "      <td>8</td>\n",
       "      <td>51883</td>\n",
       "      <td>8853853</td>\n",
       "      <td>1.51</td>\n",
       "    </tr>\n",
       "    <tr>\n",
       "      <th>1</th>\n",
       "      <td>2016</td>\n",
       "      <td>2</td>\n",
       "      <td>726</td>\n",
       "      <td>8</td>\n",
       "      <td>51122</td>\n",
       "      <td>8705721</td>\n",
       "      <td>1.51</td>\n",
       "    </tr>\n",
       "    <tr>\n",
       "      <th>2</th>\n",
       "      <td>2016</td>\n",
       "      <td>3</td>\n",
       "      <td>873</td>\n",
       "      <td>8</td>\n",
       "      <td>46415</td>\n",
       "      <td>8839233</td>\n",
       "      <td>1.50</td>\n",
       "    </tr>\n",
       "    <tr>\n",
       "      <th>3</th>\n",
       "      <td>2016</td>\n",
       "      <td>4</td>\n",
       "      <td>1123</td>\n",
       "      <td>8</td>\n",
       "      <td>53664</td>\n",
       "      <td>8872568</td>\n",
       "      <td>1.49</td>\n",
       "    </tr>\n",
       "    <tr>\n",
       "      <th>4</th>\n",
       "      <td>2016</td>\n",
       "      <td>5</td>\n",
       "      <td>1509</td>\n",
       "      <td>8</td>\n",
       "      <td>47560</td>\n",
       "      <td>9166248</td>\n",
       "      <td>1.44</td>\n",
       "    </tr>\n",
       "  </tbody>\n",
       "</table>\n",
       "</div>"
      ],
      "text/plain": [
       "   year  week  total_post  claim_id  search_volume  sales_dollars_value  \\\n",
       "0  2016     1         983         8          51883              8853853   \n",
       "1  2016     2         726         8          51122              8705721   \n",
       "2  2016     3         873         8          46415              8839233   \n",
       "3  2016     4        1123         8          53664              8872568   \n",
       "4  2016     5        1509         8          47560              9166248   \n",
       "\n",
       "   weight_per_unit  \n",
       "0             1.51  \n",
       "1             1.51  \n",
       "2             1.50  \n",
       "3             1.49  \n",
       "4             1.44  "
      ]
     },
     "execution_count": 38,
     "metadata": {},
     "output_type": "execute_result"
    }
   ],
   "source": [
    "def weight_per_unit(df):\n",
    "    df['weight_per_unit'] = df['sales_lbs_value'] / df['sales_units_value']\n",
    "    df['weight_per_unit'] = df['weight_per_unit'].round(2)\n",
    "    df.drop(['sales_units_value', 'sales_lbs_value'], axis = 1, inplace = True)\n",
    "    return df \n",
    "\n",
    "weight_per_unit(social_google_sales).head()"
   ]
  },
  {
   "attachments": {},
   "cell_type": "markdown",
   "id": "3fa1a4d2-d4ef-471f-aaa5-abca5f440f5c",
   "metadata": {},
   "source": [
    "# Generate Train and Test sets"
   ]
  },
  {
   "cell_type": "code",
   "execution_count": 39,
   "id": "31091c6e-e2c0-4164-8c52-b2d9df98998f",
   "metadata": {},
   "outputs": [],
   "source": [
    "def binned_selling_price(df):\n",
    "    \"\"\"Bin the selling price column using quantiles.\"\"\"\n",
    "    return pd.qcut(df[\"sales_dollars_value\"], q=10)"
   ]
  },
  {
   "cell_type": "code",
   "execution_count": 40,
   "id": "f67ea3b7-f5f5-4527-83d5-54892caeaa06",
   "metadata": {},
   "outputs": [],
   "source": [
    "from sklearn.model_selection import StratifiedShuffleSplit\n",
    "from ta_lib.core.api import custom_train_test_split  # helper function to customize splitting\n",
    "#from production.scripts import *\n",
    "\n",
    "splitter = StratifiedShuffleSplit(n_splits=1, test_size=0.2, random_state=context.random_seed)\n",
    "train, test= custom_train_test_split(social_google_sales, splitter, by=binned_selling_price)"
   ]
  },
  {
   "cell_type": "code",
   "execution_count": 41,
   "id": "0ed497a2-9efa-4d6a-ab8f-77e6f10c5562",
   "metadata": {},
   "outputs": [],
   "source": [
    "target_col = \"sales_dollars_value\"\n",
    "\n",
    "train_X, train_y = (\n",
    "    train\n",
    "    \n",
    "    # split the dataset to train and test\n",
    "    .get_features_targets(target_column_names=target_col)\n",
    ")\n",
    "save_dataset(context, train_X, 'train/features')\n",
    "save_dataset(context, train_y, 'train/target')\n",
    "\n",
    "\n",
    "test_X, test_y = (\n",
    "    test\n",
    "    \n",
    "    # split the dataset to train and test\n",
    "    .get_features_targets(target_column_names=target_col)\n",
    ")\n",
    "save_dataset(context, test_X, 'test/features')\n",
    "save_dataset(context, test_y, 'test/target')"
   ]
  },
  {
   "cell_type": "code",
   "execution_count": null,
   "id": "bb21301d-7669-49ee-b508-fed178509674",
   "metadata": {},
   "outputs": [],
   "source": []
  }
 ],
 "metadata": {
  "kernelspec": {
   "display_name": "Python 3 (ipykernel)",
   "language": "python",
   "name": "python3"
  },
  "language_info": {
   "codemirror_mode": {
    "name": "ipython",
    "version": 3
   },
   "file_extension": ".py",
   "mimetype": "text/x-python",
   "name": "python",
   "nbconvert_exporter": "python",
   "pygments_lexer": "ipython3",
   "version": "3.9.17"
  }
 },
 "nbformat": 4,
 "nbformat_minor": 5
}
