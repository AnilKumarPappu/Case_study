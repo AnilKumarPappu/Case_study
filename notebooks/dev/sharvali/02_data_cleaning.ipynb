{
 "cells": [
  {
   "cell_type": "markdown",
   "id": "27f7fddf-c1a7-48be-a69d-77d558fd7971",
   "metadata": {},
   "source": [
    "# Imports"
   ]
  },
  {
   "cell_type": "code",
   "execution_count": 32,
   "id": "d14fa11f-0731-4723-8f1e-d8efbd7f953d",
   "metadata": {},
   "outputs": [],
   "source": [
    "from pprint import pprint\n",
    "import os\n",
    "import os.path as op\n",
    "import shutil\n",
    "\n",
    "# standard third party imports\n",
    "import numpy as np\n",
    "import pandas as pd\n",
    "from sklearn.model_selection import train_test_split\n",
    "pd.options.mode.use_inf_as_na = True"
   ]
  },
  {
   "cell_type": "code",
   "execution_count": 33,
   "id": "da079817-16a8-4e64-8190-ec2d82a3ae0e",
   "metadata": {},
   "outputs": [
    {
     "name": "stdout",
     "output_type": "stream",
     "text": [
      "The autoreload extension is already loaded. To reload it, use:\n",
      "  %reload_ext autoreload\n"
     ]
    }
   ],
   "source": [
    "%load_ext autoreload\n",
    "%autoreload 2"
   ]
  },
  {
   "cell_type": "code",
   "execution_count": 34,
   "id": "3aa31b9c-f02d-4aab-a7d6-97a6cecf3d89",
   "metadata": {},
   "outputs": [],
   "source": [
    "import warnings\n",
    "\n",
    "warnings.filterwarnings('ignore', message=\"The default value of regex will change from True to False in a future version.\", \n",
    "                        category=FutureWarning)"
   ]
  },
  {
   "cell_type": "code",
   "execution_count": 35,
   "id": "d2a7a895-a0ee-4c09-bcbd-dbb8daeec65f",
   "metadata": {
    "scrolled": true
   },
   "outputs": [],
   "source": [
    "# standard code-template imports\n",
    "from ta_lib.core.api import (\n",
    "    create_context, get_dataframe, get_feature_names_from_column_transformer, get_package_path,\n",
    "    display_as_tabs, string_cleaning, merge_info, initialize_environment,\n",
    "    list_datasets, load_dataset, save_dataset\n",
    ")\n",
    "import ta_lib.eda.api as eda"
   ]
  },
  {
   "cell_type": "code",
   "execution_count": 36,
   "id": "5d25f3ca-e254-4115-89b0-d531d5e9734e",
   "metadata": {},
   "outputs": [],
   "source": [
    "initialize_environment(debug=False, hide_warnings=True)"
   ]
  },
  {
   "cell_type": "markdown",
   "id": "9e051f3b-96f0-4ed0-bf18-bbb001380adf",
   "metadata": {},
   "source": [
    "# Initialisation"
   ]
  },
  {
   "cell_type": "code",
   "execution_count": 37,
   "id": "a56b6e3c-1ea9-4478-a7bb-5839c92ed269",
   "metadata": {},
   "outputs": [
    {
     "name": "stdout",
     "output_type": "stream",
     "text": [
      "['/raw/google_search_data',\n",
      " '/raw/product_manufacturer_list',\n",
      " '/raw/sales_data',\n",
      " '/raw/social_media_data',\n",
      " '/raw/theme_list',\n",
      " '/raw/theme_product_list',\n",
      " '/cleaned/google_search_data',\n",
      " '/cleaned/product_manufacturer_list',\n",
      " '/cleaned/sales_data',\n",
      " '/cleaned/social_media_data',\n",
      " '/cleaned/theme_list',\n",
      " '/cleaned/theme_product_list']\n"
     ]
    }
   ],
   "source": [
    "config_path = op.join('conf', 'config.yml')\n",
    "context = create_context(config_path)\n",
    "pprint(list_datasets(context))"
   ]
  },
  {
   "cell_type": "code",
   "execution_count": 38,
   "id": "40d6ec4b-1a34-4aa6-b79d-87e583e5d23d",
   "metadata": {},
   "outputs": [],
   "source": [
    "g_search = load_dataset(context, 'raw/google_search_data')\n",
    "product = load_dataset(context, 'raw/product_manufacturer_list')\n",
    "sales = load_dataset(context, 'raw/sales_data')\n",
    "media = load_dataset(context, 'raw/social_media_data')\n",
    "themes = load_dataset(context, 'raw/theme_list')\n",
    "theme_product = load_dataset(context, 'raw/theme_product_list')"
   ]
  },
  {
   "cell_type": "markdown",
   "id": "ab10119e-a689-4f9e-be2f-898f0db25bfc",
   "metadata": {},
   "source": [
    "# Data Cleaning"
   ]
  },
  {
   "cell_type": "markdown",
   "id": "32ff6c74-1d7b-49b3-816b-3840265f1d41",
   "metadata": {},
   "source": [
    "### Google search\n",
    "\n",
    "From discovery, it is known that:\n",
    "* key columns: None\n",
    "* integer columns: searchVolume, Claim_ID, week_number,yyear_ne'\n",
    "* datetime columns: date"
   ]
  },
  {
   "cell_type": "code",
   "execution_count": 39,
   "id": "9d3ac9e4-2597-45de-8599-a29f3ffa94ca",
   "metadata": {},
   "outputs": [
    {
     "data": {
      "text/html": [
       "<div>\n",
       "<style scoped>\n",
       "    .dataframe tbody tr th:only-of-type {\n",
       "        vertical-align: middle;\n",
       "    }\n",
       "\n",
       "    .dataframe tbody tr th {\n",
       "        vertical-align: top;\n",
       "    }\n",
       "\n",
       "    .dataframe thead th {\n",
       "        text-align: right;\n",
       "    }\n",
       "</style>\n",
       "<table border=\"1\" class=\"dataframe\">\n",
       "  <thead>\n",
       "    <tr style=\"text-align: right;\">\n",
       "      <th></th>\n",
       "      <th>date</th>\n",
       "      <th>platform</th>\n",
       "      <th>searchVolume</th>\n",
       "      <th>Claim_ID</th>\n",
       "      <th>week_number</th>\n",
       "      <th>year_new</th>\n",
       "    </tr>\n",
       "  </thead>\n",
       "  <tbody>\n",
       "    <tr>\n",
       "      <th>0</th>\n",
       "      <td>05-01-2014</td>\n",
       "      <td>google</td>\n",
       "      <td>349</td>\n",
       "      <td>916</td>\n",
       "      <td>1</td>\n",
       "      <td>2014</td>\n",
       "    </tr>\n",
       "    <tr>\n",
       "      <th>1</th>\n",
       "      <td>06-01-2014</td>\n",
       "      <td>google</td>\n",
       "      <td>349</td>\n",
       "      <td>916</td>\n",
       "      <td>2</td>\n",
       "      <td>2014</td>\n",
       "    </tr>\n",
       "    <tr>\n",
       "      <th>2</th>\n",
       "      <td>07-01-2014</td>\n",
       "      <td>google</td>\n",
       "      <td>697</td>\n",
       "      <td>916</td>\n",
       "      <td>2</td>\n",
       "      <td>2014</td>\n",
       "    </tr>\n",
       "    <tr>\n",
       "      <th>3</th>\n",
       "      <td>10-01-2014</td>\n",
       "      <td>google</td>\n",
       "      <td>349</td>\n",
       "      <td>916</td>\n",
       "      <td>2</td>\n",
       "      <td>2014</td>\n",
       "    </tr>\n",
       "    <tr>\n",
       "      <th>4</th>\n",
       "      <td>20-01-2014</td>\n",
       "      <td>google</td>\n",
       "      <td>697</td>\n",
       "      <td>916</td>\n",
       "      <td>4</td>\n",
       "      <td>2014</td>\n",
       "    </tr>\n",
       "  </tbody>\n",
       "</table>\n",
       "</div>"
      ],
      "text/plain": [
       "         date platform  searchVolume  Claim_ID  week_number  year_new\n",
       "0  05-01-2014   google           349       916            1      2014\n",
       "1  06-01-2014   google           349       916            2      2014\n",
       "2  07-01-2014   google           697       916            2      2014\n",
       "3  10-01-2014   google           349       916            2      2014\n",
       "4  20-01-2014   google           697       916            4      2014"
      ]
     },
     "execution_count": 39,
     "metadata": {},
     "output_type": "execute_result"
    }
   ],
   "source": [
    "g_search.head()"
   ]
  },
  {
   "cell_type": "code",
   "execution_count": 40,
   "id": "46db057e-3cd2-40af-baff-9c4a018cd38e",
   "metadata": {},
   "outputs": [
    {
     "name": "stdout",
     "output_type": "stream",
     "text": [
      "<class 'pandas.core.frame.DataFrame'>\n",
      "RangeIndex: 181565 entries, 0 to 181564\n",
      "Data columns (total 6 columns):\n",
      " #   Column        Non-Null Count   Dtype \n",
      "---  ------        --------------   ----- \n",
      " 0   date          181565 non-null  object\n",
      " 1   platform      181565 non-null  object\n",
      " 2   searchVolume  181565 non-null  int64 \n",
      " 3   Claim_ID      181565 non-null  int64 \n",
      " 4   week_number   181565 non-null  int64 \n",
      " 5   year_new      181565 non-null  int64 \n",
      "dtypes: int64(4), object(2)\n",
      "memory usage: 8.3+ MB\n"
     ]
    }
   ],
   "source": [
    "g_search.info()"
   ]
  },
  {
   "cell_type": "code",
   "execution_count": 41,
   "id": "d7ec1838-7e1c-4e3e-b5a9-d78b1c519963",
   "metadata": {},
   "outputs": [
    {
     "data": {
      "text/html": [
       "<div>\n",
       "<style scoped>\n",
       "    .dataframe tbody tr th:only-of-type {\n",
       "        vertical-align: middle;\n",
       "    }\n",
       "\n",
       "    .dataframe tbody tr th {\n",
       "        vertical-align: top;\n",
       "    }\n",
       "\n",
       "    .dataframe thead th {\n",
       "        text-align: right;\n",
       "    }\n",
       "</style>\n",
       "<table border=\"1\" class=\"dataframe\">\n",
       "  <thead>\n",
       "    <tr style=\"text-align: right;\">\n",
       "      <th></th>\n",
       "      <th>date</th>\n",
       "      <th>platform</th>\n",
       "      <th>search_volume</th>\n",
       "      <th>claim_id</th>\n",
       "      <th>week_number</th>\n",
       "      <th>year_new</th>\n",
       "    </tr>\n",
       "  </thead>\n",
       "  <tbody>\n",
       "    <tr>\n",
       "      <th>0</th>\n",
       "      <td>2014-01-05</td>\n",
       "      <td>google</td>\n",
       "      <td>349</td>\n",
       "      <td>916</td>\n",
       "      <td>1</td>\n",
       "      <td>2014</td>\n",
       "    </tr>\n",
       "    <tr>\n",
       "      <th>1</th>\n",
       "      <td>2014-01-06</td>\n",
       "      <td>google</td>\n",
       "      <td>349</td>\n",
       "      <td>916</td>\n",
       "      <td>2</td>\n",
       "      <td>2014</td>\n",
       "    </tr>\n",
       "    <tr>\n",
       "      <th>2</th>\n",
       "      <td>2014-01-07</td>\n",
       "      <td>google</td>\n",
       "      <td>697</td>\n",
       "      <td>916</td>\n",
       "      <td>2</td>\n",
       "      <td>2014</td>\n",
       "    </tr>\n",
       "    <tr>\n",
       "      <th>3</th>\n",
       "      <td>2014-01-10</td>\n",
       "      <td>google</td>\n",
       "      <td>349</td>\n",
       "      <td>916</td>\n",
       "      <td>2</td>\n",
       "      <td>2014</td>\n",
       "    </tr>\n",
       "    <tr>\n",
       "      <th>4</th>\n",
       "      <td>2014-01-20</td>\n",
       "      <td>google</td>\n",
       "      <td>697</td>\n",
       "      <td>916</td>\n",
       "      <td>4</td>\n",
       "      <td>2014</td>\n",
       "    </tr>\n",
       "  </tbody>\n",
       "</table>\n",
       "</div>"
      ],
      "text/plain": [
       "        date platform  search_volume  claim_id  week_number  year_new\n",
       "0 2014-01-05   google            349       916            1      2014\n",
       "1 2014-01-06   google            349       916            2      2014\n",
       "2 2014-01-07   google            697       916            2      2014\n",
       "3 2014-01-10   google            349       916            2      2014\n",
       "4 2014-01-20   google            697       916            4      2014"
      ]
     },
     "execution_count": 41,
     "metadata": {},
     "output_type": "execute_result"
    }
   ],
   "source": [
    "# column names after cleaning\n",
    "\n",
    "str_cols = list(\n",
    "    set(g_search.select_dtypes('object').columns.to_list()) \n",
    "    - set(['searchVolume', 'Claim_ID', 'week_number', 'year_new', 'date'])\n",
    ")\n",
    "g_search_clean = (\n",
    "    g_search\n",
    "    \n",
    "    .copy()\n",
    "    #.sample(frac=1, resample=False)\n",
    "\n",
    "    # set dtypes\n",
    "    .change_type(['searchVolume', 'Claim_ID', 'week_number', 'year_new'], np.int64)\n",
    "    \n",
    "    # clean string columns (NOTE: only after setting datetime)\n",
    "    .transform_columns(str_cols, string_cleaning, elementwise=False)\n",
    "\n",
    "    # clean column names                                                                                                                                   \n",
    "    .clean_names(case_type='snake')\n",
    ")\n",
    "g_search_clean['date'] = pd.to_datetime(g_search_clean[\"date\"], format='%d-%m-%Y').dt.strftime('%Y-%m-%d')\n",
    "g_search_clean['date'] = pd.to_datetime(g_search_clean['date'])\n",
    "g_search_clean.head()\n"
   ]
  },
  {
   "cell_type": "code",
   "execution_count": 42,
   "id": "791c00d7-f663-47ed-b222-be00145478d7",
   "metadata": {},
   "outputs": [],
   "source": [
    "g_search_clean = g_search_clean.groupby(['date','claim_id','platform','year_new','week_number'], as_index = False)['search_volume'].sum()"
   ]
  },
  {
   "cell_type": "code",
   "execution_count": 43,
   "id": "81b81469-3e8a-431c-9af8-562764a41755",
   "metadata": {},
   "outputs": [],
   "source": [
    "save_dataset(context, g_search_clean, 'cleaned/google_search_data')"
   ]
  },
  {
   "cell_type": "markdown",
   "id": "77b6d23d-983a-4321-b8ae-e31b69245162",
   "metadata": {},
   "source": [
    "### Product Manufacturer list\n",
    "\n",
    "From discovery, it is known that:\n",
    "* key columns: PRODUCT_ID\n",
    "* integer columns: PRODUCT_ID\n",
    "* object columns: Vendor"
   ]
  },
  {
   "cell_type": "code",
   "execution_count": 45,
   "id": "6b09f0c6-95d8-4a2b-aaa9-a7a7d5a851a0",
   "metadata": {},
   "outputs": [
    {
     "name": "stdout",
     "output_type": "stream",
     "text": [
      "<class 'pandas.core.frame.DataFrame'>\n",
      "RangeIndex: 67175 entries, 0 to 67174\n",
      "Data columns (total 7 columns):\n",
      " #   Column      Non-Null Count  Dtype  \n",
      "---  ------      --------------  -----  \n",
      " 0   PRODUCT_ID  67175 non-null  int64  \n",
      " 1   Vendor      67175 non-null  object \n",
      " 2   Unnamed: 2  0 non-null      float64\n",
      " 3   Unnamed: 3  0 non-null      float64\n",
      " 4   Unnamed: 4  0 non-null      float64\n",
      " 5   Unnamed: 5  0 non-null      float64\n",
      " 6   Unnamed: 6  0 non-null      float64\n",
      "dtypes: float64(5), int64(1), object(1)\n",
      "memory usage: 3.6+ MB\n"
     ]
    }
   ],
   "source": [
    "product.info()"
   ]
  },
  {
   "cell_type": "code",
   "execution_count": 46,
   "id": "d401ebe1-b16a-4938-a0a3-7f45a260d486",
   "metadata": {},
   "outputs": [
    {
     "data": {
      "text/html": [
       "<div>\n",
       "<style scoped>\n",
       "    .dataframe tbody tr th:only-of-type {\n",
       "        vertical-align: middle;\n",
       "    }\n",
       "\n",
       "    .dataframe tbody tr th {\n",
       "        vertical-align: top;\n",
       "    }\n",
       "\n",
       "    .dataframe thead th {\n",
       "        text-align: right;\n",
       "    }\n",
       "</style>\n",
       "<table border=\"1\" class=\"dataframe\">\n",
       "  <thead>\n",
       "    <tr style=\"text-align: right;\">\n",
       "      <th></th>\n",
       "      <th>PRODUCT_ID</th>\n",
       "      <th>Vendor</th>\n",
       "      <th>Unnamed: 2</th>\n",
       "      <th>Unnamed: 3</th>\n",
       "      <th>Unnamed: 4</th>\n",
       "      <th>Unnamed: 5</th>\n",
       "      <th>Unnamed: 6</th>\n",
       "    </tr>\n",
       "  </thead>\n",
       "  <tbody>\n",
       "    <tr>\n",
       "      <th>0</th>\n",
       "      <td>1</td>\n",
       "      <td>Others</td>\n",
       "      <td>NaN</td>\n",
       "      <td>NaN</td>\n",
       "      <td>NaN</td>\n",
       "      <td>NaN</td>\n",
       "      <td>NaN</td>\n",
       "    </tr>\n",
       "    <tr>\n",
       "      <th>1</th>\n",
       "      <td>2</td>\n",
       "      <td>Others</td>\n",
       "      <td>NaN</td>\n",
       "      <td>NaN</td>\n",
       "      <td>NaN</td>\n",
       "      <td>NaN</td>\n",
       "      <td>NaN</td>\n",
       "    </tr>\n",
       "    <tr>\n",
       "      <th>2</th>\n",
       "      <td>3</td>\n",
       "      <td>Others</td>\n",
       "      <td>NaN</td>\n",
       "      <td>NaN</td>\n",
       "      <td>NaN</td>\n",
       "      <td>NaN</td>\n",
       "      <td>NaN</td>\n",
       "    </tr>\n",
       "    <tr>\n",
       "      <th>3</th>\n",
       "      <td>4</td>\n",
       "      <td>Others</td>\n",
       "      <td>NaN</td>\n",
       "      <td>NaN</td>\n",
       "      <td>NaN</td>\n",
       "      <td>NaN</td>\n",
       "      <td>NaN</td>\n",
       "    </tr>\n",
       "    <tr>\n",
       "      <th>4</th>\n",
       "      <td>5</td>\n",
       "      <td>Others</td>\n",
       "      <td>NaN</td>\n",
       "      <td>NaN</td>\n",
       "      <td>NaN</td>\n",
       "      <td>NaN</td>\n",
       "      <td>NaN</td>\n",
       "    </tr>\n",
       "  </tbody>\n",
       "</table>\n",
       "</div>"
      ],
      "text/plain": [
       "   PRODUCT_ID  Vendor  Unnamed: 2  Unnamed: 3  Unnamed: 4  Unnamed: 5  \\\n",
       "0           1  Others         NaN         NaN         NaN         NaN   \n",
       "1           2  Others         NaN         NaN         NaN         NaN   \n",
       "2           3  Others         NaN         NaN         NaN         NaN   \n",
       "3           4  Others         NaN         NaN         NaN         NaN   \n",
       "4           5  Others         NaN         NaN         NaN         NaN   \n",
       "\n",
       "   Unnamed: 6  \n",
       "0         NaN  \n",
       "1         NaN  \n",
       "2         NaN  \n",
       "3         NaN  \n",
       "4         NaN  "
      ]
     },
     "execution_count": 46,
     "metadata": {},
     "output_type": "execute_result"
    }
   ],
   "source": [
    "product.head()"
   ]
  },
  {
   "cell_type": "code",
   "execution_count": 47,
   "id": "b0795e7b-a28f-4012-af7f-42ae5bf637f7",
   "metadata": {},
   "outputs": [
    {
     "data": {
      "text/html": [
       "<div>\n",
       "<style scoped>\n",
       "    .dataframe tbody tr th:only-of-type {\n",
       "        vertical-align: middle;\n",
       "    }\n",
       "\n",
       "    .dataframe tbody tr th {\n",
       "        vertical-align: top;\n",
       "    }\n",
       "\n",
       "    .dataframe thead th {\n",
       "        text-align: right;\n",
       "    }\n",
       "</style>\n",
       "<table border=\"1\" class=\"dataframe\">\n",
       "  <thead>\n",
       "    <tr style=\"text-align: right;\">\n",
       "      <th></th>\n",
       "      <th>0</th>\n",
       "      <th>1</th>\n",
       "      <th>2</th>\n",
       "      <th>3</th>\n",
       "      <th>4</th>\n",
       "    </tr>\n",
       "  </thead>\n",
       "  <tbody>\n",
       "    <tr>\n",
       "      <th>product_id</th>\n",
       "      <td>1</td>\n",
       "      <td>2</td>\n",
       "      <td>3</td>\n",
       "      <td>4</td>\n",
       "      <td>5</td>\n",
       "    </tr>\n",
       "    <tr>\n",
       "      <th>vendor</th>\n",
       "      <td>Others</td>\n",
       "      <td>Others</td>\n",
       "      <td>Others</td>\n",
       "      <td>Others</td>\n",
       "      <td>Others</td>\n",
       "    </tr>\n",
       "  </tbody>\n",
       "</table>\n",
       "</div>"
      ],
      "text/plain": [
       "                 0       1       2       3       4\n",
       "product_id       1       2       3       4       5\n",
       "vendor      Others  Others  Others  Others  Others"
      ]
     },
     "execution_count": 47,
     "metadata": {},
     "output_type": "execute_result"
    }
   ],
   "source": [
    "# column names after cleaning\n",
    "\n",
    "str_cols = list(\n",
    "    set(product.select_dtypes('object').columns.to_list())\n",
    ")\n",
    "product_clean = (\n",
    "    product\n",
    "    \n",
    "    .copy()\n",
    "    #.sample(frac=1, resample=False)\n",
    "\n",
    "    # set dtypes : nothing to do here\n",
    "    .passthrough()\n",
    "    \n",
    "    # drop unnecessary columns\n",
    "    .drop(['Unnamed: 2', 'Unnamed: 3', 'Unnamed: 4', 'Unnamed: 5', 'Unnamed: 6'], axis = 1)\n",
    "\n",
    "    # set dtypes\n",
    "    .change_type(['PRODUCT_ID'], np.int64)\n",
    "    \n",
    "    # clean string columns (NOTE: only after setting datetime)\n",
    "    .transform_columns(str_cols, string_cleaning, elementwise=False)\n",
    "    .replace({'': np.NaN})\n",
    "\n",
    "    # ensure that the key column does not have duplicate records\n",
    "    .remove_duplicate_rows(col_names=['PRODUCT_ID'], keep_first=True)\n",
    "\n",
    "    # clean column names                                                                                                                                   \n",
    "    .clean_names(case_type='snake')\n",
    ")\n",
    "product_clean.head().T\n"
   ]
  },
  {
   "cell_type": "code",
   "execution_count": 48,
   "id": "23f6f7a4-645d-4dfd-b727-86da0be731b6",
   "metadata": {},
   "outputs": [],
   "source": [
    "save_dataset(context, product_clean, 'cleaned/product_manufacturer_list')"
   ]
  },
  {
   "cell_type": "markdown",
   "id": "8a72a288-5e8c-4d3d-8a9b-2101e91be089",
   "metadata": {},
   "source": [
    "### Sales\n",
    "\n",
    "From discovery, it is known that:\n",
    "* key columns: None\n",
    "* integer columns: 'product_id', 'sales_dollars_value',  'sales_units_value', 'sales_lbs_value\n",
    "* datet columns: system_calendar_key_Nr"
   ]
  },
  {
   "cell_type": "code",
   "execution_count": 49,
   "id": "f392f861-78f1-44ea-b186-b8a8365be1a8",
   "metadata": {},
   "outputs": [
    {
     "name": "stdout",
     "output_type": "stream",
     "text": [
      "<class 'pandas.core.frame.DataFrame'>\n",
      "RangeIndex: 4526182 entries, 0 to 4526181\n",
      "Data columns (total 5 columns):\n",
      " #   Column                 Dtype  \n",
      "---  ------                 -----  \n",
      " 0   system_calendar_key_N  int64  \n",
      " 1   product_id             int64  \n",
      " 2   sales_dollars_value    float64\n",
      " 3   sales_units_value      int64  \n",
      " 4   sales_lbs_value        int64  \n",
      "dtypes: float64(1), int64(4)\n",
      "memory usage: 172.7 MB\n"
     ]
    }
   ],
   "source": [
    "sales.info()"
   ]
  },
  {
   "cell_type": "code",
   "execution_count": 50,
   "id": "7ad0ca51-1d60-4fdc-bb31-4e8346388615",
   "metadata": {},
   "outputs": [
    {
     "data": {
      "text/html": [
       "<div>\n",
       "<style scoped>\n",
       "    .dataframe tbody tr th:only-of-type {\n",
       "        vertical-align: middle;\n",
       "    }\n",
       "\n",
       "    .dataframe tbody tr th {\n",
       "        vertical-align: top;\n",
       "    }\n",
       "\n",
       "    .dataframe thead th {\n",
       "        text-align: right;\n",
       "    }\n",
       "</style>\n",
       "<table border=\"1\" class=\"dataframe\">\n",
       "  <thead>\n",
       "    <tr style=\"text-align: right;\">\n",
       "      <th></th>\n",
       "      <th>calender_key</th>\n",
       "      <th>product_id</th>\n",
       "      <th>sales_dollars_value</th>\n",
       "      <th>sales_units_value</th>\n",
       "      <th>sales_lbs_value</th>\n",
       "    </tr>\n",
       "  </thead>\n",
       "  <tbody>\n",
       "    <tr>\n",
       "      <th>0</th>\n",
       "      <td>2016-01-09</td>\n",
       "      <td>1</td>\n",
       "      <td>13927</td>\n",
       "      <td>934</td>\n",
       "      <td>18680</td>\n",
       "    </tr>\n",
       "    <tr>\n",
       "      <th>1</th>\n",
       "      <td>2016-01-09</td>\n",
       "      <td>3</td>\n",
       "      <td>10289</td>\n",
       "      <td>1592</td>\n",
       "      <td>28646</td>\n",
       "    </tr>\n",
       "    <tr>\n",
       "      <th>2</th>\n",
       "      <td>2016-01-09</td>\n",
       "      <td>4</td>\n",
       "      <td>357</td>\n",
       "      <td>22</td>\n",
       "      <td>440</td>\n",
       "    </tr>\n",
       "    <tr>\n",
       "      <th>3</th>\n",
       "      <td>2016-01-09</td>\n",
       "      <td>6</td>\n",
       "      <td>23113</td>\n",
       "      <td>2027</td>\n",
       "      <td>81088</td>\n",
       "    </tr>\n",
       "    <tr>\n",
       "      <th>4</th>\n",
       "      <td>2016-01-09</td>\n",
       "      <td>7</td>\n",
       "      <td>23177</td>\n",
       "      <td>3231</td>\n",
       "      <td>58164</td>\n",
       "    </tr>\n",
       "  </tbody>\n",
       "</table>\n",
       "</div>"
      ],
      "text/plain": [
       "  calender_key  product_id  sales_dollars_value  sales_units_value  \\\n",
       "0   2016-01-09           1                13927                934   \n",
       "1   2016-01-09           3                10289               1592   \n",
       "2   2016-01-09           4                  357                 22   \n",
       "3   2016-01-09           6                23113               2027   \n",
       "4   2016-01-09           7                23177               3231   \n",
       "\n",
       "   sales_lbs_value  \n",
       "0            18680  \n",
       "1            28646  \n",
       "2              440  \n",
       "3            81088  \n",
       "4            58164  "
      ]
     },
     "execution_count": 50,
     "metadata": {},
     "output_type": "execute_result"
    }
   ],
   "source": [
    "sales_clean = (\n",
    "    sales\n",
    "    \n",
    "    .copy()\n",
    "    #.sample(frac=1, resample=False)\n",
    "\n",
    "    # drop unnecessary columns\n",
    "    #.drop(['Unnamed: 0'], axis = 1)\n",
    "\n",
    "    # set dtypes\n",
    "    .change_type(['sales_dollars_value'], np.int64)\n",
    "\n",
    "    # drop duplicates\n",
    "    .drop_duplicates()\n",
    "\n",
    "    # clean column names                                                                                                                                   \n",
    "    .clean_names(case_type='snake')\n",
    "    .rename_columns({'system_calendar_key_n': 'calender_key'})\n",
    ")\n",
    "sales_clean['calender_key'] = pd.to_datetime(sales_clean['calender_key'], format='%Y%m%d')\n",
    "sales_clean.head()\n"
   ]
  },
  {
   "cell_type": "code",
   "execution_count": 51,
   "id": "256514dd-058d-4f12-8251-92bfcf23c171",
   "metadata": {},
   "outputs": [
    {
     "name": "stdout",
     "output_type": "stream",
     "text": [
      "<class 'pandas.core.frame.DataFrame'>\n",
      "Int64Index: 4526182 entries, 0 to 4526181\n",
      "Data columns (total 5 columns):\n",
      " #   Column               Dtype         \n",
      "---  ------               -----         \n",
      " 0   calender_key         datetime64[ns]\n",
      " 1   product_id           int64         \n",
      " 2   sales_dollars_value  int64         \n",
      " 3   sales_units_value    int64         \n",
      " 4   sales_lbs_value      int64         \n",
      "dtypes: datetime64[ns](1), int64(4)\n",
      "memory usage: 207.2 MB\n"
     ]
    }
   ],
   "source": [
    "sales_clean.info()"
   ]
  },
  {
   "cell_type": "code",
   "execution_count": 52,
   "id": "1971703f-314c-436d-8e06-54016ce5809e",
   "metadata": {},
   "outputs": [],
   "source": [
    "save_dataset(context, sales_clean, 'cleaned/sales_data')"
   ]
  },
  {
   "cell_type": "markdown",
   "id": "4c3518d2-c8ea-4fc8-b24f-58deaab68429",
   "metadata": {},
   "source": [
    "### Social Media\n",
    "\n",
    "From discovery, it is known that:\n",
    "* key columns: None\n",
    "* integer columns: total_post, Theme Id\n",
    "* date columns:  published_date"
   ]
  },
  {
   "cell_type": "code",
   "execution_count": 53,
   "id": "f41f5364-8ded-4b41-a14b-5d9d7595dbaa",
   "metadata": {},
   "outputs": [
    {
     "name": "stdout",
     "output_type": "stream",
     "text": [
      "<class 'pandas.core.frame.DataFrame'>\n",
      "RangeIndex: 533390 entries, 0 to 533389\n",
      "Data columns (total 3 columns):\n",
      " #   Column          Non-Null Count   Dtype  \n",
      "---  ------          --------------   -----  \n",
      " 0   Theme Id        314879 non-null  float64\n",
      " 1   published_date  533390 non-null  object \n",
      " 2   total_post      533390 non-null  int64  \n",
      "dtypes: float64(1), int64(1), object(1)\n",
      "memory usage: 12.2+ MB\n"
     ]
    }
   ],
   "source": [
    "media.info()"
   ]
  },
  {
   "cell_type": "code",
   "execution_count": 54,
   "id": "0737a55e-fa2a-408c-98a4-dfc4784206aa",
   "metadata": {},
   "outputs": [
    {
     "data": {
      "text/html": [
       "<div>\n",
       "<style scoped>\n",
       "    .dataframe tbody tr th:only-of-type {\n",
       "        vertical-align: middle;\n",
       "    }\n",
       "\n",
       "    .dataframe tbody tr th {\n",
       "        vertical-align: top;\n",
       "    }\n",
       "\n",
       "    .dataframe thead th {\n",
       "        text-align: right;\n",
       "    }\n",
       "</style>\n",
       "<table border=\"1\" class=\"dataframe\">\n",
       "  <thead>\n",
       "    <tr style=\"text-align: right;\">\n",
       "      <th></th>\n",
       "      <th>Theme Id</th>\n",
       "      <th>published_date</th>\n",
       "      <th>total_post</th>\n",
       "    </tr>\n",
       "  </thead>\n",
       "  <tbody>\n",
       "    <tr>\n",
       "      <th>0</th>\n",
       "      <td>148.0</td>\n",
       "      <td>10-01-2015</td>\n",
       "      <td>76</td>\n",
       "    </tr>\n",
       "    <tr>\n",
       "      <th>1</th>\n",
       "      <td>148.0</td>\n",
       "      <td>10-10-2015</td>\n",
       "      <td>31</td>\n",
       "    </tr>\n",
       "    <tr>\n",
       "      <th>2</th>\n",
       "      <td>148.0</td>\n",
       "      <td>10-11-2015</td>\n",
       "      <td>65</td>\n",
       "    </tr>\n",
       "    <tr>\n",
       "      <th>3</th>\n",
       "      <td>148.0</td>\n",
       "      <td>10-12-2015</td>\n",
       "      <td>88</td>\n",
       "    </tr>\n",
       "    <tr>\n",
       "      <th>4</th>\n",
       "      <td>148.0</td>\n",
       "      <td>10/13/2015</td>\n",
       "      <td>85</td>\n",
       "    </tr>\n",
       "  </tbody>\n",
       "</table>\n",
       "</div>"
      ],
      "text/plain": [
       "   Theme Id published_date  total_post\n",
       "0     148.0     10-01-2015          76\n",
       "1     148.0     10-10-2015          31\n",
       "2     148.0     10-11-2015          65\n",
       "3     148.0     10-12-2015          88\n",
       "4     148.0     10/13/2015          85"
      ]
     },
     "execution_count": 54,
     "metadata": {},
     "output_type": "execute_result"
    }
   ],
   "source": [
    "media.head()"
   ]
  },
  {
   "cell_type": "code",
   "execution_count": 55,
   "id": "8d2e982a-46c4-4c38-9c52-d5779ad07276",
   "metadata": {},
   "outputs": [
    {
     "data": {
      "text/html": [
       "<div>\n",
       "<style scoped>\n",
       "    .dataframe tbody tr th:only-of-type {\n",
       "        vertical-align: middle;\n",
       "    }\n",
       "\n",
       "    .dataframe tbody tr th {\n",
       "        vertical-align: top;\n",
       "    }\n",
       "\n",
       "    .dataframe thead th {\n",
       "        text-align: right;\n",
       "    }\n",
       "</style>\n",
       "<table border=\"1\" class=\"dataframe\">\n",
       "  <thead>\n",
       "    <tr style=\"text-align: right;\">\n",
       "      <th></th>\n",
       "      <th>theme_id</th>\n",
       "      <th>published_date</th>\n",
       "      <th>total_post</th>\n",
       "    </tr>\n",
       "  </thead>\n",
       "  <tbody>\n",
       "    <tr>\n",
       "      <th>0</th>\n",
       "      <td>8</td>\n",
       "      <td>2015-05-21</td>\n",
       "      <td>104</td>\n",
       "    </tr>\n",
       "    <tr>\n",
       "      <th>1</th>\n",
       "      <td>8</td>\n",
       "      <td>2015-05-22</td>\n",
       "      <td>92</td>\n",
       "    </tr>\n",
       "    <tr>\n",
       "      <th>2</th>\n",
       "      <td>8</td>\n",
       "      <td>2015-05-23</td>\n",
       "      <td>111</td>\n",
       "    </tr>\n",
       "    <tr>\n",
       "      <th>3</th>\n",
       "      <td>8</td>\n",
       "      <td>2015-05-24</td>\n",
       "      <td>105</td>\n",
       "    </tr>\n",
       "    <tr>\n",
       "      <th>4</th>\n",
       "      <td>8</td>\n",
       "      <td>2015-05-25</td>\n",
       "      <td>106</td>\n",
       "    </tr>\n",
       "  </tbody>\n",
       "</table>\n",
       "</div>"
      ],
      "text/plain": [
       "   theme_id published_date  total_post\n",
       "0         8     2015-05-21         104\n",
       "1         8     2015-05-22          92\n",
       "2         8     2015-05-23         111\n",
       "3         8     2015-05-24         105\n",
       "4         8     2015-05-25         106"
      ]
     },
     "execution_count": 55,
     "metadata": {},
     "output_type": "execute_result"
    }
   ],
   "source": [
    "str_cols = list(\n",
    "    set(media.select_dtypes('object').columns.to_list())) \n",
    "\n",
    "media_clean = (\n",
    "    media\n",
    "    \n",
    "    .copy()\n",
    "    #.sample(frac=1, resample=False)\n",
    "    \n",
    "    # drop nulls\n",
    "    .dropna(subset=['Theme Id'], how='any')\n",
    "\n",
    "    # set dtypes\n",
    "    .change_type(['Theme Id'], np.int64)\n",
    "    \n",
    "    # clean column names                                                                                                                                   \n",
    "    .clean_names(case_type='snake')\n",
    ")\n",
    "\n",
    "media_clean['published_date'] = pd.to_datetime(media_clean['published_date'])\n",
    "media_clean = media_clean.groupby(['theme_id','published_date'], as_index = False)['total_post'].sum()\n",
    "media_clean.head()"
   ]
  },
  {
   "cell_type": "code",
   "execution_count": 56,
   "id": "95c5326f-1499-41ca-9170-bd554882f602",
   "metadata": {},
   "outputs": [],
   "source": [
    "save_dataset(context, media_clean, 'cleaned/social_media_data')"
   ]
  },
  {
   "cell_type": "markdown",
   "id": "b1a715f1-8a73-4785-b063-b7a5f54ee0e8",
   "metadata": {},
   "source": [
    "### Themes list \n",
    "From discovery, it is known that:\n",
    "* key columns: CLAIM_ID, Claim Name\n",
    "* integer columns: CLAIM_ID\n",
    "* str columns:  Claim Name"
   ]
  },
  {
   "cell_type": "code",
   "execution_count": 57,
   "id": "8e7625bf-ef90-4a77-8f53-c8b203f15058",
   "metadata": {},
   "outputs": [
    {
     "name": "stdout",
     "output_type": "stream",
     "text": [
      "<class 'pandas.core.frame.DataFrame'>\n",
      "RangeIndex: 208 entries, 0 to 207\n",
      "Data columns (total 2 columns):\n",
      " #   Column      Non-Null Count  Dtype \n",
      "---  ------      --------------  ----- \n",
      " 0   CLAIM_ID    208 non-null    int64 \n",
      " 1   Claim Name  208 non-null    object\n",
      "dtypes: int64(1), object(1)\n",
      "memory usage: 3.4+ KB\n"
     ]
    }
   ],
   "source": [
    "themes.info()"
   ]
  },
  {
   "cell_type": "code",
   "execution_count": 58,
   "id": "f99b5a0f-6e98-4b0c-bad5-046b6567dc4e",
   "metadata": {},
   "outputs": [
    {
     "data": {
      "text/html": [
       "<div>\n",
       "<style scoped>\n",
       "    .dataframe tbody tr th:only-of-type {\n",
       "        vertical-align: middle;\n",
       "    }\n",
       "\n",
       "    .dataframe tbody tr th {\n",
       "        vertical-align: top;\n",
       "    }\n",
       "\n",
       "    .dataframe thead th {\n",
       "        text-align: right;\n",
       "    }\n",
       "</style>\n",
       "<table border=\"1\" class=\"dataframe\">\n",
       "  <thead>\n",
       "    <tr style=\"text-align: right;\">\n",
       "      <th></th>\n",
       "      <th>claim_id</th>\n",
       "      <th>claim_name</th>\n",
       "    </tr>\n",
       "  </thead>\n",
       "  <tbody>\n",
       "    <tr>\n",
       "      <th>0</th>\n",
       "      <td>0</td>\n",
       "      <td>No Claim</td>\n",
       "    </tr>\n",
       "    <tr>\n",
       "      <th>1</th>\n",
       "      <td>8</td>\n",
       "      <td>low carb</td>\n",
       "    </tr>\n",
       "    <tr>\n",
       "      <th>2</th>\n",
       "      <td>15</td>\n",
       "      <td>beans</td>\n",
       "    </tr>\n",
       "    <tr>\n",
       "      <th>3</th>\n",
       "      <td>16</td>\n",
       "      <td>cocoa</td>\n",
       "    </tr>\n",
       "    <tr>\n",
       "      <th>4</th>\n",
       "      <td>26</td>\n",
       "      <td>vanilla</td>\n",
       "    </tr>\n",
       "  </tbody>\n",
       "</table>\n",
       "</div>"
      ],
      "text/plain": [
       "   claim_id claim_name\n",
       "0         0   No Claim\n",
       "1         8   low carb\n",
       "2        15      beans\n",
       "3        16      cocoa\n",
       "4        26    vanilla"
      ]
     },
     "execution_count": 58,
     "metadata": {},
     "output_type": "execute_result"
    }
   ],
   "source": [
    "str_cols = ['Claim Name']\n",
    "themes_clean = (\n",
    "    themes\n",
    "    \n",
    "    .copy()\n",
    "    #.sample(frac=1, resample=False)\n",
    "\n",
    "    # set dtypes\n",
    "    .change_type(['CLAIM_ID'], np.int64)\n",
    "\n",
    "    # clean string columns (NOTE: only after setting datetime)\n",
    "    .transform_columns(str_cols, string_cleaning, elementwise=False)\n",
    "\n",
    "    # ensure that the key column does not have duplicate records\n",
    "    .remove_duplicate_rows(col_names=['CLAIM_ID'], keep_first=True)\n",
    "    .remove_duplicate_rows(col_names=['Claim Name'], keep_first=True) \n",
    "    \n",
    "    # clean column names                                                                                                                                   \n",
    "    .clean_names(case_type='snake')\n",
    ")\n",
    "themes_clean.head()"
   ]
  },
  {
   "cell_type": "code",
   "execution_count": 59,
   "id": "925ff520-3cbe-4128-85b0-ef922ad1abd7",
   "metadata": {},
   "outputs": [],
   "source": [
    "save_dataset(context, themes_clean, 'cleaned/theme_list')"
   ]
  },
  {
   "cell_type": "markdown",
   "id": "eeea51ab-ee1d-489d-828c-a2c6243cfbb5",
   "metadata": {},
   "source": [
    "### Themes Product list\n",
    "\n",
    "From discovery, it is known that:\n",
    "* key columns: None\n",
    "* integer columns: CLAIM_ID, PRODUCT_ID"
   ]
  },
  {
   "cell_type": "code",
   "execution_count": 60,
   "id": "d2acfc3f-f86b-44d8-8a08-59ec76deb59c",
   "metadata": {},
   "outputs": [
    {
     "name": "stdout",
     "output_type": "stream",
     "text": [
      "<class 'pandas.core.frame.DataFrame'>\n",
      "RangeIndex: 91485 entries, 0 to 91484\n",
      "Data columns (total 2 columns):\n",
      " #   Column      Non-Null Count  Dtype\n",
      "---  ------      --------------  -----\n",
      " 0   PRODUCT_ID  91485 non-null  int64\n",
      " 1   CLAIM_ID    91485 non-null  int64\n",
      "dtypes: int64(2)\n",
      "memory usage: 1.4 MB\n"
     ]
    }
   ],
   "source": [
    "theme_product.info()"
   ]
  },
  {
   "cell_type": "code",
   "execution_count": 61,
   "id": "eb92720f-1dad-48b3-81ec-197095a90b47",
   "metadata": {},
   "outputs": [
    {
     "data": {
      "text/html": [
       "<div>\n",
       "<style scoped>\n",
       "    .dataframe tbody tr th:only-of-type {\n",
       "        vertical-align: middle;\n",
       "    }\n",
       "\n",
       "    .dataframe tbody tr th {\n",
       "        vertical-align: top;\n",
       "    }\n",
       "\n",
       "    .dataframe thead th {\n",
       "        text-align: right;\n",
       "    }\n",
       "</style>\n",
       "<table border=\"1\" class=\"dataframe\">\n",
       "  <thead>\n",
       "    <tr style=\"text-align: right;\">\n",
       "      <th></th>\n",
       "      <th>product_id</th>\n",
       "      <th>claim_id</th>\n",
       "    </tr>\n",
       "  </thead>\n",
       "  <tbody>\n",
       "    <tr>\n",
       "      <th>0</th>\n",
       "      <td>26</td>\n",
       "      <td>8</td>\n",
       "    </tr>\n",
       "    <tr>\n",
       "      <th>1</th>\n",
       "      <td>29</td>\n",
       "      <td>8</td>\n",
       "    </tr>\n",
       "    <tr>\n",
       "      <th>2</th>\n",
       "      <td>48</td>\n",
       "      <td>81</td>\n",
       "    </tr>\n",
       "    <tr>\n",
       "      <th>3</th>\n",
       "      <td>50</td>\n",
       "      <td>81</td>\n",
       "    </tr>\n",
       "    <tr>\n",
       "      <th>4</th>\n",
       "      <td>74</td>\n",
       "      <td>227</td>\n",
       "    </tr>\n",
       "  </tbody>\n",
       "</table>\n",
       "</div>"
      ],
      "text/plain": [
       "   product_id  claim_id\n",
       "0          26         8\n",
       "1          29         8\n",
       "2          48        81\n",
       "3          50        81\n",
       "4          74       227"
      ]
     },
     "execution_count": 61,
     "metadata": {},
     "output_type": "execute_result"
    }
   ],
   "source": [
    "theme_product_clean = (\n",
    "    theme_product\n",
    "    \n",
    "    .copy()\n",
    "    #.sample(frac=1, resample=False)\n",
    "\n",
    "    # set dtypes\n",
    "    .change_type(['CLAIM_ID', 'PRODUCT_ID'], np.int64)\n",
    "\n",
    "    # clean column names                                                                                                                                   \n",
    "    .clean_names(case_type='snake')\n",
    ")\n",
    "theme_product_clean.head()"
   ]
  },
  {
   "cell_type": "code",
   "execution_count": 62,
   "id": "64d85f94-d049-4efb-9314-dfbc3480d0b8",
   "metadata": {},
   "outputs": [],
   "source": [
    "save_dataset(context, theme_product_clean, 'cleaned/theme_product_list')"
   ]
  }
 ],
 "metadata": {
  "kernelspec": {
   "display_name": "Python 3 (ipykernel)",
   "language": "python",
   "name": "python3"
  },
  "language_info": {
   "codemirror_mode": {
    "name": "ipython",
    "version": 3
   },
   "file_extension": ".py",
   "mimetype": "text/x-python",
   "name": "python",
   "nbconvert_exporter": "python",
   "pygments_lexer": "ipython3",
   "version": "3.9.16"
  }
 },
 "nbformat": 4,
 "nbformat_minor": 5
}
