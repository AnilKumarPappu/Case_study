{
 "cells": [
  {
   "cell_type": "markdown",
   "id": "2a155b9f-de18-4e8f-bdf1-eafcb593df80",
   "metadata": {},
   "source": [
    "# Imports"
   ]
  },
  {
   "cell_type": "code",
   "execution_count": 45,
   "id": "b9b52ef9-8255-4fd2-8f32-a8e398820611",
   "metadata": {},
   "outputs": [],
   "source": [
    "import warnings\n",
    "\n",
    "warnings.filterwarnings('ignore', message=\"pandas.Int64Index is deprecated and will be removed from pandas in a future version. Use pandas.Index with the appropriate dtype instead.\", \n",
    "                        category=FutureWarning)\n",
    "warnings.filterwarnings('ignore', message=\"pandas.Float64Index is deprecated and will be removed from pandas in a future version. Use pandas.Index with the appropriate dtype instead.\",\n",
    "                        category=FutureWarning)\n",
    "warnings.filterwarnings('ignore', message='{ \"early_stopping_rounds\" } might not be used.')"
   ]
  },
  {
   "cell_type": "code",
   "execution_count": 46,
   "id": "e772f547-a069-4404-9275-eaa3860054d6",
   "metadata": {},
   "outputs": [],
   "source": [
    "import numpy as np\n",
    "import pandas as pd\n",
    "import random\n",
    "\n",
    "import xgboost\n",
    "from xgboost import XGBRegressor\n",
    "from sklearn.model_selection import KFold\n",
    "from sklearn.metrics import mean_absolute_percentage_error\n",
    "from sklearn.preprocessing import LabelEncoder, StandardScaler\n",
    "\n",
    "from pprint import pprint\n",
    "import os\n",
    "import os.path as op\n",
    "import shutil\n",
    "\n",
    "import matplotlib.pyplot as plt \n",
    "%matplotlib inline\n",
    "\n",
    "import seaborn as sns\n",
    "sns.set_style('darkgrid')\n",
    "sns.set_palette('viridis')\n",
    "from sklearn.model_selection import train_test_split"
   ]
  },
  {
   "cell_type": "code",
   "execution_count": 47,
   "id": "4f049a60-e46a-4755-98f8-73ccfac07140",
   "metadata": {},
   "outputs": [
    {
     "name": "stdout",
     "output_type": "stream",
     "text": [
      "The autoreload extension is already loaded. To reload it, use:\n",
      "  %reload_ext autoreload\n"
     ]
    }
   ],
   "source": [
    "%load_ext autoreload\n",
    "%autoreload 2"
   ]
  },
  {
   "cell_type": "code",
   "execution_count": 48,
   "id": "fc514e91-5e10-4918-b430-9f93e692edc8",
   "metadata": {},
   "outputs": [],
   "source": [
    "# standard code-template imports\n",
    "from ta_lib.core.api import (\n",
    "    create_context, get_dataframe, get_feature_names_from_column_transformer, string_cleaning,\n",
    "    get_package_path, display_as_tabs, save_pipeline, load_pipeline, initialize_environment,\n",
    "    load_dataset, save_dataset, DEFAULT_ARTIFACTS_PATH, list_datasets\n",
    ")\n",
    "\n",
    "import ta_lib.eda.api as eda\n",
    "from xgboost import XGBRegressor\n",
    "from ta_lib.regression.api import SKLStatsmodelOLS\n",
    "from ta_lib.regression.api import RegressionComparison, RegressionReport\n",
    "import ta_lib.reports.api as reports\n",
    "from ta_lib.data_processing.api import Outlier\n",
    "\n",
    "initialize_environment(debug=False, hide_warnings=True)"
   ]
  },
  {
   "cell_type": "markdown",
   "id": "867ee684-27f5-4841-8ea0-d1020c6a996c",
   "metadata": {},
   "source": [
    "# Initialsation"
   ]
  },
  {
   "cell_type": "code",
   "execution_count": 49,
   "id": "c8c8c171-5434-4ade-8c50-167cf6e1eea1",
   "metadata": {},
   "outputs": [],
   "source": [
    "artifacts_folder = DEFAULT_ARTIFACTS_PATH"
   ]
  },
  {
   "cell_type": "code",
   "execution_count": 50,
   "id": "e042e4f6-a760-498c-8457-5a8e01eb3985",
   "metadata": {},
   "outputs": [
    {
     "name": "stdout",
     "output_type": "stream",
     "text": [
      "['/raw/google_search_data',\n",
      " '/raw/product_manufacturer_list',\n",
      " '/raw/sales_data',\n",
      " '/raw/social_media_data',\n",
      " '/raw/theme_list',\n",
      " '/raw/theme_product_list',\n",
      " '/cleaned/google_search_data',\n",
      " '/cleaned/product_manufacturer_list',\n",
      " '/cleaned/sales_data',\n",
      " '/cleaned/social_media_data',\n",
      " '/cleaned/theme_list',\n",
      " '/cleaned/theme_product_list',\n",
      " '/train/train']\n"
     ]
    }
   ],
   "source": [
    "config_path = op.join('conf', 'config.yml')\n",
    "context = create_context(config_path)\n",
    "pprint(list_datasets(context))"
   ]
  },
  {
   "cell_type": "code",
   "execution_count": 51,
   "id": "2ee80686-b29e-45b1-97ac-453cd9b68bbc",
   "metadata": {},
   "outputs": [],
   "source": [
    "train = pd.read_csv('social_google_sales.csv')"
   ]
  },
  {
   "cell_type": "code",
   "execution_count": 52,
   "id": "29974c5b-1db2-4baa-9197-7a565645de85",
   "metadata": {},
   "outputs": [
    {
     "data": {
      "text/html": [
       "<div>\n",
       "<style scoped>\n",
       "    .dataframe tbody tr th:only-of-type {\n",
       "        vertical-align: middle;\n",
       "    }\n",
       "\n",
       "    .dataframe tbody tr th {\n",
       "        vertical-align: top;\n",
       "    }\n",
       "\n",
       "    .dataframe thead th {\n",
       "        text-align: right;\n",
       "    }\n",
       "</style>\n",
       "<table border=\"1\" class=\"dataframe\">\n",
       "  <thead>\n",
       "    <tr style=\"text-align: right;\">\n",
       "      <th></th>\n",
       "      <th>Unnamed: 0</th>\n",
       "      <th>year</th>\n",
       "      <th>week</th>\n",
       "      <th>total_post</th>\n",
       "      <th>claim_id</th>\n",
       "      <th>search_volume</th>\n",
       "      <th>sales_dollars_value</th>\n",
       "      <th>sales_units_value</th>\n",
       "      <th>sales_lbs_value</th>\n",
       "    </tr>\n",
       "  </thead>\n",
       "  <tbody>\n",
       "    <tr>\n",
       "      <th>0</th>\n",
       "      <td>0</td>\n",
       "      <td>2016</td>\n",
       "      <td>1</td>\n",
       "      <td>726</td>\n",
       "      <td>8</td>\n",
       "      <td>49214</td>\n",
       "      <td>8853853</td>\n",
       "      <td>1952575</td>\n",
       "      <td>2947044</td>\n",
       "    </tr>\n",
       "    <tr>\n",
       "      <th>1</th>\n",
       "      <td>1</td>\n",
       "      <td>2016</td>\n",
       "      <td>2</td>\n",
       "      <td>1180</td>\n",
       "      <td>8</td>\n",
       "      <td>46543</td>\n",
       "      <td>8705721</td>\n",
       "      <td>1921171</td>\n",
       "      <td>2901409</td>\n",
       "    </tr>\n",
       "    <tr>\n",
       "      <th>2</th>\n",
       "      <td>2</td>\n",
       "      <td>2016</td>\n",
       "      <td>3</td>\n",
       "      <td>2014</td>\n",
       "      <td>8</td>\n",
       "      <td>44716</td>\n",
       "      <td>8839233</td>\n",
       "      <td>1968251</td>\n",
       "      <td>2954048</td>\n",
       "    </tr>\n",
       "    <tr>\n",
       "      <th>3</th>\n",
       "      <td>3</td>\n",
       "      <td>2016</td>\n",
       "      <td>4</td>\n",
       "      <td>1586</td>\n",
       "      <td>8</td>\n",
       "      <td>53664</td>\n",
       "      <td>8872568</td>\n",
       "      <td>1974980</td>\n",
       "      <td>2941180</td>\n",
       "    </tr>\n",
       "    <tr>\n",
       "      <th>4</th>\n",
       "      <td>4</td>\n",
       "      <td>2016</td>\n",
       "      <td>5</td>\n",
       "      <td>1357</td>\n",
       "      <td>8</td>\n",
       "      <td>47560</td>\n",
       "      <td>9166248</td>\n",
       "      <td>2092314</td>\n",
       "      <td>3012709</td>\n",
       "    </tr>\n",
       "  </tbody>\n",
       "</table>\n",
       "</div>"
      ],
      "text/plain": [
       "   Unnamed: 0  year  week  total_post  claim_id  search_volume  \\\n",
       "0           0  2016     1         726         8          49214   \n",
       "1           1  2016     2        1180         8          46543   \n",
       "2           2  2016     3        2014         8          44716   \n",
       "3           3  2016     4        1586         8          53664   \n",
       "4           4  2016     5        1357         8          47560   \n",
       "\n",
       "   sales_dollars_value  sales_units_value  sales_lbs_value  \n",
       "0              8853853            1952575          2947044  \n",
       "1              8705721            1921171          2901409  \n",
       "2              8839233            1968251          2954048  \n",
       "3              8872568            1974980          2941180  \n",
       "4              9166248            2092314          3012709  "
      ]
     },
     "execution_count": 52,
     "metadata": {},
     "output_type": "execute_result"
    }
   ],
   "source": [
    "train.head()"
   ]
  },
  {
   "cell_type": "markdown",
   "id": "673014af-efff-4922-b235-5267ccbcde5d",
   "metadata": {},
   "source": [
    "## Modelling"
   ]
  },
  {
   "cell_type": "code",
   "execution_count": 57,
   "id": "9f5b80c2-90f0-430c-9608-ba31b59d8f68",
   "metadata": {},
   "outputs": [],
   "source": [
    "features = train.drop(['Unnamed: 0', 'sales_dollars_value',, 'sales_units_value'], axis = 1).columns\n",
    "target = 'sales_dollars_value'"
   ]
  },
  {
   "cell_type": "code",
   "execution_count": 58,
   "id": "362b2031-f55d-4b88-967e-9d4b9948092e",
   "metadata": {},
   "outputs": [
    {
     "data": {
      "text/plain": [
       "Index(['year', 'week', 'total_post', 'search_volume', 'sales_lbs_value'], dtype='object')"
      ]
     },
     "execution_count": 58,
     "metadata": {},
     "output_type": "execute_result"
    }
   ],
   "source": [
    "features"
   ]
  },
  {
   "cell_type": "code",
   "execution_count": 59,
   "id": "b16c0e15-1709-41f5-9f6b-7b7bf82b3765",
   "metadata": {},
   "outputs": [],
   "source": [
    "xgb_params = {'n_estimators': 1500,\n",
    "              'max_depth' : 10,\n",
    "              'learning_rate' : 0.1,\n",
    "              'eval_metric': 'mape',\n",
    "              'n_jobs': -1 }"
   ]
  },
  {
   "cell_type": "markdown",
   "id": "eb90a3c8-2215-40e4-ae92-25da804a4ae3",
   "metadata": {},
   "source": [
    "sc = StandardScaler()\n",
    "train[features] = sc.fit_transform(train[features])\n"
   ]
  },
  {
   "cell_type": "code",
   "execution_count": 60,
   "id": "a57ea405-4760-47af-986c-725b0d6990d2",
   "metadata": {},
   "outputs": [
    {
     "name": "stdout",
     "output_type": "stream",
     "text": [
      "Fold 0 ---------------------------------------------------------------------------\n",
      "[0]\tvalidation_0-mape:0.89875\n",
      "[1000]\tvalidation_0-mape:0.15131\n",
      "[1499]\tvalidation_0-mape:0.15127\n",
      "MAPE: 0.15126630715522824\n",
      "\n",
      "Fold 1 ---------------------------------------------------------------------------\n",
      "[0]\tvalidation_0-mape:0.89935\n",
      "[1000]\tvalidation_0-mape:0.21643\n",
      "[1499]\tvalidation_0-mape:0.21642\n",
      "MAPE: 0.21641880391458432\n",
      "\n",
      "Fold 2 ---------------------------------------------------------------------------\n",
      "[0]\tvalidation_0-mape:0.98726\n",
      "[1000]\tvalidation_0-mape:0.17230\n",
      "[1499]\tvalidation_0-mape:0.17634\n",
      "MAPE: 0.17634413302188368\n",
      "\n",
      "Fold 3 ---------------------------------------------------------------------------\n",
      "[0]\tvalidation_0-mape:0.90038\n",
      "[1000]\tvalidation_0-mape:0.06765\n",
      "[1499]\tvalidation_0-mape:0.06764\n",
      "MAPE: 0.06764328140519942\n",
      "\n",
      "Fold 4 ---------------------------------------------------------------------------\n",
      "[0]\tvalidation_0-mape:0.90128\n",
      "[1000]\tvalidation_0-mape:0.07825\n",
      "[1499]\tvalidation_0-mape:0.07830\n",
      "MAPE: 0.07829490736451115\n",
      "\n",
      "Fold 5 ---------------------------------------------------------------------------\n",
      "[0]\tvalidation_0-mape:0.90101\n",
      "[1000]\tvalidation_0-mape:0.16763\n",
      "[1499]\tvalidation_0-mape:0.16765\n",
      "MAPE: 0.16765366627325984\n",
      "\n",
      "Fold 6 ---------------------------------------------------------------------------\n",
      "[0]\tvalidation_0-mape:0.89813\n",
      "[1000]\tvalidation_0-mape:0.14350\n",
      "[1499]\tvalidation_0-mape:0.14367\n",
      "MAPE: 0.14366961863039113\n",
      "\n",
      "Fold 7 ---------------------------------------------------------------------------\n",
      "[0]\tvalidation_0-mape:0.89933\n",
      "[1000]\tvalidation_0-mape:0.18377\n",
      "[1499]\tvalidation_0-mape:0.18379\n",
      "MAPE: 0.18379136370972426\n",
      "\n",
      "Fold 8 ---------------------------------------------------------------------------\n",
      "[0]\tvalidation_0-mape:0.89660\n",
      "[1000]\tvalidation_0-mape:0.08883\n",
      "[1499]\tvalidation_0-mape:0.08891\n",
      "MAPE: 0.08890840896785226\n",
      "\n",
      "Fold 9 ---------------------------------------------------------------------------\n",
      "[0]\tvalidation_0-mape:0.89552\n",
      "[1000]\tvalidation_0-mape:0.13327\n",
      "[1499]\tvalidation_0-mape:0.13326\n",
      "MAPE: 0.13325566363879635\n",
      "\n",
      "=== Average MAPE of 9 Folds: 0.14072461540814304===\n"
     ]
    }
   ],
   "source": [
    "k = 10\n",
    "mape_values = []\n",
    "kf = KFold(n_splits = 10, random_state = 42, shuffle = True)\n",
    "\n",
    "for fold, (train_idx, val_idx) in enumerate(kf.split(train[features],train[target])):\n",
    "    \n",
    "    print('Fold {}'.format(fold), '-'*75)\n",
    "    \n",
    "    X_train, y_train = train.iloc[train_idx][features], train.iloc[train_idx][target]\n",
    "    X_val, y_val = train.iloc[val_idx][features], train.iloc[val_idx][target]\n",
    "    \n",
    "    xgb = XGBRegressor(**xgb_params,\n",
    "                       early_stopping_rounds = 250,\n",
    "                       random_state = 42,\n",
    "                       verbosity = 0\n",
    "                      )\n",
    "    \n",
    "    xgb.fit(X_train, y_train,\n",
    "           eval_set = [(X_val, y_val)],\n",
    "           verbose = 1000)\n",
    "    \n",
    "    preds = xgb.predict(X_val)\n",
    "    \n",
    "    mape = mean_absolute_percentage_error(y_true = y_val, \n",
    "                                          y_pred= preds)\n",
    "    print(f'MAPE: {mape}')\n",
    "    print()\n",
    "    mape_values.append(mape)\n",
    "    \n",
    "print(f'=== Average MAPE of {fold} Folds: {np.mean(mape_values)}===')   "
   ]
  },
  {
   "cell_type": "code",
   "execution_count": 39,
   "id": "c8e3d57c-6fd2-4b34-ab5d-cb99292507ba",
   "metadata": {},
   "outputs": [
    {
     "data": {
      "image/png": "[encoded data removed]",
      "text/plain": [
       "<Figure size 1000x1000 with 1 Axes>"
      ]
     },
     "metadata": {},
     "output_type": "display_data"
    }
   ],
   "source": [
    "importances = pd.DataFrame({'feature':features, 'importance': np.round(xgb.feature_importances_, 3)})\n",
    "importances = importances.sort_values('importance').set_index('feature')\n",
    "\n",
    "fig, axs = plt.subplots(figsize = (10,10))\n",
    "_ = axs.set_title('Feature Importances for XGB', fontsize = 15)\n",
    "_ = axs.set_xlabel('Features', fontsize = 13)\n",
    "_ = axs.set_ylabel('Importance', fontsize = 13)\n",
    "\n",
    "importances.plot.barh(ax = axs)\n",
    "plt.savefig(\"./artifacts/xgb_baseline_importances.png\")"
   ]
  },
  {
   "cell_type": "code",
   "execution_count": null,
   "id": "915d1da4-866d-4d2b-9bed-1e72a1b3dfe8",
   "metadata": {},
   "outputs": [],
   "source": []
  }
 ],
 "metadata": {
  "kernelspec": {
   "display_name": "Python 3 (ipykernel)",
   "language": "python",
   "name": "python3"
  },
  "language_info": {
   "codemirror_mode": {
    "name": "ipython",
    "version": 3
   },
   "file_extension": ".py",
   "mimetype": "text/x-python",
   "name": "python",
   "nbconvert_exporter": "python",
   "pygments_lexer": "ipython3",
   "version": "3.9.16"
  }
 },
 "nbformat": 4,
 "nbformat_minor": 5
}
